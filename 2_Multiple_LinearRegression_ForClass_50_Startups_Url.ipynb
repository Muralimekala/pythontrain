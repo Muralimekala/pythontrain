{
  "nbformat": 4,
  "nbformat_minor": 0,
  "metadata": {
    "colab": {
      "name": "2-Multiple_LinearRegression_ForClass.ipynb",
      "version": "0.3.2",
      "provenance": [],
      "collapsed_sections": [],
      "include_colab_link": true
    },
    "kernelspec": {
      "display_name": "Python 3",
      "language": "python",
      "name": "python3"
    }
  },
  "cells": [
    {
      "cell_type": "markdown",
      "metadata": {
        "id": "view-in-github",
        "colab_type": "text"
      },
      "source": [
        "<a href=\"https://colab.research.google.com/github/Muralimekala/pythontrain/blob/master/2_Multiple_LinearRegression_ForClass_50_Startups_Url.ipynb\" target=\"_parent\"><img src=\"https://colab.research.google.com/assets/colab-badge.svg\" alt=\"Open In Colab\"/></a>"
      ]
    },
    {
      "metadata": {
        "id": "6l2U4kNjBo9U",
        "colab_type": "code",
        "colab": {}
      },
      "cell_type": "code",
      "source": [
        "#Steps :\n",
        "#1: Grab The Data\n",
        "#2: Separate the Data into Dependant and Independent Variables\n",
        "#3: Deal with Missing values (Impute/Drop) ** Not Required in this case **\n",
        "#4: Encode Non Numeric categorical Data and create dummy variables\n",
        "#5: Eliminate the Non Influencing factors (independent variables) \n",
        "#6: Feature Scale ** Not Used in this case **\n",
        "#7: Apply Dimensionality Reduction ** Not Used in this case **\n",
        "#8: Divide the data into training and testing data\n",
        "#9: Build the Model, Check the Co-Efficient and the Intercepts\n",
        "#10: Run The Model on Test Data using K-Fold Cross Val \n",
        "#11: Tune the Hyperparameters of the algorithm and Go to Step 9 till you find satisfactory accuracy\n",
        "#12: Interpret the Results"
      ],
      "execution_count": 0,
      "outputs": []
    },
    {
      "metadata": {
        "id": "FBbyB5_VBo9Z",
        "colab_type": "code",
        "colab": {
          "base_uri": "https://localhost:8080/",
          "height": 204
        },
        "outputId": "597cab96-f8db-45b4-a594-4b8be92e44e2"
      },
      "cell_type": "code",
      "source": [
        "# Multiple Linear Regression\n",
        "\n",
        "# Importing the libraries\n",
        "import numpy as np\n",
        "#import matplotlib.pyplot as plt\n",
        "import pandas as pd\n",
        "\n",
        "# Importing the dataset\n",
        "url = 'https://raw.githubusercontent.com/Muralimekala/pythontrain/master/50_Startups.csv'\n",
        "df = pd.read_csv(url)\n",
        "#50_Startups.csv\n",
        "df.head() ## Looking at top 5 records"
      ],
      "execution_count": 1,
      "outputs": [
        {
          "output_type": "execute_result",
          "data": {
            "text/html": [
              "<div>\n",
              "<style scoped>\n",
              "    .dataframe tbody tr th:only-of-type {\n",
              "        vertical-align: middle;\n",
              "    }\n",
              "\n",
              "    .dataframe tbody tr th {\n",
              "        vertical-align: top;\n",
              "    }\n",
              "\n",
              "    .dataframe thead th {\n",
              "        text-align: right;\n",
              "    }\n",
              "</style>\n",
              "<table border=\"1\" class=\"dataframe\">\n",
              "  <thead>\n",
              "    <tr style=\"text-align: right;\">\n",
              "      <th></th>\n",
              "      <th>R&amp;D Spend</th>\n",
              "      <th>Administration</th>\n",
              "      <th>Marketing Spend</th>\n",
              "      <th>State</th>\n",
              "      <th>Profit</th>\n",
              "    </tr>\n",
              "  </thead>\n",
              "  <tbody>\n",
              "    <tr>\n",
              "      <th>0</th>\n",
              "      <td>165349.20</td>\n",
              "      <td>136897.80</td>\n",
              "      <td>471784.10</td>\n",
              "      <td>New York</td>\n",
              "      <td>192261.83</td>\n",
              "    </tr>\n",
              "    <tr>\n",
              "      <th>1</th>\n",
              "      <td>162597.70</td>\n",
              "      <td>151377.59</td>\n",
              "      <td>443898.53</td>\n",
              "      <td>California</td>\n",
              "      <td>191792.06</td>\n",
              "    </tr>\n",
              "    <tr>\n",
              "      <th>2</th>\n",
              "      <td>153441.51</td>\n",
              "      <td>101145.55</td>\n",
              "      <td>407934.54</td>\n",
              "      <td>Florida</td>\n",
              "      <td>191050.39</td>\n",
              "    </tr>\n",
              "    <tr>\n",
              "      <th>3</th>\n",
              "      <td>144372.41</td>\n",
              "      <td>118671.85</td>\n",
              "      <td>383199.62</td>\n",
              "      <td>New York</td>\n",
              "      <td>182901.99</td>\n",
              "    </tr>\n",
              "    <tr>\n",
              "      <th>4</th>\n",
              "      <td>142107.34</td>\n",
              "      <td>91391.77</td>\n",
              "      <td>366168.42</td>\n",
              "      <td>Florida</td>\n",
              "      <td>166187.94</td>\n",
              "    </tr>\n",
              "  </tbody>\n",
              "</table>\n",
              "</div>"
            ],
            "text/plain": [
              "   R&D Spend  Administration  Marketing Spend       State     Profit\n",
              "0  165349.20       136897.80        471784.10    New York  192261.83\n",
              "1  162597.70       151377.59        443898.53  California  191792.06\n",
              "2  153441.51       101145.55        407934.54     Florida  191050.39\n",
              "3  144372.41       118671.85        383199.62    New York  182901.99\n",
              "4  142107.34        91391.77        366168.42     Florida  166187.94"
            ]
          },
          "metadata": {
            "tags": []
          },
          "execution_count": 1
        }
      ]
    },
    {
      "metadata": {
        "id": "gZPgAerLBo9i",
        "colab_type": "code",
        "colab": {
          "base_uri": "https://localhost:8080/",
          "height": 51
        },
        "outputId": "1b55cbad-290b-4591-a7de-e6f389ffaa2c"
      },
      "cell_type": "code",
      "source": [
        "## Lets see how many unique states exist\n",
        "unique=df.State.unique() ## equivaluent to select distinct in SQL and filter in excel\n",
        "print(unique)\n",
        "\n",
        "count=df.State.unique().size\n",
        "print(count)"
      ],
      "execution_count": 2,
      "outputs": [
        {
          "output_type": "stream",
          "text": [
            "['New York' 'California' 'Florida']\n",
            "3\n"
          ],
          "name": "stdout"
        }
      ]
    },
    {
      "metadata": {
        "id": "gxsjN61GBo9p",
        "colab_type": "code",
        "colab": {
          "base_uri": "https://localhost:8080/",
          "height": 68
        },
        "outputId": "f273ec8c-026a-43ab-a336-51913470f00b"
      },
      "cell_type": "code",
      "source": [
        "### Convert Non Numerical Categorical column into numeric ones\n",
        "##Check the categories which are non numerical\n",
        "\n",
        "categoryList = list(df.select_dtypes(include=['object']).columns) ## 'object' type means catgeorical variables\n",
        "print(categoryList)\n",
        "print(\"\\n\")"
      ],
      "execution_count": 3,
      "outputs": [
        {
          "output_type": "stream",
          "text": [
            "['State']\n",
            "\n",
            "\n"
          ],
          "name": "stdout"
        }
      ]
    },
    {
      "metadata": {
        "id": "00w77sFeBo9v",
        "colab_type": "code",
        "colab": {
          "base_uri": "https://localhost:8080/",
          "height": 153
        },
        "outputId": "ae105338-3209-423a-a509-74b1342e0a93"
      },
      "cell_type": "code",
      "source": [
        "## Create dummy variables for non numerical categorical variables\n",
        "dummies = pd.get_dummies(df[categoryList], prefix= categoryList)\n",
        "print(dummies.head())\n",
        "print(\"\\n\")"
      ],
      "execution_count": 4,
      "outputs": [
        {
          "output_type": "stream",
          "text": [
            "   State_California  State_Florida  State_New York\n",
            "0                 0              0               1\n",
            "1                 1              0               0\n",
            "2                 0              1               0\n",
            "3                 0              0               1\n",
            "4                 0              1               0\n",
            "\n",
            "\n"
          ],
          "name": "stdout"
        }
      ]
    },
    {
      "metadata": {
        "id": "aeZnkl4vBo90",
        "colab_type": "code",
        "colab": {
          "base_uri": "https://localhost:8080/",
          "height": 153
        },
        "outputId": "6084df93-315b-403c-d53e-59be3400e6c3"
      },
      "cell_type": "code",
      "source": [
        "df.drop(categoryList, axis=1, inplace = True) ## Drop Non numerical categorical columns\n",
        "print(df.head())\n",
        "print(\"\\n\")"
      ],
      "execution_count": 5,
      "outputs": [
        {
          "output_type": "stream",
          "text": [
            "   R&D Spend  Administration  Marketing Spend     Profit\n",
            "0  165349.20       136897.80        471784.10  192261.83\n",
            "1  162597.70       151377.59        443898.53  191792.06\n",
            "2  153441.51       101145.55        407934.54  191050.39\n",
            "3  144372.41       118671.85        383199.62  182901.99\n",
            "4  142107.34        91391.77        366168.42  166187.94\n",
            "\n",
            "\n"
          ],
          "name": "stdout"
        }
      ]
    },
    {
      "metadata": {
        "id": "g8qpXg1rBo97",
        "colab_type": "code",
        "colab": {
          "base_uri": "https://localhost:8080/",
          "height": 204
        },
        "outputId": "6acd66f0-c922-428e-9876-7e7ac8cdbee4"
      },
      "cell_type": "code",
      "source": [
        "df=pd.concat([df,dummies], axis =1 ) ## added encoded categorical columns\n",
        "  df.head()"
      ],
      "execution_count": 6,
      "outputs": [
        {
          "output_type": "execute_result",
          "data": {
            "text/html": [
              "<div>\n",
              "<style scoped>\n",
              "    .dataframe tbody tr th:only-of-type {\n",
              "        vertical-align: middle;\n",
              "    }\n",
              "\n",
              "    .dataframe tbody tr th {\n",
              "        vertical-align: top;\n",
              "    }\n",
              "\n",
              "    .dataframe thead th {\n",
              "        text-align: right;\n",
              "    }\n",
              "</style>\n",
              "<table border=\"1\" class=\"dataframe\">\n",
              "  <thead>\n",
              "    <tr style=\"text-align: right;\">\n",
              "      <th></th>\n",
              "      <th>R&amp;D Spend</th>\n",
              "      <th>Administration</th>\n",
              "      <th>Marketing Spend</th>\n",
              "      <th>Profit</th>\n",
              "      <th>State_California</th>\n",
              "      <th>State_Florida</th>\n",
              "      <th>State_New York</th>\n",
              "    </tr>\n",
              "  </thead>\n",
              "  <tbody>\n",
              "    <tr>\n",
              "      <th>0</th>\n",
              "      <td>165349.20</td>\n",
              "      <td>136897.80</td>\n",
              "      <td>471784.10</td>\n",
              "      <td>192261.83</td>\n",
              "      <td>0</td>\n",
              "      <td>0</td>\n",
              "      <td>1</td>\n",
              "    </tr>\n",
              "    <tr>\n",
              "      <th>1</th>\n",
              "      <td>162597.70</td>\n",
              "      <td>151377.59</td>\n",
              "      <td>443898.53</td>\n",
              "      <td>191792.06</td>\n",
              "      <td>1</td>\n",
              "      <td>0</td>\n",
              "      <td>0</td>\n",
              "    </tr>\n",
              "    <tr>\n",
              "      <th>2</th>\n",
              "      <td>153441.51</td>\n",
              "      <td>101145.55</td>\n",
              "      <td>407934.54</td>\n",
              "      <td>191050.39</td>\n",
              "      <td>0</td>\n",
              "      <td>1</td>\n",
              "      <td>0</td>\n",
              "    </tr>\n",
              "    <tr>\n",
              "      <th>3</th>\n",
              "      <td>144372.41</td>\n",
              "      <td>118671.85</td>\n",
              "      <td>383199.62</td>\n",
              "      <td>182901.99</td>\n",
              "      <td>0</td>\n",
              "      <td>0</td>\n",
              "      <td>1</td>\n",
              "    </tr>\n",
              "    <tr>\n",
              "      <th>4</th>\n",
              "      <td>142107.34</td>\n",
              "      <td>91391.77</td>\n",
              "      <td>366168.42</td>\n",
              "      <td>166187.94</td>\n",
              "      <td>0</td>\n",
              "      <td>1</td>\n",
              "      <td>0</td>\n",
              "    </tr>\n",
              "  </tbody>\n",
              "</table>\n",
              "</div>"
            ],
            "text/plain": [
              "   R&D Spend  Administration  Marketing Spend     Profit  State_California  \\\n",
              "0  165349.20       136897.80        471784.10  192261.83                 0   \n",
              "1  162597.70       151377.59        443898.53  191792.06                 1   \n",
              "2  153441.51       101145.55        407934.54  191050.39                 0   \n",
              "3  144372.41       118671.85        383199.62  182901.99                 0   \n",
              "4  142107.34        91391.77        366168.42  166187.94                 0   \n",
              "\n",
              "   State_Florida  State_New York  \n",
              "0              0               1  \n",
              "1              0               0  \n",
              "2              1               0  \n",
              "3              0               1  \n",
              "4              1               0  "
            ]
          },
          "metadata": {
            "tags": []
          },
          "execution_count": 6
        }
      ]
    },
    {
      "metadata": {
        "id": "TmtzbXtsBo-C",
        "colab_type": "code",
        "colab": {
          "base_uri": "https://localhost:8080/",
          "height": 204
        },
        "outputId": "53521851-87cc-483f-bc43-686659c58a91"
      },
      "cell_type": "code",
      "source": [
        "X = df.drop(['Profit'], axis=1)\n",
        "y = df.Profit\n",
        "\n",
        "X.head()"
      ],
      "execution_count": 10,
      "outputs": [
        {
          "output_type": "execute_result",
          "data": {
            "text/html": [
              "<div>\n",
              "<style scoped>\n",
              "    .dataframe tbody tr th:only-of-type {\n",
              "        vertical-align: middle;\n",
              "    }\n",
              "\n",
              "    .dataframe tbody tr th {\n",
              "        vertical-align: top;\n",
              "    }\n",
              "\n",
              "    .dataframe thead th {\n",
              "        text-align: right;\n",
              "    }\n",
              "</style>\n",
              "<table border=\"1\" class=\"dataframe\">\n",
              "  <thead>\n",
              "    <tr style=\"text-align: right;\">\n",
              "      <th></th>\n",
              "      <th>R&amp;D Spend</th>\n",
              "      <th>Administration</th>\n",
              "      <th>Marketing Spend</th>\n",
              "      <th>State_California</th>\n",
              "      <th>State_Florida</th>\n",
              "      <th>State_New York</th>\n",
              "    </tr>\n",
              "  </thead>\n",
              "  <tbody>\n",
              "    <tr>\n",
              "      <th>0</th>\n",
              "      <td>165349.20</td>\n",
              "      <td>136897.80</td>\n",
              "      <td>471784.10</td>\n",
              "      <td>0</td>\n",
              "      <td>0</td>\n",
              "      <td>1</td>\n",
              "    </tr>\n",
              "    <tr>\n",
              "      <th>1</th>\n",
              "      <td>162597.70</td>\n",
              "      <td>151377.59</td>\n",
              "      <td>443898.53</td>\n",
              "      <td>1</td>\n",
              "      <td>0</td>\n",
              "      <td>0</td>\n",
              "    </tr>\n",
              "    <tr>\n",
              "      <th>2</th>\n",
              "      <td>153441.51</td>\n",
              "      <td>101145.55</td>\n",
              "      <td>407934.54</td>\n",
              "      <td>0</td>\n",
              "      <td>1</td>\n",
              "      <td>0</td>\n",
              "    </tr>\n",
              "    <tr>\n",
              "      <th>3</th>\n",
              "      <td>144372.41</td>\n",
              "      <td>118671.85</td>\n",
              "      <td>383199.62</td>\n",
              "      <td>0</td>\n",
              "      <td>0</td>\n",
              "      <td>1</td>\n",
              "    </tr>\n",
              "    <tr>\n",
              "      <th>4</th>\n",
              "      <td>142107.34</td>\n",
              "      <td>91391.77</td>\n",
              "      <td>366168.42</td>\n",
              "      <td>0</td>\n",
              "      <td>1</td>\n",
              "      <td>0</td>\n",
              "    </tr>\n",
              "  </tbody>\n",
              "</table>\n",
              "</div>"
            ],
            "text/plain": [
              "   R&D Spend  Administration  Marketing Spend  State_California  \\\n",
              "0  165349.20       136897.80        471784.10                 0   \n",
              "1  162597.70       151377.59        443898.53                 1   \n",
              "2  153441.51       101145.55        407934.54                 0   \n",
              "3  144372.41       118671.85        383199.62                 0   \n",
              "4  142107.34        91391.77        366168.42                 0   \n",
              "\n",
              "   State_Florida  State_New York  \n",
              "0              0               1  \n",
              "1              0               0  \n",
              "2              1               0  \n",
              "3              0               1  \n",
              "4              1               0  "
            ]
          },
          "metadata": {
            "tags": []
          },
          "execution_count": 10
        }
      ]
    },
    {
      "metadata": {
        "id": "PA1BVpGNBo-H",
        "colab_type": "code",
        "colab": {
          "base_uri": "https://localhost:8080/",
          "height": 119
        },
        "outputId": "c4334405-f01d-40c3-f04e-91e01f8e323a"
      },
      "cell_type": "code",
      "source": [
        "y.head()"
      ],
      "execution_count": 11,
      "outputs": [
        {
          "output_type": "execute_result",
          "data": {
            "text/plain": [
              "0    192261.83\n",
              "1    191792.06\n",
              "2    191050.39\n",
              "3    182901.99\n",
              "4    166187.94\n",
              "Name: Profit, dtype: float64"
            ]
          },
          "metadata": {
            "tags": []
          },
          "execution_count": 11
        }
      ]
    },
    {
      "metadata": {
        "id": "orNY545WBo-N",
        "colab_type": "code",
        "colab": {}
      },
      "cell_type": "code",
      "source": [
        "# Feature Scaling (Multiple Linear Regression libraries do it automatically)\n",
        "#from sklearn.preprocessing import StandardScaler\n",
        "#sc_X = StandardScaler()\n",
        "#X_train = sc_X.fit_transform(X_train)\n",
        "#X_test = sc_X.transform(X_test)\n",
        "#sc_y = StandardScaler()\n",
        "#y_train = sc_y.fit_transform(y_train)"
      ],
      "execution_count": 0,
      "outputs": []
    },
    {
      "metadata": {
        "id": "tXZLfLzNBo-S",
        "colab_type": "code",
        "colab": {
          "base_uri": "https://localhost:8080/",
          "height": 238
        },
        "outputId": "db6c7fc0-274c-42c1-ba99-a78f2f24fc5f"
      },
      "cell_type": "code",
      "source": [
        "# Splitting the dataset into the Training set and Test set\n",
        "from sklearn.model_selection import train_test_split\n",
        "X_train, X_test, y_train, y_test = train_test_split(X, y, test_size = 0.2, random_state = 0)\n",
        "\n",
        "print(X_train[0:5])"
      ],
      "execution_count": 12,
      "outputs": [
        {
          "output_type": "stream",
          "text": [
            "    R&D Spend  Administration  Marketing Spend  State_California  \\\n",
            "33   55493.95       103057.49        214634.81                 0   \n",
            "35   46014.02        85047.44        205517.64                 0   \n",
            "26   75328.87       144135.98        134050.07                 0   \n",
            "34   46426.07       157693.92        210797.67                 1   \n",
            "18   91749.16       114175.79        294919.57                 0   \n",
            "\n",
            "    State_Florida  State_New York  \n",
            "33              1               0  \n",
            "35              0               1  \n",
            "26              1               0  \n",
            "34              0               0  \n",
            "18              1               0  \n"
          ],
          "name": "stdout"
        }
      ]
    },
    {
      "metadata": {
        "id": "HT-LIlIOBo-X",
        "colab_type": "code",
        "colab": {
          "base_uri": "https://localhost:8080/",
          "height": 68
        },
        "outputId": "0fc991e6-c8c4-4de9-e19f-811f1f97ebb2"
      },
      "cell_type": "code",
      "source": [
        "# Fitting Multiple Linear Regression to the Training set\n",
        "from sklearn.linear_model import LinearRegression\n",
        "regressor = LinearRegression()\n",
        "regressor.fit(X_train, y_train) ## fitted training data for the algorithm to find the pattern\n",
        "\n",
        "\n",
        "#r2_mc=regressor.score(X_train,y_train)\n",
        "\n",
        "# Intercept ## Mean value of Y when X=0 [constant=when all independent variables are zero]\n",
        "print(\"Intercept:\",regressor.intercept_)\n",
        "\n",
        "# Co-Efficient of each Variable\n",
        "print(\"Regression Coeff:\",regressor.coef_) "
      ],
      "execution_count": 13,
      "outputs": [
        {
          "output_type": "stream",
          "text": [
            "Intercept: 42467.52924855314\n",
            "Regression Coeff: [ 7.73467193e-01  3.28845975e-02  3.66100259e-02  8.66383692e+01\n",
            " -8.72645791e+02  7.86007422e+02]\n"
          ],
          "name": "stdout"
        }
      ]
    },
    {
      "metadata": {
        "id": "l5Q8bTXfBo-d",
        "colab_type": "code",
        "colab": {
          "base_uri": "https://localhost:8080/",
          "height": 289
        },
        "outputId": "40c2b4ff-d57e-4b49-d3ab-aa75da64aedf"
      },
      "cell_type": "code",
      "source": [
        "# Predicting the Test set results\n",
        "y_pred = regressor.predict(X_test)\n",
        "print(y_pred)\n",
        "print(\"\\n\")\n",
        "print(y_test)"
      ],
      "execution_count": 14,
      "outputs": [
        {
          "output_type": "stream",
          "text": [
            "[103015.20159796 132582.27760816 132447.73845174  71976.09851258\n",
            " 178537.48221055 116161.24230165  67851.69209676  98791.73374687\n",
            " 113969.43533012 167921.0656955 ]\n",
            "\n",
            "\n",
            "28    103282.38\n",
            "11    144259.40\n",
            "10    146121.95\n",
            "41     77798.83\n",
            "2     191050.39\n",
            "27    105008.31\n",
            "38     81229.06\n",
            "31     97483.56\n",
            "22    110352.25\n",
            "4     166187.94\n",
            "Name: Profit, dtype: float64\n"
          ],
          "name": "stdout"
        }
      ]
    },
    {
      "metadata": {
        "scrolled": true,
        "id": "EB74x99KBo-l",
        "colab_type": "code",
        "colab": {
          "base_uri": "https://localhost:8080/",
          "height": 85
        },
        "outputId": "49c3a86d-ebe5-4973-c537-79dd0b31f7de"
      },
      "cell_type": "code",
      "source": [
        "from sklearn import metrics\n",
        "print('MAE:', metrics.mean_absolute_error(y_test, y_pred))\n",
        "print('MSE:', metrics.mean_squared_error(y_test, y_pred))\n",
        "print('RMSE:', np.sqrt(metrics.mean_squared_error(y_test, y_pred)))\n",
        "\n",
        "## Higher the Explained Variance Score, the better the model is:\n",
        "print('Explained Variance Score:', metrics.explained_variance_score(y_test, y_pred)*100)\n",
        "## 94.6% of the variance or variability of the data is explained by the model"
      ],
      "execution_count": 15,
      "outputs": [
        {
          "output_type": "stream",
          "text": [
            "MAE: 7514.293659640616\n",
            "MSE: 83502864.03257766\n",
            "RMSE: 9137.99015279496\n",
            "Explained Variance Score: 94.69192858652778\n"
          ],
          "name": "stdout"
        }
      ]
    },
    {
      "metadata": {
        "id": "2A-utGaYBo-y",
        "colab_type": "code",
        "colab": {
          "base_uri": "https://localhost:8080/",
          "height": 51
        },
        "outputId": "293d5014-8ff9-41bb-de87-ee8117fc02f0"
      },
      "cell_type": "code",
      "source": [
        "from sklearn.metrics import r2_score \n",
        "print('r2:',r2_score(y_test, y_pred)) \n",
        "## Closer to 1 means better prediction. r2 indicates the closeness to regression line to actual line\n",
        "\n",
        "adj_r2=1 - float(len(y_test)-1)/(len(y_test)-len(regressor.coef_)-1)*(1 - metrics.r2_score(y_test,y_pred))\n",
        "print(\"adj_r2=\",adj_r2) \n",
        "##Closer to 1 the better the prediction. However, it punishes if unnecessary variables are added. "
      ],
      "execution_count": 16,
      "outputs": [
        {
          "output_type": "stream",
          "text": [
            "r2: 0.9347068473282423\n",
            "adj_r2= 0.8041205419847268\n"
          ],
          "name": "stdout"
        }
      ]
    },
    {
      "metadata": {
        "id": "sIGEr_EyBo-4",
        "colab_type": "code",
        "colab": {
          "base_uri": "https://localhost:8080/",
          "height": 51
        },
        "outputId": "ce6e35d9-ac13-43d6-b7bf-4c4b828f51d2"
      },
      "cell_type": "code",
      "source": [
        "from sklearn.model_selection import cross_val_score \n",
        "regression_avg = cross_val_score(estimator = regressor, X = X_train, y = y_train, cv = 10,scoring='neg_median_absolute_error') \n",
        "print (regression_avg.mean())\n",
        "\n",
        "from sklearn.model_selection import cross_val_score \n",
        "regression_avg = cross_val_score(estimator = regressor, X = X_train, y = y_train, cv = 10,scoring='explained_variance') \n",
        "print (regression_avg.mean()*100)"
      ],
      "execution_count": 17,
      "outputs": [
        {
          "output_type": "stream",
          "text": [
            "-7064.1731716679615\n",
            "76.0343135241068\n"
          ],
          "name": "stdout"
        }
      ]
    },
    {
      "metadata": {
        "id": "McscppvRBo_I",
        "colab_type": "text"
      },
      "cell_type": "markdown",
      "source": [
        "# Predicting against Real Dataset"
      ]
    },
    {
      "metadata": {
        "id": "_ndZJRriBo_K",
        "colab_type": "code",
        "colab": {
          "base_uri": "https://localhost:8080/",
          "height": 527
        },
        "outputId": "3d57f08b-6a8d-42cd-8cee-90e4ce2d2c36"
      },
      "cell_type": "code",
      "source": [
        "import numpy as np\n",
        "#import matplotlib.pyplot as plt\n",
        "import pandas as pd\n",
        "\n",
        "# Importing the dataset\n",
        "df = pd.read_csv(url)#\n",
        "df.head() ## Looking at top 5 records\n",
        "                 \n",
        "### Convert Non Numerical Categorical column into numeric ones\n",
        "##Check the categories which are non numerical\n",
        "\n",
        "categoryList = list(df.select_dtypes(include=['object']).columns)\n",
        "print(categoryList)\n",
        "print(\"\\n\")\n",
        "\n",
        "## Create dummy variables for non numerical categorical variables\n",
        "dummies = pd.get_dummies(df[categoryList], prefix= categoryList)\n",
        "print(dummies.head())\n",
        "print(\"\\n\")\n",
        "\n",
        "df.drop(categoryList, axis=1, inplace = True) ## Drop Non numerical categorical columns\n",
        "print(df.head())\n",
        "print(\"\\n\")\n",
        "\n",
        "\n",
        "df=pd.concat([df,dummies], axis =1 ) ## added encoded categorical columns\n",
        "df.head()\n",
        "                 \n",
        "X = df.drop(['Profit'], axis=1)\n",
        "y = df.Profit\n",
        "\n",
        "X.head()"
      ],
      "execution_count": 19,
      "outputs": [
        {
          "output_type": "stream",
          "text": [
            "['State']\n",
            "\n",
            "\n",
            "   State_California  State_Florida  State_New York\n",
            "0                 0              0               1\n",
            "1                 1              0               0\n",
            "2                 0              1               0\n",
            "3                 0              0               1\n",
            "4                 0              1               0\n",
            "\n",
            "\n",
            "   R&D Spend  Administration  Marketing Spend     Profit\n",
            "0  165349.20       136897.80        471784.10  192261.83\n",
            "1  162597.70       151377.59        443898.53  191792.06\n",
            "2  153441.51       101145.55        407934.54  191050.39\n",
            "3  144372.41       118671.85        383199.62  182901.99\n",
            "4  142107.34        91391.77        366168.42  166187.94\n",
            "\n",
            "\n"
          ],
          "name": "stdout"
        },
        {
          "output_type": "execute_result",
          "data": {
            "text/html": [
              "<div>\n",
              "<style scoped>\n",
              "    .dataframe tbody tr th:only-of-type {\n",
              "        vertical-align: middle;\n",
              "    }\n",
              "\n",
              "    .dataframe tbody tr th {\n",
              "        vertical-align: top;\n",
              "    }\n",
              "\n",
              "    .dataframe thead th {\n",
              "        text-align: right;\n",
              "    }\n",
              "</style>\n",
              "<table border=\"1\" class=\"dataframe\">\n",
              "  <thead>\n",
              "    <tr style=\"text-align: right;\">\n",
              "      <th></th>\n",
              "      <th>R&amp;D Spend</th>\n",
              "      <th>Administration</th>\n",
              "      <th>Marketing Spend</th>\n",
              "      <th>State_California</th>\n",
              "      <th>State_Florida</th>\n",
              "      <th>State_New York</th>\n",
              "    </tr>\n",
              "  </thead>\n",
              "  <tbody>\n",
              "    <tr>\n",
              "      <th>0</th>\n",
              "      <td>165349.20</td>\n",
              "      <td>136897.80</td>\n",
              "      <td>471784.10</td>\n",
              "      <td>0</td>\n",
              "      <td>0</td>\n",
              "      <td>1</td>\n",
              "    </tr>\n",
              "    <tr>\n",
              "      <th>1</th>\n",
              "      <td>162597.70</td>\n",
              "      <td>151377.59</td>\n",
              "      <td>443898.53</td>\n",
              "      <td>1</td>\n",
              "      <td>0</td>\n",
              "      <td>0</td>\n",
              "    </tr>\n",
              "    <tr>\n",
              "      <th>2</th>\n",
              "      <td>153441.51</td>\n",
              "      <td>101145.55</td>\n",
              "      <td>407934.54</td>\n",
              "      <td>0</td>\n",
              "      <td>1</td>\n",
              "      <td>0</td>\n",
              "    </tr>\n",
              "    <tr>\n",
              "      <th>3</th>\n",
              "      <td>144372.41</td>\n",
              "      <td>118671.85</td>\n",
              "      <td>383199.62</td>\n",
              "      <td>0</td>\n",
              "      <td>0</td>\n",
              "      <td>1</td>\n",
              "    </tr>\n",
              "    <tr>\n",
              "      <th>4</th>\n",
              "      <td>142107.34</td>\n",
              "      <td>91391.77</td>\n",
              "      <td>366168.42</td>\n",
              "      <td>0</td>\n",
              "      <td>1</td>\n",
              "      <td>0</td>\n",
              "    </tr>\n",
              "  </tbody>\n",
              "</table>\n",
              "</div>"
            ],
            "text/plain": [
              "   R&D Spend  Administration  Marketing Spend  State_California  \\\n",
              "0  165349.20       136897.80        471784.10                 0   \n",
              "1  162597.70       151377.59        443898.53                 1   \n",
              "2  153441.51       101145.55        407934.54                 0   \n",
              "3  144372.41       118671.85        383199.62                 0   \n",
              "4  142107.34        91391.77        366168.42                 0   \n",
              "\n",
              "   State_Florida  State_New York  \n",
              "0              0               1  \n",
              "1              0               0  \n",
              "2              1               0  \n",
              "3              0               1  \n",
              "4              1               0  "
            ]
          },
          "metadata": {
            "tags": []
          },
          "execution_count": 19
        }
      ]
    },
    {
      "metadata": {
        "id": "T_y85YO0Bo_U",
        "colab_type": "code",
        "colab": {
          "base_uri": "https://localhost:8080/",
          "height": 238
        },
        "outputId": "eb22c7fc-38ed-4308-b5e9-5f92498204d4"
      },
      "cell_type": "code",
      "source": [
        "y = regressor.predict(X)\n",
        "y"
      ],
      "execution_count": 20,
      "outputs": [
        {
          "output_type": "execute_result",
          "data": {
            "text/plain": [
              "array([192919.57537462, 189547.28196893, 178537.48221055, 172852.28336637,\n",
              "       167921.0656955 , 161822.7226407 , 156191.10124356, 159019.04337114,\n",
              "       152787.95464277, 152688.90677959, 132447.73845174, 132582.27760816,\n",
              "       127528.92248422, 127413.0337311 , 148905.9881254 , 145449.63178399,\n",
              "       116571.15139254, 131583.61511491, 127111.48666646, 115144.58914955,\n",
              "       116212.62095133, 119915.38726755, 113969.43533012, 108464.25100331,\n",
              "       111255.8251405 , 102210.16391827, 109506.72329085, 116161.24230165,\n",
              "       103015.20159796, 102951.9596798 ,  96684.71387299,  98791.73374687,\n",
              "        97535.3576194 ,  95764.42320496,  91366.2188941 ,  89164.62849777,\n",
              "        75306.81185049,  85540.50570954,  67851.69209676,  81513.47163492,\n",
              "        75019.09161337,  71976.09851258,  69421.13311312,  60736.53267612,\n",
              "        65835.99435878,  48179.60744028,  57298.28613018,  47007.62737751,\n",
              "        45374.34722508,  48054.91969394])"
            ]
          },
          "metadata": {
            "tags": []
          },
          "execution_count": 20
        }
      ]
    },
    {
      "metadata": {
        "id": "zBSEl_EWBo_j",
        "colab_type": "text"
      },
      "cell_type": "markdown",
      "source": [
        "# Building the Optimal Model using Backward Elimination"
      ]
    },
    {
      "metadata": {
        "id": "AGEECKUeBo_l",
        "colab_type": "code",
        "colab": {}
      },
      "cell_type": "code",
      "source": [
        "import statsmodels.formula.api as sm"
      ],
      "execution_count": 0,
      "outputs": []
    },
    {
      "metadata": {
        "id": "g0uzzpcIBo_q",
        "colab_type": "code",
        "colab": {
          "base_uri": "https://localhost:8080/",
          "height": 255
        },
        "outputId": "11890f7a-5217-4c03-a0bf-91c647f4e41a"
      },
      "cell_type": "code",
      "source": [
        "## Multiple Linear Regression : y=b0+b1x1+b2x2+......+bnxn\n",
        "## Add x0 which is linked with variable b0 and always equals to 1.\n",
        "#X=np.append(arr=X,values=np.ones((50,1)).astype(int), axis=1) ## Add 1; 50 times; axis=1 as it is a row\n",
        "\n",
        "import numpy as np\n",
        "#import matplotlib.pyplot as plt\n",
        "import pandas as pd\n",
        "\n",
        "# Importing the dataset\n",
        "df = pd.read_csv(url)#50_Startups.csv\n",
        "df.head() ## Looking at top 5 records\n",
        "                 \n",
        "### Convert Non Numerical Categorical column into numeric ones\n",
        "##Check the categories which are non numerical\n",
        "\n",
        "categoryList = list(df.select_dtypes(include=['object']).columns)\n",
        "\n",
        "\n",
        "## Create dummy variables for non numerical categorical variables\n",
        "dummies = pd.get_dummies(df[categoryList], prefix= categoryList)\n",
        "print(dummies.head())\n",
        "\n",
        "\n",
        "df.drop(categoryList, axis=1, inplace = True) ## Drop Non numerical categorical columns\n",
        "print(df.head())\n",
        "print(\"\\n\")\n",
        "\n",
        "\n",
        "df=pd.concat([df,dummies], axis =1 ) ## added encoded categorical columns\n",
        "df.head()\n",
        "                 \n",
        "X = df.drop(['Profit'], axis=1)\n",
        "y = df.Profit\n",
        "\n",
        "\n",
        "## y=bo+b1x1+bnxn can also be written as :\n",
        "## y=boxo+b1x1+bnxn [assuming x0=1]"
      ],
      "execution_count": 22,
      "outputs": [
        {
          "output_type": "stream",
          "text": [
            "   State_California  State_Florida  State_New York\n",
            "0                 0              0               1\n",
            "1                 1              0               0\n",
            "2                 0              1               0\n",
            "3                 0              0               1\n",
            "4                 0              1               0\n",
            "   R&D Spend  Administration  Marketing Spend     Profit\n",
            "0  165349.20       136897.80        471784.10  192261.83\n",
            "1  162597.70       151377.59        443898.53  191792.06\n",
            "2  153441.51       101145.55        407934.54  191050.39\n",
            "3  144372.41       118671.85        383199.62  182901.99\n",
            "4  142107.34        91391.77        366168.42  166187.94\n",
            "\n",
            "\n"
          ],
          "name": "stdout"
        }
      ]
    },
    {
      "metadata": {
        "id": "RQqdLEtqBo_x",
        "colab_type": "code",
        "colab": {
          "base_uri": "https://localhost:8080/",
          "height": 221
        },
        "outputId": "48a9fc07-26fe-48e7-95f1-299602be97f0"
      },
      "cell_type": "code",
      "source": [
        "df.info()"
      ],
      "execution_count": 23,
      "outputs": [
        {
          "output_type": "stream",
          "text": [
            "<class 'pandas.core.frame.DataFrame'>\n",
            "RangeIndex: 50 entries, 0 to 49\n",
            "Data columns (total 7 columns):\n",
            "R&D Spend           50 non-null float64\n",
            "Administration      50 non-null float64\n",
            "Marketing Spend     50 non-null float64\n",
            "Profit              50 non-null float64\n",
            "State_California    50 non-null uint8\n",
            "State_Florida       50 non-null uint8\n",
            "State_New York      50 non-null uint8\n",
            "dtypes: float64(4), uint8(3)\n",
            "memory usage: 1.8 KB\n"
          ],
          "name": "stdout"
        }
      ]
    },
    {
      "metadata": {
        "id": "PAUvPI5qBo_2",
        "colab_type": "code",
        "colab": {}
      },
      "cell_type": "code",
      "source": [
        "X=np.append(arr=np.ones((50,1)).astype(int),values=X, axis=1) ## axis=1 means add columns, 50=total number of rows/records. \n",
        "#so it creates 50*1 matrix\n",
        "## np.ones=add 1"
      ],
      "execution_count": 0,
      "outputs": []
    },
    {
      "metadata": {
        "id": "ciLjb0pJBo__",
        "colab_type": "code",
        "colab": {
          "base_uri": "https://localhost:8080/",
          "height": 442
        },
        "outputId": "639029bf-a392-4565-f3c0-dcc582924c36"
      },
      "cell_type": "code",
      "source": [
        "print(df.head())\n",
        "print(\"\\n\")\n",
        "print(X[0:5])"
      ],
      "execution_count": 25,
      "outputs": [
        {
          "output_type": "stream",
          "text": [
            "   R&D Spend  Administration  Marketing Spend     Profit  State_California  \\\n",
            "0  165349.20       136897.80        471784.10  192261.83                 0   \n",
            "1  162597.70       151377.59        443898.53  191792.06                 1   \n",
            "2  153441.51       101145.55        407934.54  191050.39                 0   \n",
            "3  144372.41       118671.85        383199.62  182901.99                 0   \n",
            "4  142107.34        91391.77        366168.42  166187.94                 0   \n",
            "\n",
            "   State_Florida  State_New York  \n",
            "0              0               1  \n",
            "1              0               0  \n",
            "2              1               0  \n",
            "3              0               1  \n",
            "4              1               0  \n",
            "\n",
            "\n",
            "[[1.0000000e+00 1.6534920e+05 1.3689780e+05 4.7178410e+05 0.0000000e+00\n",
            "  0.0000000e+00 1.0000000e+00]\n",
            " [1.0000000e+00 1.6259770e+05 1.5137759e+05 4.4389853e+05 1.0000000e+00\n",
            "  0.0000000e+00 0.0000000e+00]\n",
            " [1.0000000e+00 1.5344151e+05 1.0114555e+05 4.0793454e+05 0.0000000e+00\n",
            "  1.0000000e+00 0.0000000e+00]\n",
            " [1.0000000e+00 1.4437241e+05 1.1867185e+05 3.8319962e+05 0.0000000e+00\n",
            "  0.0000000e+00 1.0000000e+00]\n",
            " [1.0000000e+00 1.4210734e+05 9.1391770e+04 3.6616842e+05 0.0000000e+00\n",
            "  1.0000000e+00 0.0000000e+00]]\n"
          ],
          "name": "stdout"
        }
      ]
    },
    {
      "metadata": {
        "id": "Y7QoqkrxBpAG",
        "colab_type": "code",
        "colab": {}
      },
      "cell_type": "code",
      "source": [
        "regressor_OLS=sm.OLS(endog=y,exog=X).fit() ## data fitted for the model to detect unnecessary variables"
      ],
      "execution_count": 0,
      "outputs": []
    },
    {
      "metadata": {
        "id": "76zHNidHBpAN",
        "colab_type": "code",
        "colab": {
          "base_uri": "https://localhost:8080/",
          "height": 481
        },
        "outputId": "16b28254-d94e-4f73-89b3-e242552ef237"
      },
      "cell_type": "code",
      "source": [
        "## ## Significance Level = 0.05 or 5%\n",
        "## Lower the P-Value , better it is\n",
        "## Lower P Value, reject the null hypothesis, accept alternate hypothesis.\n",
        "## Alternate hypothesis= This particular variable is influencing the outcome\n",
        "## Find out the independent variable with highest P-Value\n",
        "## If the variable with highest P-value is greater than Significance level, drop that variable\n",
        "## Perform this exericse till the indepedent variable with highest P-Value is lower than significance level\n",
        "## x1=R&D\n",
        "##x2=Admin\n",
        "## x3=Marketing\n",
        "## x4=california\n",
        "##x5=Florida\n",
        "## x6=new York\n",
        "regressor_OLS.summary()                  "
      ],
      "execution_count": 27,
      "outputs": [
        {
          "output_type": "execute_result",
          "data": {
            "text/html": [
              "<table class=\"simpletable\">\n",
              "<caption>OLS Regression Results</caption>\n",
              "<tr>\n",
              "  <th>Dep. Variable:</th>         <td>Profit</td>      <th>  R-squared:         </th> <td>   0.951</td>\n",
              "</tr>\n",
              "<tr>\n",
              "  <th>Model:</th>                   <td>OLS</td>       <th>  Adj. R-squared:    </th> <td>   0.945</td>\n",
              "</tr>\n",
              "<tr>\n",
              "  <th>Method:</th>             <td>Least Squares</td>  <th>  F-statistic:       </th> <td>   169.9</td>\n",
              "</tr>\n",
              "<tr>\n",
              "  <th>Date:</th>             <td>Mon, 25 Feb 2019</td> <th>  Prob (F-statistic):</th> <td>1.34e-27</td>\n",
              "</tr>\n",
              "<tr>\n",
              "  <th>Time:</th>                 <td>19:08:47</td>     <th>  Log-Likelihood:    </th> <td> -525.38</td>\n",
              "</tr>\n",
              "<tr>\n",
              "  <th>No. Observations:</th>      <td>    50</td>      <th>  AIC:               </th> <td>   1063.</td>\n",
              "</tr>\n",
              "<tr>\n",
              "  <th>Df Residuals:</th>          <td>    44</td>      <th>  BIC:               </th> <td>   1074.</td>\n",
              "</tr>\n",
              "<tr>\n",
              "  <th>Df Model:</th>              <td>     5</td>      <th>                     </th>     <td> </td>   \n",
              "</tr>\n",
              "<tr>\n",
              "  <th>Covariance Type:</th>      <td>nonrobust</td>    <th>                     </th>     <td> </td>   \n",
              "</tr>\n",
              "</table>\n",
              "<table class=\"simpletable\">\n",
              "<tr>\n",
              "    <td></td>       <th>coef</th>     <th>std err</th>      <th>t</th>      <th>P>|t|</th>  <th>[0.025</th>    <th>0.975]</th>  \n",
              "</tr>\n",
              "<tr>\n",
              "  <th>const</th> <td> 3.763e+04</td> <td> 5073.636</td> <td>    7.417</td> <td> 0.000</td> <td> 2.74e+04</td> <td> 4.79e+04</td>\n",
              "</tr>\n",
              "<tr>\n",
              "  <th>x1</th>    <td>    0.8060</td> <td>    0.046</td> <td>   17.369</td> <td> 0.000</td> <td>    0.712</td> <td>    0.900</td>\n",
              "</tr>\n",
              "<tr>\n",
              "  <th>x2</th>    <td>   -0.0270</td> <td>    0.052</td> <td>   -0.517</td> <td> 0.608</td> <td>   -0.132</td> <td>    0.078</td>\n",
              "</tr>\n",
              "<tr>\n",
              "  <th>x3</th>    <td>    0.0270</td> <td>    0.017</td> <td>    1.574</td> <td> 0.123</td> <td>   -0.008</td> <td>    0.062</td>\n",
              "</tr>\n",
              "<tr>\n",
              "  <th>x4</th>    <td> 1.249e+04</td> <td> 2449.797</td> <td>    5.099</td> <td> 0.000</td> <td> 7554.868</td> <td> 1.74e+04</td>\n",
              "</tr>\n",
              "<tr>\n",
              "  <th>x5</th>    <td> 1.269e+04</td> <td> 2726.700</td> <td>    4.654</td> <td> 0.000</td> <td> 7195.596</td> <td> 1.82e+04</td>\n",
              "</tr>\n",
              "<tr>\n",
              "  <th>x6</th>    <td> 1.245e+04</td> <td> 2486.364</td> <td>    5.007</td> <td> 0.000</td> <td> 7439.285</td> <td> 1.75e+04</td>\n",
              "</tr>\n",
              "</table>\n",
              "<table class=\"simpletable\">\n",
              "<tr>\n",
              "  <th>Omnibus:</th>       <td>14.782</td> <th>  Durbin-Watson:     </th> <td>   1.283</td>\n",
              "</tr>\n",
              "<tr>\n",
              "  <th>Prob(Omnibus):</th> <td> 0.001</td> <th>  Jarque-Bera (JB):  </th> <td>  21.266</td>\n",
              "</tr>\n",
              "<tr>\n",
              "  <th>Skew:</th>          <td>-0.948</td> <th>  Prob(JB):          </th> <td>2.41e-05</td>\n",
              "</tr>\n",
              "<tr>\n",
              "  <th>Kurtosis:</th>      <td> 5.572</td> <th>  Cond. No.          </th> <td>3.48e+21</td>\n",
              "</tr>\n",
              "</table>"
            ],
            "text/plain": [
              "<class 'statsmodels.iolib.summary.Summary'>\n",
              "\"\"\"\n",
              "                            OLS Regression Results                            \n",
              "==============================================================================\n",
              "Dep. Variable:                 Profit   R-squared:                       0.951\n",
              "Model:                            OLS   Adj. R-squared:                  0.945\n",
              "Method:                 Least Squares   F-statistic:                     169.9\n",
              "Date:                Mon, 25 Feb 2019   Prob (F-statistic):           1.34e-27\n",
              "Time:                        19:08:47   Log-Likelihood:                -525.38\n",
              "No. Observations:                  50   AIC:                             1063.\n",
              "Df Residuals:                      44   BIC:                             1074.\n",
              "Df Model:                           5                                         \n",
              "Covariance Type:            nonrobust                                         \n",
              "==============================================================================\n",
              "                 coef    std err          t      P>|t|      [0.025      0.975]\n",
              "------------------------------------------------------------------------------\n",
              "const       3.763e+04   5073.636      7.417      0.000    2.74e+04    4.79e+04\n",
              "x1             0.8060      0.046     17.369      0.000       0.712       0.900\n",
              "x2            -0.0270      0.052     -0.517      0.608      -0.132       0.078\n",
              "x3             0.0270      0.017      1.574      0.123      -0.008       0.062\n",
              "x4          1.249e+04   2449.797      5.099      0.000    7554.868    1.74e+04\n",
              "x5          1.269e+04   2726.700      4.654      0.000    7195.596    1.82e+04\n",
              "x6          1.245e+04   2486.364      5.007      0.000    7439.285    1.75e+04\n",
              "==============================================================================\n",
              "Omnibus:                       14.782   Durbin-Watson:                   1.283\n",
              "Prob(Omnibus):                  0.001   Jarque-Bera (JB):               21.266\n",
              "Skew:                          -0.948   Prob(JB):                     2.41e-05\n",
              "Kurtosis:                       5.572   Cond. No.                     3.48e+21\n",
              "==============================================================================\n",
              "\n",
              "Warnings:\n",
              "[1] Standard Errors assume that the covariance matrix of the errors is correctly specified.\n",
              "[2] The smallest eigenvalue is 3.2e-31. This might indicate that there are\n",
              "strong multicollinearity problems or that the design matrix is singular.\n",
              "\"\"\""
            ]
          },
          "metadata": {
            "tags": []
          },
          "execution_count": 27
        }
      ]
    },
    {
      "metadata": {
        "id": "ZGNux8aHBpAW",
        "colab_type": "code",
        "colab": {
          "base_uri": "https://localhost:8080/",
          "height": 51
        },
        "outputId": "519454d4-5e69-4609-d908-96471e897b03"
      },
      "cell_type": "code",
      "source": [
        "X=X[:,[0,1,3,4,5,6]] ## REmoved x2=Admin\n",
        "X[0]\n",
        " \n",
        "\n"
      ],
      "execution_count": 28,
      "outputs": [
        {
          "output_type": "execute_result",
          "data": {
            "text/plain": [
              "array([1.000000e+00, 1.653492e+05, 4.717841e+05, 0.000000e+00,\n",
              "       0.000000e+00, 1.000000e+00])"
            ]
          },
          "metadata": {
            "tags": []
          },
          "execution_count": 28
        }
      ]
    },
    {
      "metadata": {
        "id": "4cesLfH7BpAa",
        "colab_type": "code",
        "colab": {
          "base_uri": "https://localhost:8080/",
          "height": 494
        },
        "outputId": "77b8b4da-5153-4a9d-9929-24244bdaf46e"
      },
      "cell_type": "code",
      "source": [
        "print(\"\\n\")\n",
        "regressor_OLS=sm.OLS(endog=y,exog=X).fit()\n",
        "regressor_OLS.summary()\n",
        "\n",
        "## x1=R&D\n",
        "## x2=Marketing\n",
        "## x3=california\n",
        "##x4=Florida\n",
        "## x5=new York"
      ],
      "execution_count": 29,
      "outputs": [
        {
          "output_type": "stream",
          "text": [
            "\n",
            "\n"
          ],
          "name": "stdout"
        },
        {
          "output_type": "execute_result",
          "data": {
            "text/html": [
              "<table class=\"simpletable\">\n",
              "<caption>OLS Regression Results</caption>\n",
              "<tr>\n",
              "  <th>Dep. Variable:</th>         <td>Profit</td>      <th>  R-squared:         </th> <td>   0.950</td>\n",
              "</tr>\n",
              "<tr>\n",
              "  <th>Model:</th>                   <td>OLS</td>       <th>  Adj. R-squared:    </th> <td>   0.946</td>\n",
              "</tr>\n",
              "<tr>\n",
              "  <th>Method:</th>             <td>Least Squares</td>  <th>  F-statistic:       </th> <td>   215.8</td>\n",
              "</tr>\n",
              "<tr>\n",
              "  <th>Date:</th>             <td>Mon, 25 Feb 2019</td> <th>  Prob (F-statistic):</th> <td>9.72e-29</td>\n",
              "</tr>\n",
              "<tr>\n",
              "  <th>Time:</th>                 <td>19:08:59</td>     <th>  Log-Likelihood:    </th> <td> -525.53</td>\n",
              "</tr>\n",
              "<tr>\n",
              "  <th>No. Observations:</th>      <td>    50</td>      <th>  AIC:               </th> <td>   1061.</td>\n",
              "</tr>\n",
              "<tr>\n",
              "  <th>Df Residuals:</th>          <td>    45</td>      <th>  BIC:               </th> <td>   1071.</td>\n",
              "</tr>\n",
              "<tr>\n",
              "  <th>Df Model:</th>              <td>     4</td>      <th>                     </th>     <td> </td>   \n",
              "</tr>\n",
              "<tr>\n",
              "  <th>Covariance Type:</th>      <td>nonrobust</td>    <th>                     </th>     <td> </td>   \n",
              "</tr>\n",
              "</table>\n",
              "<table class=\"simpletable\">\n",
              "<tr>\n",
              "    <td></td>       <th>coef</th>     <th>std err</th>      <th>t</th>      <th>P>|t|</th>  <th>[0.025</th>    <th>0.975]</th>  \n",
              "</tr>\n",
              "<tr>\n",
              "  <th>const</th> <td> 3.525e+04</td> <td> 2100.376</td> <td>   16.782</td> <td> 0.000</td> <td>  3.1e+04</td> <td> 3.95e+04</td>\n",
              "</tr>\n",
              "<tr>\n",
              "  <th>x1</th>    <td>    0.7967</td> <td>    0.042</td> <td>   18.771</td> <td> 0.000</td> <td>    0.711</td> <td>    0.882</td>\n",
              "</tr>\n",
              "<tr>\n",
              "  <th>x2</th>    <td>    0.0298</td> <td>    0.016</td> <td>    1.842</td> <td> 0.072</td> <td>   -0.003</td> <td>    0.062</td>\n",
              "</tr>\n",
              "<tr>\n",
              "  <th>x3</th>    <td> 1.171e+04</td> <td> 1910.312</td> <td>    6.130</td> <td> 0.000</td> <td> 7861.854</td> <td> 1.56e+04</td>\n",
              "</tr>\n",
              "<tr>\n",
              "  <th>x4</th>    <td> 1.185e+04</td> <td> 2170.903</td> <td>    5.459</td> <td> 0.000</td> <td> 7477.785</td> <td> 1.62e+04</td>\n",
              "</tr>\n",
              "<tr>\n",
              "  <th>x5</th>    <td> 1.169e+04</td> <td> 1988.428</td> <td>    5.879</td> <td> 0.000</td> <td> 7684.996</td> <td> 1.57e+04</td>\n",
              "</tr>\n",
              "</table>\n",
              "<table class=\"simpletable\">\n",
              "<tr>\n",
              "  <th>Omnibus:</th>       <td>14.640</td> <th>  Durbin-Watson:     </th> <td>   1.257</td>\n",
              "</tr>\n",
              "<tr>\n",
              "  <th>Prob(Omnibus):</th> <td> 0.001</td> <th>  Jarque-Bera (JB):  </th> <td>  21.037</td>\n",
              "</tr>\n",
              "<tr>\n",
              "  <th>Skew:</th>          <td>-0.938</td> <th>  Prob(JB):          </th> <td>2.70e-05</td>\n",
              "</tr>\n",
              "<tr>\n",
              "  <th>Kurtosis:</th>      <td> 5.565</td> <th>  Cond. No.          </th> <td>4.95e+21</td>\n",
              "</tr>\n",
              "</table>"
            ],
            "text/plain": [
              "<class 'statsmodels.iolib.summary.Summary'>\n",
              "\"\"\"\n",
              "                            OLS Regression Results                            \n",
              "==============================================================================\n",
              "Dep. Variable:                 Profit   R-squared:                       0.950\n",
              "Model:                            OLS   Adj. R-squared:                  0.946\n",
              "Method:                 Least Squares   F-statistic:                     215.8\n",
              "Date:                Mon, 25 Feb 2019   Prob (F-statistic):           9.72e-29\n",
              "Time:                        19:08:59   Log-Likelihood:                -525.53\n",
              "No. Observations:                  50   AIC:                             1061.\n",
              "Df Residuals:                      45   BIC:                             1071.\n",
              "Df Model:                           4                                         \n",
              "Covariance Type:            nonrobust                                         \n",
              "==============================================================================\n",
              "                 coef    std err          t      P>|t|      [0.025      0.975]\n",
              "------------------------------------------------------------------------------\n",
              "const       3.525e+04   2100.376     16.782      0.000     3.1e+04    3.95e+04\n",
              "x1             0.7967      0.042     18.771      0.000       0.711       0.882\n",
              "x2             0.0298      0.016      1.842      0.072      -0.003       0.062\n",
              "x3          1.171e+04   1910.312      6.130      0.000    7861.854    1.56e+04\n",
              "x4          1.185e+04   2170.903      5.459      0.000    7477.785    1.62e+04\n",
              "x5          1.169e+04   1988.428      5.879      0.000    7684.996    1.57e+04\n",
              "==============================================================================\n",
              "Omnibus:                       14.640   Durbin-Watson:                   1.257\n",
              "Prob(Omnibus):                  0.001   Jarque-Bera (JB):               21.037\n",
              "Skew:                          -0.938   Prob(JB):                     2.70e-05\n",
              "Kurtosis:                       5.565   Cond. No.                     4.95e+21\n",
              "==============================================================================\n",
              "\n",
              "Warnings:\n",
              "[1] Standard Errors assume that the covariance matrix of the errors is correctly specified.\n",
              "[2] The smallest eigenvalue is 1.34e-31. This might indicate that there are\n",
              "strong multicollinearity problems or that the design matrix is singular.\n",
              "\"\"\""
            ]
          },
          "metadata": {
            "tags": []
          },
          "execution_count": 29
        }
      ]
    },
    {
      "metadata": {
        "id": "-pqQqFnfBpAh",
        "colab_type": "code",
        "colab": {
          "base_uri": "https://localhost:8080/",
          "height": 439
        },
        "outputId": "e29df7cf-d809-4b1e-c412-628a02cbc7a4"
      },
      "cell_type": "code",
      "source": [
        "X=X[:,[0,1,3,4,5]] ## Removed x2=Marketing\n",
        "regressor_OLS=sm.OLS(endog=y,exog=X).fit()\n",
        "regressor_OLS.summary() \n",
        "\n",
        "## x1=R&D\n",
        "## x2=Marketing\n",
        "## x3=california\n",
        "##x4=Florida\n",
        "## x5=new York"
      ],
      "execution_count": 30,
      "outputs": [
        {
          "output_type": "execute_result",
          "data": {
            "text/html": [
              "<table class=\"simpletable\">\n",
              "<caption>OLS Regression Results</caption>\n",
              "<tr>\n",
              "  <th>Dep. Variable:</th>         <td>Profit</td>      <th>  R-squared:         </th> <td>   0.947</td>\n",
              "</tr>\n",
              "<tr>\n",
              "  <th>Model:</th>                   <td>OLS</td>       <th>  Adj. R-squared:    </th> <td>   0.943</td>\n",
              "</tr>\n",
              "<tr>\n",
              "  <th>Method:</th>             <td>Least Squares</td>  <th>  F-statistic:       </th> <td>   272.4</td>\n",
              "</tr>\n",
              "<tr>\n",
              "  <th>Date:</th>             <td>Mon, 25 Feb 2019</td> <th>  Prob (F-statistic):</th> <td>2.76e-29</td>\n",
              "</tr>\n",
              "<tr>\n",
              "  <th>Time:</th>                 <td>19:09:06</td>     <th>  Log-Likelihood:    </th> <td> -527.35</td>\n",
              "</tr>\n",
              "<tr>\n",
              "  <th>No. Observations:</th>      <td>    50</td>      <th>  AIC:               </th> <td>   1063.</td>\n",
              "</tr>\n",
              "<tr>\n",
              "  <th>Df Residuals:</th>          <td>    46</td>      <th>  BIC:               </th> <td>   1070.</td>\n",
              "</tr>\n",
              "<tr>\n",
              "  <th>Df Model:</th>              <td>     3</td>      <th>                     </th>     <td> </td>   \n",
              "</tr>\n",
              "<tr>\n",
              "  <th>Covariance Type:</th>      <td>nonrobust</td>    <th>                     </th>     <td> </td>   \n",
              "</tr>\n",
              "</table>\n",
              "<table class=\"simpletable\">\n",
              "<tr>\n",
              "    <td></td>       <th>coef</th>     <th>std err</th>      <th>t</th>      <th>P>|t|</th>  <th>[0.025</th>    <th>0.975]</th>  \n",
              "</tr>\n",
              "<tr>\n",
              "  <th>const</th> <td> 3.686e+04</td> <td> 1959.786</td> <td>   18.806</td> <td> 0.000</td> <td> 3.29e+04</td> <td> 4.08e+04</td>\n",
              "</tr>\n",
              "<tr>\n",
              "  <th>x1</th>    <td>    0.8530</td> <td>    0.030</td> <td>   28.226</td> <td> 0.000</td> <td>    0.792</td> <td>    0.914</td>\n",
              "</tr>\n",
              "<tr>\n",
              "  <th>x2</th>    <td> 1.189e+04</td> <td> 1956.677</td> <td>    6.079</td> <td> 0.000</td> <td> 7955.697</td> <td> 1.58e+04</td>\n",
              "</tr>\n",
              "<tr>\n",
              "  <th>x3</th>    <td> 1.306e+04</td> <td> 2122.665</td> <td>    6.152</td> <td> 0.000</td> <td> 8785.448</td> <td> 1.73e+04</td>\n",
              "</tr>\n",
              "<tr>\n",
              "  <th>x4</th>    <td>  1.19e+04</td> <td> 2036.022</td> <td>    5.847</td> <td> 0.000</td> <td> 7805.580</td> <td>  1.6e+04</td>\n",
              "</tr>\n",
              "</table>\n",
              "<table class=\"simpletable\">\n",
              "<tr>\n",
              "  <th>Omnibus:</th>       <td>13.418</td> <th>  Durbin-Watson:     </th> <td>   1.122</td>\n",
              "</tr>\n",
              "<tr>\n",
              "  <th>Prob(Omnibus):</th> <td> 0.001</td> <th>  Jarque-Bera (JB):  </th> <td>  17.605</td>\n",
              "</tr>\n",
              "<tr>\n",
              "  <th>Skew:</th>          <td>-0.907</td> <th>  Prob(JB):          </th> <td>0.000150</td>\n",
              "</tr>\n",
              "<tr>\n",
              "  <th>Kurtosis:</th>      <td> 5.271</td> <th>  Cond. No.          </th> <td>1.95e+21</td>\n",
              "</tr>\n",
              "</table>"
            ],
            "text/plain": [
              "<class 'statsmodels.iolib.summary.Summary'>\n",
              "\"\"\"\n",
              "                            OLS Regression Results                            \n",
              "==============================================================================\n",
              "Dep. Variable:                 Profit   R-squared:                       0.947\n",
              "Model:                            OLS   Adj. R-squared:                  0.943\n",
              "Method:                 Least Squares   F-statistic:                     272.4\n",
              "Date:                Mon, 25 Feb 2019   Prob (F-statistic):           2.76e-29\n",
              "Time:                        19:09:06   Log-Likelihood:                -527.35\n",
              "No. Observations:                  50   AIC:                             1063.\n",
              "Df Residuals:                      46   BIC:                             1070.\n",
              "Df Model:                           3                                         \n",
              "Covariance Type:            nonrobust                                         \n",
              "==============================================================================\n",
              "                 coef    std err          t      P>|t|      [0.025      0.975]\n",
              "------------------------------------------------------------------------------\n",
              "const       3.686e+04   1959.786     18.806      0.000    3.29e+04    4.08e+04\n",
              "x1             0.8530      0.030     28.226      0.000       0.792       0.914\n",
              "x2          1.189e+04   1956.677      6.079      0.000    7955.697    1.58e+04\n",
              "x3          1.306e+04   2122.665      6.152      0.000    8785.448    1.73e+04\n",
              "x4           1.19e+04   2036.022      5.847      0.000    7805.580     1.6e+04\n",
              "==============================================================================\n",
              "Omnibus:                       13.418   Durbin-Watson:                   1.122\n",
              "Prob(Omnibus):                  0.001   Jarque-Bera (JB):               17.605\n",
              "Skew:                          -0.907   Prob(JB):                     0.000150\n",
              "Kurtosis:                       5.271   Cond. No.                     1.95e+21\n",
              "==============================================================================\n",
              "\n",
              "Warnings:\n",
              "[1] Standard Errors assume that the covariance matrix of the errors is correctly specified.\n",
              "[2] The smallest eigenvalue is 9.9e-32. This might indicate that there are\n",
              "strong multicollinearity problems or that the design matrix is singular.\n",
              "\"\"\""
            ]
          },
          "metadata": {
            "tags": []
          },
          "execution_count": 30
        }
      ]
    },
    {
      "metadata": {
        "id": "OYCLKPahBpAm",
        "colab_type": "code",
        "colab": {
          "base_uri": "https://localhost:8080/",
          "height": 289
        },
        "outputId": "385c206a-232d-47cb-df5b-b5d2784d3e90"
      },
      "cell_type": "code",
      "source": [
        "print(df.head())\n",
        "print(\"\\n\")\n",
        "print(X[0])"
      ],
      "execution_count": 31,
      "outputs": [
        {
          "output_type": "stream",
          "text": [
            "   R&D Spend  Administration  Marketing Spend     Profit  State_California  \\\n",
            "0  165349.20       136897.80        471784.10  192261.83                 0   \n",
            "1  162597.70       151377.59        443898.53  191792.06                 1   \n",
            "2  153441.51       101145.55        407934.54  191050.39                 0   \n",
            "3  144372.41       118671.85        383199.62  182901.99                 0   \n",
            "4  142107.34        91391.77        366168.42  166187.94                 0   \n",
            "\n",
            "   State_Florida  State_New York  \n",
            "0              0               1  \n",
            "1              0               0  \n",
            "2              1               0  \n",
            "3              0               1  \n",
            "4              1               0  \n",
            "\n",
            "\n",
            "[1.000000e+00 1.653492e+05 0.000000e+00 0.000000e+00 1.000000e+00]\n"
          ],
          "name": "stdout"
        }
      ]
    },
    {
      "metadata": {
        "id": "hY0dE7zUBpAt",
        "colab_type": "code",
        "colab": {
          "base_uri": "https://localhost:8080/",
          "height": 165
        },
        "outputId": "2a01e534-ff94-4aa8-8df3-04e1d0671c1a"
      },
      "cell_type": "code",
      "source": [
        "X=X[:,[1,2,3,4]] "
      ],
      "execution_count": 33,
      "outputs": [
        {
          "output_type": "error",
          "ename": "IndexError",
          "evalue": "ignored",
          "traceback": [
            "\u001b[0;31m---------------------------------------------------------------------------\u001b[0m",
            "\u001b[0;31mIndexError\u001b[0m                                Traceback (most recent call last)",
            "\u001b[0;32m<ipython-input-33-b143790f62b8>\u001b[0m in \u001b[0;36m<module>\u001b[0;34m()\u001b[0m\n\u001b[0;32m----> 1\u001b[0;31m \u001b[0mX\u001b[0m\u001b[0;34m=\u001b[0m\u001b[0mX\u001b[0m\u001b[0;34m[\u001b[0m\u001b[0;34m:\u001b[0m\u001b[0;34m,\u001b[0m\u001b[0;34m[\u001b[0m\u001b[0;36m1\u001b[0m\u001b[0;34m,\u001b[0m\u001b[0;36m2\u001b[0m\u001b[0;34m,\u001b[0m\u001b[0;36m3\u001b[0m\u001b[0;34m,\u001b[0m\u001b[0;36m4\u001b[0m\u001b[0;34m]\u001b[0m\u001b[0;34m]\u001b[0m\u001b[0;34m\u001b[0m\u001b[0;34m\u001b[0m\u001b[0m\n\u001b[0m",
            "\u001b[0;31mIndexError\u001b[0m: index 4 is out of bounds for axis 1 with size 4"
          ]
        }
      ]
    },
    {
      "metadata": {
        "id": "dNALprb8BpAy",
        "colab_type": "code",
        "colab": {
          "base_uri": "https://localhost:8080/",
          "height": 34
        },
        "outputId": "e18ac3c7-92f2-4669-d673-5a209b20813c"
      },
      "cell_type": "code",
      "source": [
        "X[0]"
      ],
      "execution_count": 34,
      "outputs": [
        {
          "output_type": "execute_result",
          "data": {
            "text/plain": [
              "array([1.653492e+05, 0.000000e+00, 0.000000e+00, 1.000000e+00])"
            ]
          },
          "metadata": {
            "tags": []
          },
          "execution_count": 34
        }
      ]
    },
    {
      "metadata": {
        "id": "R7v_txvZBpA3",
        "colab_type": "code",
        "colab": {}
      },
      "cell_type": "code",
      "source": [
        "# Splitting the dataset into the Training set and Test set\n",
        "from sklearn.model_selection import train_test_split\n",
        "X_train, X_test, y_train, y_test = train_test_split(X, y, test_size = 0.2, random_state = 0)"
      ],
      "execution_count": 0,
      "outputs": []
    },
    {
      "metadata": {
        "id": "fNP0vxs4BpA7",
        "colab_type": "code",
        "colab": {
          "base_uri": "https://localhost:8080/",
          "height": 289
        },
        "outputId": "6ad356d3-76b8-4e11-a903-0e2735e129ae"
      },
      "cell_type": "code",
      "source": [
        "from sklearn.linear_model import LinearRegression\n",
        "regressor = LinearRegression()\n",
        "regressor.fit(X_train, y_train)\n",
        "\n",
        "y_pred = regressor.predict(X_test)\n",
        "print(y_pred)\n",
        "print(\"\\n\")\n",
        "print(y_test)"
      ],
      "execution_count": 35,
      "outputs": [
        {
          "output_type": "stream",
          "text": [
            "[103015.20159796 132582.27760816 132447.73845174  71976.09851258\n",
            " 178537.48221055 116161.24230165  67851.69209676  98791.73374687\n",
            " 113969.43533012 167921.0656955 ]\n",
            "\n",
            "\n",
            "28    103282.38\n",
            "11    144259.40\n",
            "10    146121.95\n",
            "41     77798.83\n",
            "2     191050.39\n",
            "27    105008.31\n",
            "38     81229.06\n",
            "31     97483.56\n",
            "22    110352.25\n",
            "4     166187.94\n",
            "Name: Profit, dtype: float64\n"
          ],
          "name": "stdout"
        }
      ]
    },
    {
      "metadata": {
        "id": "ISWr53WcBpBB",
        "colab_type": "code",
        "colab": {
          "base_uri": "https://localhost:8080/",
          "height": 153
        },
        "outputId": "3ad12c27-6e9a-4117-d9ca-15d5312719b0"
      },
      "cell_type": "code",
      "source": [
        "from sklearn import metrics\n",
        "print('MAE:', metrics.mean_absolute_error(y_test, y_pred))\n",
        "print('MSE:', metrics.mean_squared_error(y_test, y_pred))\n",
        "print('RMSE:', np.sqrt(metrics.mean_squared_error(y_test, y_pred)))\n",
        "\n",
        "## Higher the Explained Variance Score, the better the model is:\n",
        "print('Explained Variance Score:', metrics.explained_variance_score(y_test, y_pred)*100)\n",
        "## 95.9% of the variance is explained by the model\n",
        "\n",
        "\n",
        "\n",
        "from sklearn.model_selection import cross_val_score \n",
        "regression_avg = cross_val_score(estimator = regressor, X = X_train, y = y_train, cv = 10,scoring='neg_mean_absolute_error') \n",
        "print (\"Cross val Mean Abs Error:\",regression_avg.mean())\n",
        "\n",
        "from sklearn.model_selection import cross_val_score \n",
        "regression_avg = cross_val_score(estimator = regressor, X = X_train, y = y_train, cv = 10,scoring='explained_variance') \n",
        "print (\"Cross Val Explained Variance:\",regression_avg.mean()*100)\n",
        "\n",
        "\n",
        "from sklearn.metrics import r2_score \n",
        "print('r2:',r2_score(y_test, y_pred)) ## Closer to 1 means better prediction\n",
        "\n",
        "adj_r2=1 - float(len(y_test)-1)/(len(y_test)-len(regressor.coef_)-1)*(1 - metrics.r2_score(y_test,y_pred))\n",
        "print(\"adj_r2=\",adj_r2) ##Closer to 1 the better the prediction"
      ],
      "execution_count": 36,
      "outputs": [
        {
          "output_type": "stream",
          "text": [
            "MAE: 7514.293659640616\n",
            "MSE: 83502864.03257766\n",
            "RMSE: 9137.99015279496\n",
            "Explained Variance Score: 94.69192858652778\n",
            "Cross val Mean Abs Error: -8267.12667479164\n",
            "Cross Val Explained Variance: 76.0343135241068\n",
            "r2: 0.9347068473282423\n",
            "adj_r2= 0.8041205419847268\n"
          ],
          "name": "stdout"
        }
      ]
    },
    {
      "metadata": {
        "collapsed": true,
        "id": "0Fk2aClDBpBH",
        "colab_type": "text"
      },
      "cell_type": "markdown",
      "source": [
        "# Including Marketing Spend "
      ]
    },
    {
      "metadata": {
        "id": "fhVgUmzZBpBI",
        "colab_type": "code",
        "colab": {
          "base_uri": "https://localhost:8080/",
          "height": 255
        },
        "outputId": "e80d0eab-94a9-409e-f83f-37da9a262bef"
      },
      "cell_type": "code",
      "source": [
        "import numpy as np\n",
        "#import matplotlib.pyplot as plt\n",
        "import pandas as pd\n",
        "\n",
        "# Importing the dataset\n",
        "df = pd.read_csv(url) #50_Startups.csv \n",
        "df.head() ## Looking at top 5 records\n",
        "                 \n",
        "### Convert Non Numerical Categorical column into numeric ones\n",
        "##Check the categories which are non numerical\n",
        "\n",
        "categoryList = list(df.select_dtypes(include=['object']).columns)\n",
        "\n",
        "\n",
        "## Create dummy variables for non numerical categorical variables\n",
        "dummies = pd.get_dummies(df[categoryList], prefix= categoryList)\n",
        "print(dummies.head())\n",
        "\n",
        "\n",
        "df.drop(categoryList, axis=1, inplace = True) ## Drop Non numerical categorical columns\n",
        "print(df.head())\n",
        "print(\"\\n\")\n",
        "\n",
        "\n",
        "df=pd.concat([df,dummies], axis =1 ) ## added encoded categorical columns\n",
        "df.head()\n",
        "                 \n",
        "X = df.drop(['Profit','Administration'], axis=1)\n",
        "y = df.Profit\n",
        "\n",
        "\n",
        "## y=bo+b1x1+bnxn can also be written as :\n",
        "## y=boxo+b1x1+bnxn [assuming x0=1]"
      ],
      "execution_count": 37,
      "outputs": [
        {
          "output_type": "stream",
          "text": [
            "   State_California  State_Florida  State_New York\n",
            "0                 0              0               1\n",
            "1                 1              0               0\n",
            "2                 0              1               0\n",
            "3                 0              0               1\n",
            "4                 0              1               0\n",
            "   R&D Spend  Administration  Marketing Spend     Profit\n",
            "0  165349.20       136897.80        471784.10  192261.83\n",
            "1  162597.70       151377.59        443898.53  191792.06\n",
            "2  153441.51       101145.55        407934.54  191050.39\n",
            "3  144372.41       118671.85        383199.62  182901.99\n",
            "4  142107.34        91391.77        366168.42  166187.94\n",
            "\n",
            "\n"
          ],
          "name": "stdout"
        }
      ]
    },
    {
      "metadata": {
        "id": "P2TBsm8eBpBb",
        "colab_type": "code",
        "colab": {
          "base_uri": "https://localhost:8080/",
          "height": 204
        },
        "outputId": "4929681e-dff2-4fcb-9896-eaf160ff216e"
      },
      "cell_type": "code",
      "source": [
        "X.head()"
      ],
      "execution_count": 38,
      "outputs": [
        {
          "output_type": "execute_result",
          "data": {
            "text/html": [
              "<div>\n",
              "<style scoped>\n",
              "    .dataframe tbody tr th:only-of-type {\n",
              "        vertical-align: middle;\n",
              "    }\n",
              "\n",
              "    .dataframe tbody tr th {\n",
              "        vertical-align: top;\n",
              "    }\n",
              "\n",
              "    .dataframe thead th {\n",
              "        text-align: right;\n",
              "    }\n",
              "</style>\n",
              "<table border=\"1\" class=\"dataframe\">\n",
              "  <thead>\n",
              "    <tr style=\"text-align: right;\">\n",
              "      <th></th>\n",
              "      <th>R&amp;D Spend</th>\n",
              "      <th>Marketing Spend</th>\n",
              "      <th>State_California</th>\n",
              "      <th>State_Florida</th>\n",
              "      <th>State_New York</th>\n",
              "    </tr>\n",
              "  </thead>\n",
              "  <tbody>\n",
              "    <tr>\n",
              "      <th>0</th>\n",
              "      <td>165349.20</td>\n",
              "      <td>471784.10</td>\n",
              "      <td>0</td>\n",
              "      <td>0</td>\n",
              "      <td>1</td>\n",
              "    </tr>\n",
              "    <tr>\n",
              "      <th>1</th>\n",
              "      <td>162597.70</td>\n",
              "      <td>443898.53</td>\n",
              "      <td>1</td>\n",
              "      <td>0</td>\n",
              "      <td>0</td>\n",
              "    </tr>\n",
              "    <tr>\n",
              "      <th>2</th>\n",
              "      <td>153441.51</td>\n",
              "      <td>407934.54</td>\n",
              "      <td>0</td>\n",
              "      <td>1</td>\n",
              "      <td>0</td>\n",
              "    </tr>\n",
              "    <tr>\n",
              "      <th>3</th>\n",
              "      <td>144372.41</td>\n",
              "      <td>383199.62</td>\n",
              "      <td>0</td>\n",
              "      <td>0</td>\n",
              "      <td>1</td>\n",
              "    </tr>\n",
              "    <tr>\n",
              "      <th>4</th>\n",
              "      <td>142107.34</td>\n",
              "      <td>366168.42</td>\n",
              "      <td>0</td>\n",
              "      <td>1</td>\n",
              "      <td>0</td>\n",
              "    </tr>\n",
              "  </tbody>\n",
              "</table>\n",
              "</div>"
            ],
            "text/plain": [
              "   R&D Spend  Marketing Spend  State_California  State_Florida  State_New York\n",
              "0  165349.20        471784.10                 0              0               1\n",
              "1  162597.70        443898.53                 1              0               0\n",
              "2  153441.51        407934.54                 0              1               0\n",
              "3  144372.41        383199.62                 0              0               1\n",
              "4  142107.34        366168.42                 0              1               0"
            ]
          },
          "metadata": {
            "tags": []
          },
          "execution_count": 38
        }
      ]
    },
    {
      "metadata": {
        "id": "VhhdZfdzBpBh",
        "colab_type": "code",
        "colab": {
          "base_uri": "https://localhost:8080/",
          "height": 68
        },
        "outputId": "4544411b-4192-4f67-fb5b-c25ed2a3f979"
      },
      "cell_type": "code",
      "source": [
        "from sklearn.model_selection import train_test_split\n",
        "X_train, X_test, y_train, y_test = train_test_split(X, y, test_size = 0.2, random_state = 0)\n",
        "regressor.fit(X_train, y_train)\n",
        "y_pred = regressor.predict(X_test)\n",
        "y_pred\n",
        "\n",
        "print(\"Intercept:\",regressor.intercept_)\n",
        "\n",
        "# Co-Efficient of each Variable\n",
        "print(\"Regression Coeff:\",regressor.coef_) "
      ],
      "execution_count": 39,
      "outputs": [
        {
          "output_type": "stream",
          "text": [
            "Intercept: 46238.45656989747\n",
            "Regression Coeff: [ 7.85141717e-01  3.39564023e-02  9.06036086e+01 -7.35864550e+02\n",
            "  6.45260941e+02]\n"
          ],
          "name": "stdout"
        }
      ]
    },
    {
      "metadata": {
        "id": "RSeOXbilBpBm",
        "colab_type": "code",
        "colab": {
          "base_uri": "https://localhost:8080/",
          "height": 153
        },
        "outputId": "6343fbde-3e85-464a-b27b-0af7ad8abc73"
      },
      "cell_type": "code",
      "source": [
        "from sklearn import metrics\n",
        "print('MAE:', metrics.mean_absolute_error(y_test, y_pred))\n",
        "print('MSE:', metrics.mean_squared_error(y_test, y_pred))\n",
        "print('RMSE:', np.sqrt(metrics.mean_squared_error(y_test, y_pred)))\n",
        "\n",
        "## Higher the Explained Variance Score, the better the model is:\n",
        "print('Explained Variance Score:', metrics.explained_variance_score(y_test, y_pred)*100)\n",
        "## 95.9% of the variance is explained by the model\n",
        "\n",
        "\n",
        "from sklearn.model_selection import cross_val_score \n",
        "regression_avg = cross_val_score(estimator = regressor, X = X_train, y = y_train, cv = 10,scoring='neg_mean_absolute_error') \n",
        "print (\"Cross Val Mean Absolute Error\",regression_avg.mean())\n",
        "\n",
        "from sklearn.model_selection import cross_val_score \n",
        "regression_avg = cross_val_score(estimator = regressor, X = X_train, y = y_train, cv = 10,scoring='explained_variance') \n",
        "print (\"Cross Val Explained Variance:\",regression_avg.mean()*100)\n",
        "\n",
        "from sklearn.metrics import r2_score \n",
        "print('r2:',r2_score(y_test, y_pred)) ## Closer to 1 means better prediction\n",
        "\n",
        "adj_r2=1 - float(len(y_test)-1)/(len(y_test)-len(regressor.coef_)-1)*(1 - metrics.r2_score(y_test,y_pred))\n",
        "print(\"adj_r2=\",adj_r2) ##Closer to 1 the better the prediction"
      ],
      "execution_count": 40,
      "outputs": [
        {
          "output_type": "stream",
          "text": [
            "MAE: 7109.161997627603\n",
            "MSE: 70726699.1446261\n",
            "RMSE: 8409.916714488087\n",
            "Explained Variance Score: 95.46038229358123\n",
            "Cross Val Mean Absolute Error -8125.035591893093\n",
            "Cross Val Explained Variance: 75.76668685601769\n",
            "r2: 0.9446968769428328\n",
            "adj_r2= 0.8755679731213737\n"
          ],
          "name": "stdout"
        }
      ]
    },
    {
      "metadata": {
        "id": "WIJHYRtNBpBs",
        "colab_type": "text"
      },
      "cell_type": "markdown",
      "source": [
        "# Code to automate Backward Elimination"
      ]
    },
    {
      "metadata": {
        "id": "xL-yjmcaBpBt",
        "colab_type": "code",
        "colab": {
          "base_uri": "https://localhost:8080/",
          "height": 255
        },
        "outputId": "5d938fba-05e8-4cf7-894a-cc9bbe9e059c"
      },
      "cell_type": "code",
      "source": [
        "import numpy as np\n",
        "#import matplotlib.pyplot as plt\n",
        "import pandas as pd\n",
        "\n",
        "# Importing the dataset\n",
        "df = pd.read_csv(url) #50_Startups.csv\n",
        "df.head() ## Looking at top 5 records\n",
        "                 \n",
        "### Convert Non Numerical Categorical column into numeric ones\n",
        "##Check the categories which are non numerical\n",
        "\n",
        "categoryList = list(df.select_dtypes(include=['object']).columns)\n",
        "\n",
        "\n",
        "## Create dummy variables for non numerical categorical variables\n",
        "dummies = pd.get_dummies(df[categoryList], prefix= categoryList)\n",
        "print(dummies.head())\n",
        "\n",
        "\n",
        "df.drop(categoryList, axis=1, inplace = True) ## Drop Non numerical categorical columns\n",
        "print(df.head())\n",
        "print(\"\\n\")\n",
        "\n",
        "\n",
        "df=pd.concat([df,dummies], axis =1 ) ## added encoded categorical columns\n",
        "df.head()\n",
        "                 \n",
        "X = df.drop(['Profit'], axis=1)\n",
        "y = df.Profit\n",
        "\n",
        "X=np.append(arr=np.ones((50,1)).astype(int),values=X, axis=1) ## axis=1 means add columns, 50=total number of records. \n",
        "#so it creates 50*1 matrix\n",
        "## np.ones=add 1"
      ],
      "execution_count": 41,
      "outputs": [
        {
          "output_type": "stream",
          "text": [
            "   State_California  State_Florida  State_New York\n",
            "0                 0              0               1\n",
            "1                 1              0               0\n",
            "2                 0              1               0\n",
            "3                 0              0               1\n",
            "4                 0              1               0\n",
            "   R&D Spend  Administration  Marketing Spend     Profit\n",
            "0  165349.20       136897.80        471784.10  192261.83\n",
            "1  162597.70       151377.59        443898.53  191792.06\n",
            "2  153441.51       101145.55        407934.54  191050.39\n",
            "3  144372.41       118671.85        383199.62  182901.99\n",
            "4  142107.34        91391.77        366168.42  166187.94\n",
            "\n",
            "\n"
          ],
          "name": "stdout"
        }
      ]
    },
    {
      "metadata": {
        "id": "UHIylOjJBpB9",
        "colab_type": "code",
        "colab": {
          "base_uri": "https://localhost:8080/",
          "height": 51
        },
        "outputId": "9ea7b2e4-a17f-4b9e-b9dd-3be6ab7c5068"
      },
      "cell_type": "code",
      "source": [
        "X[0]"
      ],
      "execution_count": 42,
      "outputs": [
        {
          "output_type": "execute_result",
          "data": {
            "text/plain": [
              "array([1.000000e+00, 1.653492e+05, 1.368978e+05, 4.717841e+05,\n",
              "       0.000000e+00, 0.000000e+00, 1.000000e+00])"
            ]
          },
          "metadata": {
            "tags": []
          },
          "execution_count": 42
        }
      ]
    },
    {
      "metadata": {
        "id": "g1_UFbWKBpCG",
        "colab_type": "code",
        "colab": {}
      },
      "cell_type": "code",
      "source": [
        "        import statsmodels.formula.api as sm\n",
        "        def backwardElimination(x, sl):\n",
        "            numVars = len(x[0])\n",
        "            for i in range(0, numVars):\n",
        "                regressor_OLS = sm.OLS(y, x).fit()\n",
        "                maxVar = max(regressor_OLS.pvalues).astype(float)\n",
        "                if maxVar > sl:\n",
        "                    for j in range(0, numVars - i):\n",
        "                        if (regressor_OLS.pvalues[j].astype(float) == maxVar):\n",
        "                            x = np.delete(x, j, 1)\n",
        "            regressor_OLS.summary()\n",
        "            return x"
      ],
      "execution_count": 0,
      "outputs": []
    },
    {
      "metadata": {
        "id": "yMXoLSqPBpCJ",
        "colab_type": "code",
        "colab": {
          "base_uri": "https://localhost:8080/",
          "height": 335
        },
        "outputId": "86cd1595-9ece-49c0-adb4-8c67c4c81c33"
      },
      "cell_type": "code",
      "source": [
        "SL = 0.1 ## try with 0.08\n",
        "X = backwardElimination(X, SL)\n",
        "\n",
        "X[0]"
      ],
      "execution_count": 44,
      "outputs": [
        {
          "output_type": "error",
          "ename": "AttributeError",
          "evalue": "ignored",
          "traceback": [
            "\u001b[0;31m---------------------------------------------------------------------------\u001b[0m",
            "\u001b[0;31mAttributeError\u001b[0m                            Traceback (most recent call last)",
            "\u001b[0;32m<ipython-input-44-5d45bcc9a1f8>\u001b[0m in \u001b[0;36m<module>\u001b[0;34m()\u001b[0m\n\u001b[1;32m      1\u001b[0m \u001b[0mSL\u001b[0m \u001b[0;34m=\u001b[0m \u001b[0;36m0.1\u001b[0m \u001b[0;31m## try with 0.08\u001b[0m\u001b[0;34m\u001b[0m\u001b[0;34m\u001b[0m\u001b[0m\n\u001b[0;32m----> 2\u001b[0;31m \u001b[0mX\u001b[0m \u001b[0;34m=\u001b[0m \u001b[0mbackwardElimination\u001b[0m\u001b[0;34m(\u001b[0m\u001b[0mX\u001b[0m\u001b[0;34m,\u001b[0m \u001b[0mSL\u001b[0m\u001b[0;34m)\u001b[0m\u001b[0;34m\u001b[0m\u001b[0;34m\u001b[0m\u001b[0m\n\u001b[0m\u001b[1;32m      3\u001b[0m \u001b[0;34m\u001b[0m\u001b[0m\n\u001b[1;32m      4\u001b[0m \u001b[0mX\u001b[0m\u001b[0;34m[\u001b[0m\u001b[0;36m0\u001b[0m\u001b[0;34m]\u001b[0m\u001b[0;34m\u001b[0m\u001b[0;34m\u001b[0m\u001b[0m\n",
            "\u001b[0;32m<ipython-input-43-4e12305649be>\u001b[0m in \u001b[0;36mbackwardElimination\u001b[0;34m(x, sl)\u001b[0m\n\u001b[1;32m      4\u001b[0m     \u001b[0;32mfor\u001b[0m \u001b[0mi\u001b[0m \u001b[0;32min\u001b[0m \u001b[0mrange\u001b[0m\u001b[0;34m(\u001b[0m\u001b[0;36m0\u001b[0m\u001b[0;34m,\u001b[0m \u001b[0mnumVars\u001b[0m\u001b[0;34m)\u001b[0m\u001b[0;34m:\u001b[0m\u001b[0;34m\u001b[0m\u001b[0;34m\u001b[0m\u001b[0m\n\u001b[1;32m      5\u001b[0m         \u001b[0mregressor_OLS\u001b[0m \u001b[0;34m=\u001b[0m \u001b[0msm\u001b[0m\u001b[0;34m.\u001b[0m\u001b[0mOLS\u001b[0m\u001b[0;34m(\u001b[0m\u001b[0my\u001b[0m\u001b[0;34m,\u001b[0m \u001b[0mx\u001b[0m\u001b[0;34m)\u001b[0m\u001b[0;34m.\u001b[0m\u001b[0mfit\u001b[0m\u001b[0;34m(\u001b[0m\u001b[0;34m)\u001b[0m\u001b[0;34m\u001b[0m\u001b[0;34m\u001b[0m\u001b[0m\n\u001b[0;32m----> 6\u001b[0;31m         \u001b[0mmaxVar\u001b[0m \u001b[0;34m=\u001b[0m \u001b[0mmax\u001b[0m\u001b[0;34m(\u001b[0m\u001b[0mregressor_OLS\u001b[0m\u001b[0;34m.\u001b[0m\u001b[0mpvalues\u001b[0m\u001b[0;34m)\u001b[0m\u001b[0;34m.\u001b[0m\u001b[0mastype\u001b[0m\u001b[0;34m(\u001b[0m\u001b[0mfloat\u001b[0m\u001b[0;34m)\u001b[0m\u001b[0;34m\u001b[0m\u001b[0;34m\u001b[0m\u001b[0m\n\u001b[0m\u001b[1;32m      7\u001b[0m         \u001b[0;32mif\u001b[0m \u001b[0mmaxVar\u001b[0m \u001b[0;34m>\u001b[0m \u001b[0msl\u001b[0m\u001b[0;34m:\u001b[0m\u001b[0;34m\u001b[0m\u001b[0;34m\u001b[0m\u001b[0m\n\u001b[1;32m      8\u001b[0m             \u001b[0;32mfor\u001b[0m \u001b[0mj\u001b[0m \u001b[0;32min\u001b[0m \u001b[0mrange\u001b[0m\u001b[0;34m(\u001b[0m\u001b[0;36m0\u001b[0m\u001b[0;34m,\u001b[0m \u001b[0mnumVars\u001b[0m \u001b[0;34m-\u001b[0m \u001b[0mi\u001b[0m\u001b[0;34m)\u001b[0m\u001b[0;34m:\u001b[0m\u001b[0;34m\u001b[0m\u001b[0;34m\u001b[0m\u001b[0m\n",
            "\u001b[0;31mAttributeError\u001b[0m: 'float' object has no attribute 'astype'"
          ]
        }
      ]
    },
    {
      "metadata": {
        "id": "uvyQ37QsBpCO",
        "colab_type": "code",
        "colab": {}
      },
      "cell_type": "code",
      "source": [
        "X=X[:,[1,2,3,4,5]] "
      ],
      "execution_count": 0,
      "outputs": []
    },
    {
      "metadata": {
        "id": "0TUZ5vRtBpCT",
        "colab_type": "code",
        "colab": {
          "base_uri": "https://localhost:8080/",
          "height": 289
        },
        "outputId": "140ae24c-cc83-4112-c6e6-a3f16443b789"
      },
      "cell_type": "code",
      "source": [
        "print(df.head())\n",
        "print(\"\\n\")\n",
        "print(X[0])"
      ],
      "execution_count": 46,
      "outputs": [
        {
          "output_type": "stream",
          "text": [
            "   R&D Spend  Administration  Marketing Spend     Profit  State_California  \\\n",
            "0  165349.20       136897.80        471784.10  192261.83                 0   \n",
            "1  162597.70       151377.59        443898.53  191792.06                 1   \n",
            "2  153441.51       101145.55        407934.54  191050.39                 0   \n",
            "3  144372.41       118671.85        383199.62  182901.99                 0   \n",
            "4  142107.34        91391.77        366168.42  166187.94                 0   \n",
            "\n",
            "   State_Florida  State_New York  \n",
            "0              0               1  \n",
            "1              0               0  \n",
            "2              1               0  \n",
            "3              0               1  \n",
            "4              1               0  \n",
            "\n",
            "\n",
            "[165349.2 136897.8 471784.1      0.       0. ]\n"
          ],
          "name": "stdout"
        }
      ]
    },
    {
      "metadata": {
        "id": "2Z5h64BZBpCX",
        "colab_type": "code",
        "colab": {
          "base_uri": "https://localhost:8080/",
          "height": 68
        },
        "outputId": "92af7a6e-8e79-4a1b-824b-ef44e78ff3f2"
      },
      "cell_type": "code",
      "source": [
        "from sklearn.model_selection import train_test_split\n",
        "X_train, X_test, y_train, y_test = train_test_split(X, y, test_size = 0.2, random_state = 0)\n",
        "\n",
        "from sklearn.linear_model import LinearRegression\n",
        "regressor = LinearRegression()\n",
        "regressor.fit(X_train, y_train)\n",
        "\n",
        "y_pred = regressor.predict(X_test)\n",
        "y_pred"
      ],
      "execution_count": 47,
      "outputs": [
        {
          "output_type": "execute_result",
          "data": {
            "text/plain": [
              "array([103015.20159776, 132582.27760831, 132447.73845184,  71976.09851266,\n",
              "       178537.4822107 , 116161.24230157,  67851.69209689,  98791.73374679,\n",
              "       113969.43533008, 167921.06569569])"
            ]
          },
          "metadata": {
            "tags": []
          },
          "execution_count": 47
        }
      ]
    },
    {
      "metadata": {
        "id": "vd8aHvSxBpCe",
        "colab_type": "code",
        "colab": {
          "base_uri": "https://localhost:8080/",
          "height": 153
        },
        "outputId": "898dda05-40a0-428f-dfea-c3564628eb15"
      },
      "cell_type": "code",
      "source": [
        "from sklearn import metrics\n",
        "print('MAE:', metrics.mean_absolute_error(y_test, y_pred))\n",
        "print('MSE:', metrics.mean_squared_error(y_test, y_pred))\n",
        "print('RMSE:', np.sqrt(metrics.mean_squared_error(y_test, y_pred)))\n",
        "\n",
        "## Higher the Explained Variance Score, the better the model is:\n",
        "print('Explained Variance Score:', metrics.explained_variance_score(y_test, y_pred)*100)\n",
        "## 95.9% of the variance is explained by the model\n",
        "\n",
        "\n",
        "from sklearn.model_selection import cross_val_score \n",
        "regression_avg = cross_val_score(estimator = regressor, X = X_train, y = y_train, cv = 10,scoring='neg_mean_absolute_error') \n",
        "print (\"Cross Val Mean Absolute Error\",regression_avg.mean())\n",
        "\n",
        "from sklearn.model_selection import cross_val_score \n",
        "regression_avg = cross_val_score(estimator = regressor, X = X_train, y = y_train, cv = 10,scoring='explained_variance') \n",
        "print (\"Cross Val Explained Variance:\",regression_avg.mean()*100)\n",
        "\n",
        "from sklearn.metrics import r2_score \n",
        "print('r2:',r2_score(y_test, y_pred)) ## Closer to 1 means better prediction\n",
        "\n",
        "adj_r2=1 - float(len(y_test)-1)/(len(y_test)-len(regressor.coef_)-1)*(1 - metrics.r2_score(y_test,y_pred))\n",
        "print(\"adj_r2=\",adj_r2) ##Closer to 1 the better the prediction"
      ],
      "execution_count": 49,
      "outputs": [
        {
          "output_type": "stream",
          "text": [
            "MAE: 7514.293659597116\n",
            "MSE: 83502864.03096944\n",
            "RMSE: 9137.990152706963\n",
            "Explained Variance Score: 94.69192858662953\n",
            "Cross Val Mean Absolute Error -8267.126674800245\n",
            "Cross Val Explained Variance: 76.03431352408498\n",
            "r2: 0.9347068473294997\n",
            "adj_r2= 0.8530904064913744\n"
          ],
          "name": "stdout"
        }
      ]
    },
    {
      "metadata": {
        "id": "OjZ0xQezBpCj",
        "colab_type": "code",
        "colab": {}
      },
      "cell_type": "code",
      "source": [
        ""
      ],
      "execution_count": 0,
      "outputs": []
    }
  ]
}