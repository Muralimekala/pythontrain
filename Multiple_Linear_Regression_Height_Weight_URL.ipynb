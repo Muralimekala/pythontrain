{
  "nbformat": 4,
  "nbformat_minor": 0,
  "metadata": {
    "colab": {
      "name": "Multiple_Linear_Regression_Height_Weight.ipynb",
      "version": "0.3.2",
      "provenance": [],
      "collapsed_sections": [],
      "include_colab_link": true
    },
    "kernelspec": {
      "display_name": "Python 3",
      "language": "python",
      "name": "python3"
    }
  },
  "cells": [
    {
      "cell_type": "markdown",
      "metadata": {
        "id": "view-in-github",
        "colab_type": "text"
      },
      "source": [
        "<a href=\"https://colab.research.google.com/github/Muralimekala/pythontrain/blob/master/Multiple_Linear_Regression_Height_Weight_URL.ipynb\" target=\"_parent\"><img src=\"https://colab.research.google.com/assets/colab-badge.svg\" alt=\"Open In Colab\"/></a>"
      ]
    },
    {
      "metadata": {
        "id": "OH8E2TJo3Ljq",
        "colab_type": "code",
        "colab": {}
      },
      "cell_type": "code",
      "source": [
        "import numpy as np\n",
        "%matplotlib inline\n",
        "import matplotlib.pyplot as plt\n",
        "import pandas as pd"
      ],
      "execution_count": 0,
      "outputs": []
    },
    {
      "metadata": {
        "id": "dbFO4TqA3LkR",
        "colab_type": "code",
        "outputId": "d55bf324-b0fb-449e-fea1-7b6effee3519",
        "colab": {
          "base_uri": "https://localhost:8080/",
          "height": 204
        }
      },
      "cell_type": "code",
      "source": [
        "# Importing the dataset\n",
        "url = 'https://raw.githubusercontent.com/Muralimekala/pythontrain/master/weight-height.csv'\n",
        "df = pd.read_csv(url) ## Read the csv file and assign it to pandas dataframe \n",
        "#'C:\\\\Users\\\\ASUS\\\\Desktop\\\\PythonFiles\\\\DataFiles\\\\weight-height.csv'\n",
        "df.head() ## Print the dataset"
      ],
      "execution_count": 3,
      "outputs": [
        {
          "output_type": "execute_result",
          "data": {
            "text/html": [
              "<div>\n",
              "<style scoped>\n",
              "    .dataframe tbody tr th:only-of-type {\n",
              "        vertical-align: middle;\n",
              "    }\n",
              "\n",
              "    .dataframe tbody tr th {\n",
              "        vertical-align: top;\n",
              "    }\n",
              "\n",
              "    .dataframe thead th {\n",
              "        text-align: right;\n",
              "    }\n",
              "</style>\n",
              "<table border=\"1\" class=\"dataframe\">\n",
              "  <thead>\n",
              "    <tr style=\"text-align: right;\">\n",
              "      <th></th>\n",
              "      <th>Gender</th>\n",
              "      <th>Height</th>\n",
              "      <th>Weight</th>\n",
              "    </tr>\n",
              "  </thead>\n",
              "  <tbody>\n",
              "    <tr>\n",
              "      <th>0</th>\n",
              "      <td>Male</td>\n",
              "      <td>73.847017</td>\n",
              "      <td>241.893563</td>\n",
              "    </tr>\n",
              "    <tr>\n",
              "      <th>1</th>\n",
              "      <td>Male</td>\n",
              "      <td>68.781904</td>\n",
              "      <td>162.310473</td>\n",
              "    </tr>\n",
              "    <tr>\n",
              "      <th>2</th>\n",
              "      <td>Male</td>\n",
              "      <td>74.110105</td>\n",
              "      <td>212.740856</td>\n",
              "    </tr>\n",
              "    <tr>\n",
              "      <th>3</th>\n",
              "      <td>Male</td>\n",
              "      <td>71.730978</td>\n",
              "      <td>220.042470</td>\n",
              "    </tr>\n",
              "    <tr>\n",
              "      <th>4</th>\n",
              "      <td>Male</td>\n",
              "      <td>69.881796</td>\n",
              "      <td>206.349801</td>\n",
              "    </tr>\n",
              "  </tbody>\n",
              "</table>\n",
              "</div>"
            ],
            "text/plain": [
              "  Gender     Height      Weight\n",
              "0   Male  73.847017  241.893563\n",
              "1   Male  68.781904  162.310473\n",
              "2   Male  74.110105  212.740856\n",
              "3   Male  71.730978  220.042470\n",
              "4   Male  69.881796  206.349801"
            ]
          },
          "metadata": {
            "tags": []
          },
          "execution_count": 3
        }
      ]
    },
    {
      "metadata": {
        "id": "lJEOCHjG3Lkj",
        "colab_type": "code",
        "outputId": "60a6b4cd-cccc-49ed-92fc-0917cc9b8849",
        "colab": {
          "base_uri": "https://localhost:8080/",
          "height": 280
        }
      },
      "cell_type": "code",
      "source": [
        "#Distribution of numerical variables\n",
        "df.hist(bins=50, figsize=(8,4))\n",
        "plt.show()"
      ],
      "execution_count": 4,
      "outputs": [
        {
          "output_type": "display_data",
          "data": {
            "image/png": "[encoded data removed]",
            "text/plain": [
              "<Figure size 576x288 with 2 Axes>"
            ]
          },
          "metadata": {
            "tags": []
          }
        }
      ]
    },
    {
      "metadata": {
        "id": "Sewj7PXd3Lkt",
        "colab_type": "code",
        "outputId": "02a76ce5-a6b7-45f9-f2cb-efeaf39450d3",
        "colab": {
          "base_uri": "https://localhost:8080/",
          "height": 68
        }
      },
      "cell_type": "code",
      "source": [
        "### Convert Non Numerical Categorical column into numeric ones\n",
        "##Check the categories which are non numerical\n",
        "\n",
        "categoryList = list(df.select_dtypes(include=['object']).columns) ## 'object' type means catgeorical variables\n",
        "print(categoryList)\n",
        "print(\"\\n\")"
      ],
      "execution_count": 5,
      "outputs": [
        {
          "output_type": "stream",
          "text": [
            "['Gender']\n",
            "\n",
            "\n"
          ],
          "name": "stdout"
        }
      ]
    },
    {
      "metadata": {
        "id": "Ganohv-P3Lkz",
        "colab_type": "code",
        "outputId": "db173704-dc1a-4569-9d69-66d32a30527c",
        "colab": {
          "base_uri": "https://localhost:8080/",
          "height": 153
        }
      },
      "cell_type": "code",
      "source": [
        "## Create dummy variables for non numerical categorical variables\n",
        "dummies = pd.get_dummies(df[categoryList], prefix= categoryList)\n",
        "print(dummies.head())\n",
        "print(\"\\n\")"
      ],
      "execution_count": 6,
      "outputs": [
        {
          "output_type": "stream",
          "text": [
            "   Gender_Female  Gender_Male\n",
            "0              0            1\n",
            "1              0            1\n",
            "2              0            1\n",
            "3              0            1\n",
            "4              0            1\n",
            "\n",
            "\n"
          ],
          "name": "stdout"
        }
      ]
    },
    {
      "metadata": {
        "id": "gxvc1HCf3Lk8",
        "colab_type": "code",
        "outputId": "a1112039-c689-4e4c-97ff-2cc86635e39e",
        "colab": {
          "base_uri": "https://localhost:8080/",
          "height": 153
        }
      },
      "cell_type": "code",
      "source": [
        "df.drop(categoryList, axis=1, inplace = True) ## Drop Non numerical categorical columns\n",
        "print(df.head())\n",
        "print(\"\\n\")"
      ],
      "execution_count": 7,
      "outputs": [
        {
          "output_type": "stream",
          "text": [
            "      Height      Weight\n",
            "0  73.847017  241.893563\n",
            "1  68.781904  162.310473\n",
            "2  74.110105  212.740856\n",
            "3  71.730978  220.042470\n",
            "4  69.881796  206.349801\n",
            "\n",
            "\n"
          ],
          "name": "stdout"
        }
      ]
    },
    {
      "metadata": {
        "id": "z7D-DBEK3LlE",
        "colab_type": "code",
        "outputId": "ca3e5538-4452-48e0-f95e-92aa3070eb8a",
        "colab": {
          "base_uri": "https://localhost:8080/",
          "height": 204
        }
      },
      "cell_type": "code",
      "source": [
        "df=pd.concat([df,dummies], axis =1 ) ## added encoded categorical columns\n",
        "df.head()"
      ],
      "execution_count": 8,
      "outputs": [
        {
          "output_type": "execute_result",
          "data": {
            "text/html": [
              "<div>\n",
              "<style scoped>\n",
              "    .dataframe tbody tr th:only-of-type {\n",
              "        vertical-align: middle;\n",
              "    }\n",
              "\n",
              "    .dataframe tbody tr th {\n",
              "        vertical-align: top;\n",
              "    }\n",
              "\n",
              "    .dataframe thead th {\n",
              "        text-align: right;\n",
              "    }\n",
              "</style>\n",
              "<table border=\"1\" class=\"dataframe\">\n",
              "  <thead>\n",
              "    <tr style=\"text-align: right;\">\n",
              "      <th></th>\n",
              "      <th>Height</th>\n",
              "      <th>Weight</th>\n",
              "      <th>Gender_Female</th>\n",
              "      <th>Gender_Male</th>\n",
              "    </tr>\n",
              "  </thead>\n",
              "  <tbody>\n",
              "    <tr>\n",
              "      <th>0</th>\n",
              "      <td>73.847017</td>\n",
              "      <td>241.893563</td>\n",
              "      <td>0</td>\n",
              "      <td>1</td>\n",
              "    </tr>\n",
              "    <tr>\n",
              "      <th>1</th>\n",
              "      <td>68.781904</td>\n",
              "      <td>162.310473</td>\n",
              "      <td>0</td>\n",
              "      <td>1</td>\n",
              "    </tr>\n",
              "    <tr>\n",
              "      <th>2</th>\n",
              "      <td>74.110105</td>\n",
              "      <td>212.740856</td>\n",
              "      <td>0</td>\n",
              "      <td>1</td>\n",
              "    </tr>\n",
              "    <tr>\n",
              "      <th>3</th>\n",
              "      <td>71.730978</td>\n",
              "      <td>220.042470</td>\n",
              "      <td>0</td>\n",
              "      <td>1</td>\n",
              "    </tr>\n",
              "    <tr>\n",
              "      <th>4</th>\n",
              "      <td>69.881796</td>\n",
              "      <td>206.349801</td>\n",
              "      <td>0</td>\n",
              "      <td>1</td>\n",
              "    </tr>\n",
              "  </tbody>\n",
              "</table>\n",
              "</div>"
            ],
            "text/plain": [
              "      Height      Weight  Gender_Female  Gender_Male\n",
              "0  73.847017  241.893563              0            1\n",
              "1  68.781904  162.310473              0            1\n",
              "2  74.110105  212.740856              0            1\n",
              "3  71.730978  220.042470              0            1\n",
              "4  69.881796  206.349801              0            1"
            ]
          },
          "metadata": {
            "tags": []
          },
          "execution_count": 8
        }
      ]
    },
    {
      "metadata": {
        "id": "yNea-Wlt3LlM",
        "colab_type": "code",
        "outputId": "8b0fe7d5-d308-468e-9af6-bf20b39357c7",
        "colab": {
          "base_uri": "https://localhost:8080/",
          "height": 204
        }
      },
      "cell_type": "code",
      "source": [
        "X = df.drop(['Weight'], axis=1)\n",
        "y = df.Weight\n",
        "\n",
        "X.head()"
      ],
      "execution_count": 9,
      "outputs": [
        {
          "output_type": "execute_result",
          "data": {
            "text/html": [
              "<div>\n",
              "<style scoped>\n",
              "    .dataframe tbody tr th:only-of-type {\n",
              "        vertical-align: middle;\n",
              "    }\n",
              "\n",
              "    .dataframe tbody tr th {\n",
              "        vertical-align: top;\n",
              "    }\n",
              "\n",
              "    .dataframe thead th {\n",
              "        text-align: right;\n",
              "    }\n",
              "</style>\n",
              "<table border=\"1\" class=\"dataframe\">\n",
              "  <thead>\n",
              "    <tr style=\"text-align: right;\">\n",
              "      <th></th>\n",
              "      <th>Height</th>\n",
              "      <th>Gender_Female</th>\n",
              "      <th>Gender_Male</th>\n",
              "    </tr>\n",
              "  </thead>\n",
              "  <tbody>\n",
              "    <tr>\n",
              "      <th>0</th>\n",
              "      <td>73.847017</td>\n",
              "      <td>0</td>\n",
              "      <td>1</td>\n",
              "    </tr>\n",
              "    <tr>\n",
              "      <th>1</th>\n",
              "      <td>68.781904</td>\n",
              "      <td>0</td>\n",
              "      <td>1</td>\n",
              "    </tr>\n",
              "    <tr>\n",
              "      <th>2</th>\n",
              "      <td>74.110105</td>\n",
              "      <td>0</td>\n",
              "      <td>1</td>\n",
              "    </tr>\n",
              "    <tr>\n",
              "      <th>3</th>\n",
              "      <td>71.730978</td>\n",
              "      <td>0</td>\n",
              "      <td>1</td>\n",
              "    </tr>\n",
              "    <tr>\n",
              "      <th>4</th>\n",
              "      <td>69.881796</td>\n",
              "      <td>0</td>\n",
              "      <td>1</td>\n",
              "    </tr>\n",
              "  </tbody>\n",
              "</table>\n",
              "</div>"
            ],
            "text/plain": [
              "      Height  Gender_Female  Gender_Male\n",
              "0  73.847017              0            1\n",
              "1  68.781904              0            1\n",
              "2  74.110105              0            1\n",
              "3  71.730978              0            1\n",
              "4  69.881796              0            1"
            ]
          },
          "metadata": {
            "tags": []
          },
          "execution_count": 9
        }
      ]
    },
    {
      "metadata": {
        "id": "dH4fpiCE3LlU",
        "colab_type": "code",
        "outputId": "51a03b69-efc7-484c-c44a-d39bf318c48e",
        "colab": {
          "base_uri": "https://localhost:8080/",
          "height": 119
        }
      },
      "cell_type": "code",
      "source": [
        "y.head()"
      ],
      "execution_count": 10,
      "outputs": [
        {
          "output_type": "execute_result",
          "data": {
            "text/plain": [
              "0    241.893563\n",
              "1    162.310473\n",
              "2    212.740856\n",
              "3    220.042470\n",
              "4    206.349801\n",
              "Name: Weight, dtype: float64"
            ]
          },
          "metadata": {
            "tags": []
          },
          "execution_count": 10
        }
      ]
    },
    {
      "metadata": {
        "id": "nPDdWV4K3Llf",
        "colab_type": "code",
        "outputId": "fc79e883-2b94-43f6-cc94-7f7823048985",
        "colab": {
          "base_uri": "https://localhost:8080/",
          "height": 119
        }
      },
      "cell_type": "code",
      "source": [
        "# Splitting the dataset into the Training set and Test set\n",
        "from sklearn.model_selection import train_test_split\n",
        "X_train, X_test, y_train, y_test = train_test_split(X, y, test_size = 0.2, random_state = 0)\n",
        "\n",
        "print(X_train[0:5])"
      ],
      "execution_count": 11,
      "outputs": [
        {
          "output_type": "stream",
          "text": [
            "         Height  Gender_Female  Gender_Male\n",
            "7389  59.368139              1            0\n",
            "9275  63.916578              1            0\n",
            "2995  73.075345              0            1\n",
            "5316  62.426961              1            0\n",
            "356   70.490929              0            1\n"
          ],
          "name": "stdout"
        }
      ]
    },
    {
      "metadata": {
        "id": "aQqiSm8R3Llo",
        "colab_type": "code",
        "outputId": "8a6873ee-1a68-4e19-e4cc-f3070ee2d907",
        "colab": {
          "base_uri": "https://localhost:8080/",
          "height": 51
        }
      },
      "cell_type": "code",
      "source": [
        "from sklearn.linear_model import LinearRegression\n",
        "regressor = LinearRegression()\n",
        "regressor.fit(X_train, y_train) ## fitted training data for the algorithm to find the pattern\n",
        "\n",
        "\n",
        "#r2_mc=regressor.score(X_train,y_train)\n",
        "\n",
        "# Intercept ## Mean value of Y when X=0 [constant=when all independent variables are zero]\n",
        "print(\"Intercept:\",regressor.intercept_)\n",
        "\n",
        "# Co-Efficient of each Variable\n",
        "print(\"Regression Coeff:\",regressor.coef_) "
      ],
      "execution_count": 12,
      "outputs": [
        {
          "output_type": "stream",
          "text": [
            "Intercept: -234.27302197425766\n",
            "Regression Coeff: [ 5.96260976 -9.71190845  9.71190845]\n"
          ],
          "name": "stdout"
        }
      ]
    },
    {
      "metadata": {
        "id": "-bkq68D43Llu",
        "colab_type": "code",
        "outputId": "ed94146d-d021-4cfe-f092-fa9c98c053e4",
        "colab": {
          "base_uri": "https://localhost:8080/",
          "height": 1139
        }
      },
      "cell_type": "code",
      "source": [
        "# Predicting the Test set results\n",
        "y_pred = regressor.predict(X_test)\n",
        "print(y_pred)\n",
        "print(\"\\n\")\n",
        "print(y_test)"
      ],
      "execution_count": 13,
      "outputs": [
        {
          "output_type": "stream",
          "text": [
            "[141.93828842 176.55658781 219.77836195 ... 149.97129636 166.83374903\n",
            " 138.87940678]\n",
            "\n",
            "\n",
            "9394    138.085796\n",
            "898     187.363366\n",
            "2398    216.533191\n",
            "5906    131.761443\n",
            "2343    157.718438\n",
            "8225     98.516079\n",
            "5506    149.631949\n",
            "6451    133.515492\n",
            "2670    188.053333\n",
            "3497    210.198845\n",
            "1087    220.273901\n",
            "1819    216.713478\n",
            "2308    168.982092\n",
            "6084    112.043944\n",
            "3724    186.492898\n",
            "3184    187.120945\n",
            "6387    146.229436\n",
            "3728    168.519763\n",
            "2702    161.889769\n",
            "7883    144.226987\n",
            "2930    216.056503\n",
            "5988    125.401720\n",
            "4890    169.405619\n",
            "6718    148.638806\n",
            "5423    179.727325\n",
            "3213    194.867543\n",
            "3017    196.473754\n",
            "382     189.893342\n",
            "4237    187.725678\n",
            "4721    240.440816\n",
            "           ...    \n",
            "9236    136.050338\n",
            "1255    163.633597\n",
            "3445    191.703763\n",
            "5859    142.971914\n",
            "5450    120.545153\n",
            "5299    124.667940\n",
            "1712    190.522037\n",
            "7920    118.821493\n",
            "5194    134.395979\n",
            "1578    181.377015\n",
            "4943    203.978418\n",
            "3975    210.054856\n",
            "7134    152.809403\n",
            "5760    128.037235\n",
            "5276    128.148813\n",
            "8556    137.103401\n",
            "1624    169.611562\n",
            "4707    165.350101\n",
            "8387    156.954377\n",
            "5507    173.532518\n",
            "5581    164.161857\n",
            "7133    137.839896\n",
            "4041    179.053683\n",
            "4807    225.540079\n",
            "1774    162.619097\n",
            "1037    189.856786\n",
            "2899    202.906859\n",
            "9549    152.420031\n",
            "2740    170.100647\n",
            "6690    158.206206\n",
            "Name: Weight, Length: 2000, dtype: float64\n"
          ],
          "name": "stdout"
        }
      ]
    },
    {
      "metadata": {
        "id": "bO7cJ-6c3Ll2",
        "colab_type": "code",
        "outputId": "c53cf1ca-a0ed-4f43-9c69-089ca0dccbe2",
        "colab": {
          "base_uri": "https://localhost:8080/",
          "height": 85
        }
      },
      "cell_type": "code",
      "source": [
        "from sklearn import metrics\n",
        "print('MAE:', metrics.mean_absolute_error(y_test, y_pred))\n",
        "print('MSE:', metrics.mean_squared_error(y_test, y_pred))\n",
        "print('RMSE:', np.sqrt(metrics.mean_squared_error(y_test, y_pred)))\n",
        "\n",
        "## Higher the Explained Variance Score, the better the model is:\n",
        "print('Explained Variance Score:', metrics.explained_variance_score(y_test, y_pred)*100)\n",
        "## 94.6% of the variance or variability of the data is explained by the model"
      ],
      "execution_count": 14,
      "outputs": [
        {
          "output_type": "stream",
          "text": [
            "MAE: 7.955916525326744\n",
            "MSE: 97.87152220196162\n",
            "RMSE: 9.893003699684016\n",
            "Explained Variance Score: 90.52916399111471\n"
          ],
          "name": "stdout"
        }
      ]
    },
    {
      "metadata": {
        "id": "ZV9d_YMp3Ll_",
        "colab_type": "code",
        "outputId": "48520d61-77eb-4931-832b-fe7eef743655",
        "colab": {
          "base_uri": "https://localhost:8080/",
          "height": 51
        }
      },
      "cell_type": "code",
      "source": [
        "from sklearn.metrics import r2_score \n",
        "print('r2:',r2_score(y_test, y_pred)) \n",
        "## Closer to 1 means better prediction. r2 indicates the closeness to regression line to actual line\n",
        "\n",
        "adj_r2=1 - float(len(y_test)-1)/(len(y_test)-len(regressor.coef_)-1)*(1 - metrics.r2_score(y_test,y_pred))\n",
        "print(\"adj_r2=\",adj_r2) \n",
        "##Closer to 1 the better the prediction. However, it punishes if unnecessary variables are added. "
      ],
      "execution_count": 15,
      "outputs": [
        {
          "output_type": "stream",
          "text": [
            "r2: 0.9052889824534557\n",
            "adj_r2= 0.9051466312246783\n"
          ],
          "name": "stdout"
        }
      ]
    },
    {
      "metadata": {
        "id": "X9iJoQ6K3LmH",
        "colab_type": "code",
        "outputId": "7f71865e-9130-4319-b827-5ee3052c22fc",
        "colab": {
          "base_uri": "https://localhost:8080/",
          "height": 51
        }
      },
      "cell_type": "code",
      "source": [
        "from sklearn.model_selection import cross_val_score \n",
        "regression_avg = cross_val_score(estimator = regressor, X = X_train, y = y_train, cv = 10,scoring='neg_median_absolute_error') \n",
        "print (\"Cross Val Mean Absolute Error\",regression_avg.mean())\n",
        "\n",
        "from sklearn.model_selection import cross_val_score \n",
        "regression_avg = cross_val_score(estimator = regressor, X = X_train, y = y_train, cv = 10,scoring='explained_variance') \n",
        "print (\"Cross Val Explained Variance:\",regression_avg.mean()*100)"
      ],
      "execution_count": 16,
      "outputs": [
        {
          "output_type": "stream",
          "text": [
            "Cross Val Mean Absolute Error -6.823393412058401\n",
            "Cross Val Explained Variance: 90.18174389179362\n"
          ],
          "name": "stdout"
        }
      ]
    },
    {
      "metadata": {
        "collapsed": true,
        "id": "DYznNvAW3LmO",
        "colab_type": "code",
        "outputId": "b4158e2a-2610-416a-f74d-068abc0f1159",
        "colab": {
          "base_uri": "https://localhost:8080/",
          "height": 476
        }
      },
      "cell_type": "code",
      "source": [
        "print(\"Model Performance Test: In terms of Error\")\n",
        "\n",
        "from sklearn import metrics\n",
        "print('MAE:', metrics.mean_absolute_error(y_test, y_pred))\n",
        "print('MSE:', metrics.mean_squared_error(y_test, y_pred))\n",
        "print('RMSE:', np.sqrt(metrics.mean_squared_error(y_test, y_pred)))\n",
        "\n",
        "## Higher the Explained Variance Score, the better the model is:\n",
        "print('Explained Variance Score:', metrics.explained_variance_score(y_test, y_pred)*100)\n",
        "## 95.9% of the variance is explained by the model\n",
        "\n",
        "print(\"\\n\")\n",
        "\n",
        "print(\"Model Performance Test: In terms of Cross validation : BIAS VARIANCE TEST\")\n",
        "\n",
        "from sklearn.model_selection import cross_val_score \n",
        "regression_avg_mae = cross_val_score(estimator = regressor, X = X_train, y = y_train, cv = 10,scoring='neg_mean_absolute_error') \n",
        "print (\"Cross val Mean Abs Error:\",regression_avg_mae.mean())\n",
        "\n",
        "from sklearn.model_selection import cross_val_score \n",
        "regression_avg_ev = cross_val_score(estimator = regressor, X = X_train, y = y_train, cv = 10,scoring='explained_variance') \n",
        "print (\"Cross Val Explained Variance:\",regression_avg_ev.mean()*100)\n",
        "\n",
        "print(\"Standard_Dev for Explained Variance=\",regression_avg_ev.std()*100)\n",
        "print(\"Standard_Dev for Mean Abs Error=\",regression_avg_mae.std()*100)\n",
        "\n",
        "print(\"Model Performance Test: Bias-Variance\")\n",
        "\n",
        "\n",
        "r2_mc_train=regressor.score(X_train,y_train)\n",
        "print(\"Training_r2=\",r2_mc_train)\n",
        "\n",
        "\n",
        "r2_mc_test=regressor.score(X_test,y_test)\n",
        "\n",
        "print(\"Test_r2=\",r2_mc_test)\n",
        "\n",
        "\n",
        "\n",
        "\n",
        "print(\"\\n\")\n",
        "\n",
        "print(\"\\n\")\n",
        "\n",
        "\n",
        "\n",
        "print(\"Model Performance Test: In terms of r2\")\n",
        "\n",
        "\n",
        "from sklearn.metrics import r2_score \n",
        "print('r2:',r2_score(y_test, y_pred)) ## Closer to 1 means better prediction\n",
        "\n",
        "adj_r2=1 - float(len(y_test)-1)/(len(y_test)-len(regressor.coef_)-1)*(1 - metrics.r2_score(y_test,y_pred))\n",
        "print(\"adj_r2=\",adj_r2) ##Closer to 1 the better the prediction\n",
        "\n",
        "\n",
        "print(\"\\n\")\n",
        "\n",
        "\n",
        "\n",
        "print(\"Model Performance Test: MultiCollinearity\")\n",
        "\n",
        "## Do a multicollinearity test\n",
        "vif_train=1/(1-r2_mc_train) ## to determine multi collinearity. Greater than 5 means very high multi collinearity\n",
        "print(\"VIF Train:\",vif_train)\n",
        "\n",
        "vif_test=1/(1-r2_mc_test) ## to determine multi collinearity. Greater than 5 means very high multi collinearity\n",
        "print(\"VIF Test:\",vif_test)\n",
        "\n",
        "\n"
      ],
      "execution_count": 17,
      "outputs": [
        {
          "output_type": "stream",
          "text": [
            "Model Performance Test: In terms of Error\n",
            "MAE: 7.955916525326744\n",
            "MSE: 97.87152220196162\n",
            "RMSE: 9.893003699684016\n",
            "Explained Variance Score: 90.52916399111471\n",
            "\n",
            "\n",
            "Model Performance Test: In terms of Cross validation : BIAS VARIANCE TEST\n",
            "Cross val Mean Abs Error: -8.003636890396415\n",
            "Cross Val Explained Variance: 90.18174389179362\n",
            "Standard_Dev for Explained Variance= 0.6661331064217353\n",
            "Standard_Dev for Mean Abs Error= 21.699340087218168\n",
            "Model Performance Test: Bias-Variance\n",
            "Training_r2= 0.9021035919691243\n",
            "Test_r2= 0.9052889824534557\n",
            "\n",
            "\n",
            "\n",
            "\n",
            "Model Performance Test: In terms of r2\n",
            "r2: 0.9052889824534557\n",
            "adj_r2= 0.9051466312246783\n",
            "\n",
            "\n",
            "Model Performance Test: MultiCollinearity\n",
            "VIF Train: 10.21487938234269\n",
            "VIF Test: 10.558433706074004\n"
          ],
          "name": "stdout"
        }
      ]
    },
    {
      "metadata": {
        "id": "0Tvu5UfJ3LmX",
        "colab_type": "code",
        "outputId": "d2e0320e-865c-4982-fc21-10ae1ffcd0fb",
        "colab": {}
      },
      "cell_type": "code",
      "source": [
        "\n"
      ],
      "execution_count": 0,
      "outputs": [
        {
          "output_type": "stream",
          "text": [
            "Regression Coeff: [ 5.96260976 -9.71190845  9.71190845]\n"
          ],
          "name": "stdout"
        }
      ]
    },
    {
      "metadata": {
        "id": "6aD5ZIgi3Lmm",
        "colab_type": "code",
        "colab": {}
      },
      "cell_type": "code",
      "source": [
        ""
      ],
      "execution_count": 0,
      "outputs": []
    }
  ]
}