{
  "nbformat": 4,
  "nbformat_minor": 0,
  "metadata": {
    "colab": {
      "name": "4-Regularization_ForClass.ipynb",
      "version": "0.3.2",
      "provenance": [],
      "collapsed_sections": [
        "G5CED3Mk4zGP",
        "M3Ohvhgw4zG8",
        "C6zUpvWy4zHR",
        "qG8Fa9ho4zHm",
        "oZ6N2WR84zIC",
        "k6eEjeSX4zIa"
      ],
      "include_colab_link": true
    },
    "kernelspec": {
      "display_name": "Python 3",
      "language": "python",
      "name": "python3"
    }
  },
  "cells": [
    {
      "cell_type": "markdown",
      "metadata": {
        "id": "view-in-github",
        "colab_type": "text"
      },
      "source": [
        "<a href=\"https://colab.research.google.com/github/Muralimekala/pythontrain/blob/master/4_Regularization_ForClass_TrainBigmart%20sales_Url.ipynb\" target=\"_parent\"><img src=\"https://colab.research.google.com/assets/colab-badge.svg\" alt=\"Open In Colab\"/></a>"
      ]
    },
    {
      "metadata": {
        "id": "4jSXQO8n4zCX",
        "colab_type": "code",
        "colab": {}
      },
      "cell_type": "code",
      "source": [
        "import numpy as np\n",
        "import pandas as pd\n",
        "from pandas import Series, DataFrame\n",
        "from sklearn.model_selection import train_test_split\n",
        "import seaborn as sns\n",
        "%matplotlib inline"
      ],
      "execution_count": 0,
      "outputs": []
    },
    {
      "metadata": {
        "id": "Vj6Rpw584zC1",
        "colab_type": "code",
        "outputId": "1172fe42-8dba-4cc9-bdfc-5beb0ed27537",
        "colab": {
          "base_uri": "https://localhost:8080/",
          "height": 309
        }
      },
      "cell_type": "code",
      "source": [
        "url = 'https://raw.githubusercontent.com/Muralimekala/pythontrain/master/Train_BigMartSales.csv'\n",
        "train = pd.read_csv(url)\n",
        "#Train_BigMartSales.csv\n",
        "train.head()"
      ],
      "execution_count": 3,
      "outputs": [
        {
          "output_type": "execute_result",
          "data": {
            "text/html": [
              "<div>\n",
              "<style scoped>\n",
              "    .dataframe tbody tr th:only-of-type {\n",
              "        vertical-align: middle;\n",
              "    }\n",
              "\n",
              "    .dataframe tbody tr th {\n",
              "        vertical-align: top;\n",
              "    }\n",
              "\n",
              "    .dataframe thead th {\n",
              "        text-align: right;\n",
              "    }\n",
              "</style>\n",
              "<table border=\"1\" class=\"dataframe\">\n",
              "  <thead>\n",
              "    <tr style=\"text-align: right;\">\n",
              "      <th></th>\n",
              "      <th>Item_Identifier</th>\n",
              "      <th>Item_Weight</th>\n",
              "      <th>Item_Fat_Content</th>\n",
              "      <th>Item_Visibility</th>\n",
              "      <th>Item_Type</th>\n",
              "      <th>Item_MRP</th>\n",
              "      <th>Outlet_Identifier</th>\n",
              "      <th>Outlet_Establishment_Year</th>\n",
              "      <th>Outlet_Size</th>\n",
              "      <th>Outlet_Location_Type</th>\n",
              "      <th>Outlet_Type</th>\n",
              "      <th>Item_Outlet_Sales</th>\n",
              "    </tr>\n",
              "  </thead>\n",
              "  <tbody>\n",
              "    <tr>\n",
              "      <th>0</th>\n",
              "      <td>FDA15</td>\n",
              "      <td>9.30</td>\n",
              "      <td>Low Fat</td>\n",
              "      <td>0.02</td>\n",
              "      <td>Dairy</td>\n",
              "      <td>249.81</td>\n",
              "      <td>OUT049</td>\n",
              "      <td>1999</td>\n",
              "      <td>Medium</td>\n",
              "      <td>Tier 1</td>\n",
              "      <td>Supermarket Type1</td>\n",
              "      <td>3735.14</td>\n",
              "    </tr>\n",
              "    <tr>\n",
              "      <th>1</th>\n",
              "      <td>DRC01</td>\n",
              "      <td>5.92</td>\n",
              "      <td>Regular</td>\n",
              "      <td>0.02</td>\n",
              "      <td>Soft Drinks</td>\n",
              "      <td>48.27</td>\n",
              "      <td>OUT018</td>\n",
              "      <td>2009</td>\n",
              "      <td>Medium</td>\n",
              "      <td>Tier 3</td>\n",
              "      <td>Supermarket Type2</td>\n",
              "      <td>443.42</td>\n",
              "    </tr>\n",
              "    <tr>\n",
              "      <th>2</th>\n",
              "      <td>FDN15</td>\n",
              "      <td>17.50</td>\n",
              "      <td>Low Fat</td>\n",
              "      <td>0.02</td>\n",
              "      <td>Meat</td>\n",
              "      <td>141.62</td>\n",
              "      <td>OUT049</td>\n",
              "      <td>1999</td>\n",
              "      <td>Medium</td>\n",
              "      <td>Tier 1</td>\n",
              "      <td>Supermarket Type1</td>\n",
              "      <td>2097.27</td>\n",
              "    </tr>\n",
              "    <tr>\n",
              "      <th>3</th>\n",
              "      <td>FDX07</td>\n",
              "      <td>19.20</td>\n",
              "      <td>Regular</td>\n",
              "      <td>0.00</td>\n",
              "      <td>Fruits and Vegetables</td>\n",
              "      <td>182.10</td>\n",
              "      <td>OUT010</td>\n",
              "      <td>1998</td>\n",
              "      <td>NaN</td>\n",
              "      <td>Tier 3</td>\n",
              "      <td>Grocery Store</td>\n",
              "      <td>732.38</td>\n",
              "    </tr>\n",
              "    <tr>\n",
              "      <th>4</th>\n",
              "      <td>NCD19</td>\n",
              "      <td>8.93</td>\n",
              "      <td>Low Fat</td>\n",
              "      <td>0.00</td>\n",
              "      <td>Household</td>\n",
              "      <td>53.86</td>\n",
              "      <td>OUT013</td>\n",
              "      <td>1987</td>\n",
              "      <td>High</td>\n",
              "      <td>Tier 3</td>\n",
              "      <td>Supermarket Type1</td>\n",
              "      <td>994.71</td>\n",
              "    </tr>\n",
              "  </tbody>\n",
              "</table>\n",
              "</div>"
            ],
            "text/plain": [
              "  Item_Identifier  Item_Weight Item_Fat_Content  Item_Visibility  \\\n",
              "0           FDA15         9.30          Low Fat             0.02   \n",
              "1           DRC01         5.92          Regular             0.02   \n",
              "2           FDN15        17.50          Low Fat             0.02   \n",
              "3           FDX07        19.20          Regular             0.00   \n",
              "4           NCD19         8.93          Low Fat             0.00   \n",
              "\n",
              "               Item_Type  Item_MRP Outlet_Identifier  \\\n",
              "0                  Dairy    249.81            OUT049   \n",
              "1            Soft Drinks     48.27            OUT018   \n",
              "2                   Meat    141.62            OUT049   \n",
              "3  Fruits and Vegetables    182.10            OUT010   \n",
              "4              Household     53.86            OUT013   \n",
              "\n",
              "   Outlet_Establishment_Year Outlet_Size Outlet_Location_Type  \\\n",
              "0                       1999      Medium               Tier 1   \n",
              "1                       2009      Medium               Tier 3   \n",
              "2                       1999      Medium               Tier 1   \n",
              "3                       1998         NaN               Tier 3   \n",
              "4                       1987        High               Tier 3   \n",
              "\n",
              "         Outlet_Type  Item_Outlet_Sales  \n",
              "0  Supermarket Type1            3735.14  \n",
              "1  Supermarket Type2             443.42  \n",
              "2  Supermarket Type1            2097.27  \n",
              "3      Grocery Store             732.38  \n",
              "4  Supermarket Type1             994.71  "
            ]
          },
          "metadata": {
            "tags": []
          },
          "execution_count": 3
        }
      ]
    },
    {
      "metadata": {
        "id": "77ogUw8W4zC-",
        "colab_type": "code",
        "outputId": "9f647981-2413-4b88-f7a9-73b7e89fab95",
        "colab": {
          "base_uri": "https://localhost:8080/",
          "height": 297
        }
      },
      "cell_type": "code",
      "source": [
        "train.describe()"
      ],
      "execution_count": 4,
      "outputs": [
        {
          "output_type": "execute_result",
          "data": {
            "text/html": [
              "<div>\n",
              "<style scoped>\n",
              "    .dataframe tbody tr th:only-of-type {\n",
              "        vertical-align: middle;\n",
              "    }\n",
              "\n",
              "    .dataframe tbody tr th {\n",
              "        vertical-align: top;\n",
              "    }\n",
              "\n",
              "    .dataframe thead th {\n",
              "        text-align: right;\n",
              "    }\n",
              "</style>\n",
              "<table border=\"1\" class=\"dataframe\">\n",
              "  <thead>\n",
              "    <tr style=\"text-align: right;\">\n",
              "      <th></th>\n",
              "      <th>Item_Weight</th>\n",
              "      <th>Item_Visibility</th>\n",
              "      <th>Item_MRP</th>\n",
              "      <th>Outlet_Establishment_Year</th>\n",
              "      <th>Item_Outlet_Sales</th>\n",
              "    </tr>\n",
              "  </thead>\n",
              "  <tbody>\n",
              "    <tr>\n",
              "      <th>count</th>\n",
              "      <td>7060.000000</td>\n",
              "      <td>8523.000000</td>\n",
              "      <td>8523.000000</td>\n",
              "      <td>8523.000000</td>\n",
              "      <td>8523.000000</td>\n",
              "    </tr>\n",
              "    <tr>\n",
              "      <th>mean</th>\n",
              "      <td>12.857645</td>\n",
              "      <td>0.066164</td>\n",
              "      <td>140.992878</td>\n",
              "      <td>1997.831867</td>\n",
              "      <td>2181.289052</td>\n",
              "    </tr>\n",
              "    <tr>\n",
              "      <th>std</th>\n",
              "      <td>4.643456</td>\n",
              "      <td>0.051641</td>\n",
              "      <td>62.275160</td>\n",
              "      <td>8.371760</td>\n",
              "      <td>1706.499641</td>\n",
              "    </tr>\n",
              "    <tr>\n",
              "      <th>min</th>\n",
              "      <td>4.555000</td>\n",
              "      <td>0.000000</td>\n",
              "      <td>31.290000</td>\n",
              "      <td>1985.000000</td>\n",
              "      <td>33.290000</td>\n",
              "    </tr>\n",
              "    <tr>\n",
              "      <th>25%</th>\n",
              "      <td>8.773750</td>\n",
              "      <td>0.030000</td>\n",
              "      <td>93.825000</td>\n",
              "      <td>1987.000000</td>\n",
              "      <td>834.245000</td>\n",
              "    </tr>\n",
              "    <tr>\n",
              "      <th>50%</th>\n",
              "      <td>12.600000</td>\n",
              "      <td>0.050000</td>\n",
              "      <td>143.010000</td>\n",
              "      <td>1999.000000</td>\n",
              "      <td>1794.330000</td>\n",
              "    </tr>\n",
              "    <tr>\n",
              "      <th>75%</th>\n",
              "      <td>16.850000</td>\n",
              "      <td>0.090000</td>\n",
              "      <td>185.645000</td>\n",
              "      <td>2004.000000</td>\n",
              "      <td>3101.300000</td>\n",
              "    </tr>\n",
              "    <tr>\n",
              "      <th>max</th>\n",
              "      <td>21.350000</td>\n",
              "      <td>0.330000</td>\n",
              "      <td>266.890000</td>\n",
              "      <td>2009.000000</td>\n",
              "      <td>13086.960000</td>\n",
              "    </tr>\n",
              "  </tbody>\n",
              "</table>\n",
              "</div>"
            ],
            "text/plain": [
              "       Item_Weight  Item_Visibility     Item_MRP  Outlet_Establishment_Year  \\\n",
              "count  7060.000000      8523.000000  8523.000000                8523.000000   \n",
              "mean     12.857645         0.066164   140.992878                1997.831867   \n",
              "std       4.643456         0.051641    62.275160                   8.371760   \n",
              "min       4.555000         0.000000    31.290000                1985.000000   \n",
              "25%       8.773750         0.030000    93.825000                1987.000000   \n",
              "50%      12.600000         0.050000   143.010000                1999.000000   \n",
              "75%      16.850000         0.090000   185.645000                2004.000000   \n",
              "max      21.350000         0.330000   266.890000                2009.000000   \n",
              "\n",
              "       Item_Outlet_Sales  \n",
              "count        8523.000000  \n",
              "mean         2181.289052  \n",
              "std          1706.499641  \n",
              "min            33.290000  \n",
              "25%           834.245000  \n",
              "50%          1794.330000  \n",
              "75%          3101.300000  \n",
              "max         13086.960000  "
            ]
          },
          "metadata": {
            "tags": []
          },
          "execution_count": 4
        }
      ]
    },
    {
      "metadata": {
        "id": "WboKTxzc4zDF",
        "colab_type": "code",
        "outputId": "9ac9c4c8-05c4-46c9-c496-58b9ffa74c3b",
        "colab": {
          "base_uri": "https://localhost:8080/",
          "height": 306
        }
      },
      "cell_type": "code",
      "source": [
        "train.info()"
      ],
      "execution_count": 5,
      "outputs": [
        {
          "output_type": "stream",
          "text": [
            "<class 'pandas.core.frame.DataFrame'>\n",
            "RangeIndex: 8523 entries, 0 to 8522\n",
            "Data columns (total 12 columns):\n",
            "Item_Identifier              8523 non-null object\n",
            "Item_Weight                  7060 non-null float64\n",
            "Item_Fat_Content             8523 non-null object\n",
            "Item_Visibility              8523 non-null float64\n",
            "Item_Type                    8523 non-null object\n",
            "Item_MRP                     8523 non-null float64\n",
            "Outlet_Identifier            8523 non-null object\n",
            "Outlet_Establishment_Year    8523 non-null int64\n",
            "Outlet_Size                  6113 non-null object\n",
            "Outlet_Location_Type         8523 non-null object\n",
            "Outlet_Type                  8523 non-null object\n",
            "Item_Outlet_Sales            8523 non-null float64\n",
            "dtypes: float64(4), int64(1), object(7)\n",
            "memory usage: 799.1+ KB\n"
          ],
          "name": "stdout"
        }
      ]
    },
    {
      "metadata": {
        "id": "gQKt8Ijr4zDP",
        "colab_type": "text"
      },
      "cell_type": "markdown",
      "source": [
        "## Data Pre-processing"
      ]
    },
    {
      "metadata": {
        "id": "_x8yHXd-4zDR",
        "colab_type": "code",
        "outputId": "1fff5553-20a5-4f82-912d-f0fe778c849d",
        "colab": {
          "base_uri": "https://localhost:8080/",
          "height": 309
        }
      },
      "cell_type": "code",
      "source": [
        "## Remove unnecessary variables\n",
        "train.drop(['Item_Identifier', 'Outlet_Identifier'], axis=1, inplace=True)\n",
        "train.head()"
      ],
      "execution_count": 6,
      "outputs": [
        {
          "output_type": "execute_result",
          "data": {
            "text/html": [
              "<div>\n",
              "<style scoped>\n",
              "    .dataframe tbody tr th:only-of-type {\n",
              "        vertical-align: middle;\n",
              "    }\n",
              "\n",
              "    .dataframe tbody tr th {\n",
              "        vertical-align: top;\n",
              "    }\n",
              "\n",
              "    .dataframe thead th {\n",
              "        text-align: right;\n",
              "    }\n",
              "</style>\n",
              "<table border=\"1\" class=\"dataframe\">\n",
              "  <thead>\n",
              "    <tr style=\"text-align: right;\">\n",
              "      <th></th>\n",
              "      <th>Item_Weight</th>\n",
              "      <th>Item_Fat_Content</th>\n",
              "      <th>Item_Visibility</th>\n",
              "      <th>Item_Type</th>\n",
              "      <th>Item_MRP</th>\n",
              "      <th>Outlet_Establishment_Year</th>\n",
              "      <th>Outlet_Size</th>\n",
              "      <th>Outlet_Location_Type</th>\n",
              "      <th>Outlet_Type</th>\n",
              "      <th>Item_Outlet_Sales</th>\n",
              "    </tr>\n",
              "  </thead>\n",
              "  <tbody>\n",
              "    <tr>\n",
              "      <th>0</th>\n",
              "      <td>9.30</td>\n",
              "      <td>Low Fat</td>\n",
              "      <td>0.02</td>\n",
              "      <td>Dairy</td>\n",
              "      <td>249.81</td>\n",
              "      <td>1999</td>\n",
              "      <td>Medium</td>\n",
              "      <td>Tier 1</td>\n",
              "      <td>Supermarket Type1</td>\n",
              "      <td>3735.14</td>\n",
              "    </tr>\n",
              "    <tr>\n",
              "      <th>1</th>\n",
              "      <td>5.92</td>\n",
              "      <td>Regular</td>\n",
              "      <td>0.02</td>\n",
              "      <td>Soft Drinks</td>\n",
              "      <td>48.27</td>\n",
              "      <td>2009</td>\n",
              "      <td>Medium</td>\n",
              "      <td>Tier 3</td>\n",
              "      <td>Supermarket Type2</td>\n",
              "      <td>443.42</td>\n",
              "    </tr>\n",
              "    <tr>\n",
              "      <th>2</th>\n",
              "      <td>17.50</td>\n",
              "      <td>Low Fat</td>\n",
              "      <td>0.02</td>\n",
              "      <td>Meat</td>\n",
              "      <td>141.62</td>\n",
              "      <td>1999</td>\n",
              "      <td>Medium</td>\n",
              "      <td>Tier 1</td>\n",
              "      <td>Supermarket Type1</td>\n",
              "      <td>2097.27</td>\n",
              "    </tr>\n",
              "    <tr>\n",
              "      <th>3</th>\n",
              "      <td>19.20</td>\n",
              "      <td>Regular</td>\n",
              "      <td>0.00</td>\n",
              "      <td>Fruits and Vegetables</td>\n",
              "      <td>182.10</td>\n",
              "      <td>1998</td>\n",
              "      <td>NaN</td>\n",
              "      <td>Tier 3</td>\n",
              "      <td>Grocery Store</td>\n",
              "      <td>732.38</td>\n",
              "    </tr>\n",
              "    <tr>\n",
              "      <th>4</th>\n",
              "      <td>8.93</td>\n",
              "      <td>Low Fat</td>\n",
              "      <td>0.00</td>\n",
              "      <td>Household</td>\n",
              "      <td>53.86</td>\n",
              "      <td>1987</td>\n",
              "      <td>High</td>\n",
              "      <td>Tier 3</td>\n",
              "      <td>Supermarket Type1</td>\n",
              "      <td>994.71</td>\n",
              "    </tr>\n",
              "  </tbody>\n",
              "</table>\n",
              "</div>"
            ],
            "text/plain": [
              "   Item_Weight Item_Fat_Content  Item_Visibility              Item_Type  \\\n",
              "0         9.30          Low Fat             0.02                  Dairy   \n",
              "1         5.92          Regular             0.02            Soft Drinks   \n",
              "2        17.50          Low Fat             0.02                   Meat   \n",
              "3        19.20          Regular             0.00  Fruits and Vegetables   \n",
              "4         8.93          Low Fat             0.00              Household   \n",
              "\n",
              "   Item_MRP  Outlet_Establishment_Year Outlet_Size Outlet_Location_Type  \\\n",
              "0    249.81                       1999      Medium               Tier 1   \n",
              "1     48.27                       2009      Medium               Tier 3   \n",
              "2    141.62                       1999      Medium               Tier 1   \n",
              "3    182.10                       1998         NaN               Tier 3   \n",
              "4     53.86                       1987        High               Tier 3   \n",
              "\n",
              "         Outlet_Type  Item_Outlet_Sales  \n",
              "0  Supermarket Type1            3735.14  \n",
              "1  Supermarket Type2             443.42  \n",
              "2  Supermarket Type1            2097.27  \n",
              "3      Grocery Store             732.38  \n",
              "4  Supermarket Type1             994.71  "
            ]
          },
          "metadata": {
            "tags": []
          },
          "execution_count": 6
        }
      ]
    },
    {
      "metadata": {
        "id": "qqeucMoW4zDX",
        "colab_type": "code",
        "outputId": "3c2c68de-6e35-437b-f2c9-3d0c5ad14dd1",
        "colab": {
          "base_uri": "https://localhost:8080/",
          "height": 145
        }
      },
      "cell_type": "code",
      "source": [
        "## Deal with Missing values\n",
        "\n",
        "def missing_values_table(df):\n",
        "        # Total missing values\n",
        "        mis_val = df.isnull().sum()\n",
        "        \n",
        "        # Percentage of missing values\n",
        "        mis_val_percent = 100 * df.isnull().sum() / len(df)\n",
        "        \n",
        "        # Make a table with the results\n",
        "        mis_val_table = pd.concat([mis_val, mis_val_percent], axis=1)\n",
        "        \n",
        "        # Rename the columns\n",
        "        mis_val_table_ren_columns = mis_val_table.rename(\n",
        "        columns = {0 : 'Missing Values', 1 : '% of Total Values'})\n",
        "        \n",
        "        # Sort the table by percentage of missing descending\n",
        "        mis_val_table_ren_columns = mis_val_table_ren_columns[\n",
        "            mis_val_table_ren_columns.iloc[:,1] != 0].sort_values(\n",
        "        '% of Total Values', ascending=False).round(1)\n",
        "        \n",
        "        # Print some summary information\n",
        "        print (\"Your selected dataframe has \" + str(df.shape[1]) + \" columns.\\n\"      \n",
        "            \"There are \" + str(mis_val_table_ren_columns.shape[0]) +\n",
        "              \" columns that have missing values.\")\n",
        "        \n",
        "        # Return the dataframe with missing information\n",
        "        return mis_val_table_ren_columns\n",
        "\n",
        "missing_values_table(train) ## Pass your dataset name"
      ],
      "execution_count": 7,
      "outputs": [
        {
          "output_type": "stream",
          "text": [
            "Your selected dataframe has 10 columns.\n",
            "There are 2 columns that have missing values.\n"
          ],
          "name": "stdout"
        },
        {
          "output_type": "execute_result",
          "data": {
            "text/html": [
              "<div>\n",
              "<style scoped>\n",
              "    .dataframe tbody tr th:only-of-type {\n",
              "        vertical-align: middle;\n",
              "    }\n",
              "\n",
              "    .dataframe tbody tr th {\n",
              "        vertical-align: top;\n",
              "    }\n",
              "\n",
              "    .dataframe thead th {\n",
              "        text-align: right;\n",
              "    }\n",
              "</style>\n",
              "<table border=\"1\" class=\"dataframe\">\n",
              "  <thead>\n",
              "    <tr style=\"text-align: right;\">\n",
              "      <th></th>\n",
              "      <th>Missing Values</th>\n",
              "      <th>% of Total Values</th>\n",
              "    </tr>\n",
              "  </thead>\n",
              "  <tbody>\n",
              "    <tr>\n",
              "      <th>Outlet_Size</th>\n",
              "      <td>2410</td>\n",
              "      <td>28.3</td>\n",
              "    </tr>\n",
              "    <tr>\n",
              "      <th>Item_Weight</th>\n",
              "      <td>1463</td>\n",
              "      <td>17.2</td>\n",
              "    </tr>\n",
              "  </tbody>\n",
              "</table>\n",
              "</div>"
            ],
            "text/plain": [
              "             Missing Values  % of Total Values\n",
              "Outlet_Size            2410               28.3\n",
              "Item_Weight            1463               17.2"
            ]
          },
          "metadata": {
            "tags": []
          },
          "execution_count": 7
        }
      ]
    },
    {
      "metadata": {
        "id": "1jnpEhX74zDi",
        "colab_type": "code",
        "outputId": "a5e7057a-3977-4f5e-ae20-9b50192bdef3",
        "colab": {
          "base_uri": "https://localhost:8080/",
          "height": 394
        }
      },
      "cell_type": "code",
      "source": [
        "missingdata=train.isnull()\n",
        "sns.heatmap(missingdata,yticklabels=False,cbar=False)"
      ],
      "execution_count": 8,
      "outputs": [
        {
          "output_type": "execute_result",
          "data": {
            "text/plain": [
              "<matplotlib.axes._subplots.AxesSubplot at 0x7f778f000f60>"
            ]
          },
          "metadata": {
            "tags": []
          },
          "execution_count": 8
        },
        {
          "output_type": "display_data",
          "data": {
            "image/png": "[encoded data removed]",
            "text/plain": [
              "<Figure size 432x288 with 1 Axes>"
            ]
          },
          "metadata": {
            "tags": []
          }
        }
      ]
    },
    {
      "metadata": {
        "id": "QxqU0Hfe4zD2",
        "colab_type": "code",
        "outputId": "676d4c08-8e8d-4466-beae-896e696c97c0",
        "colab": {
          "base_uri": "https://localhost:8080/",
          "height": 85
        }
      },
      "cell_type": "code",
      "source": [
        "# Delete the columns with > 50% missing\n",
        "missing_df = missing_values_table(train);\n",
        "missing_columns = list(missing_df[missing_df['% of Total Values'] > 50].index) ## Change 50 to any number you want\n",
        "\n",
        "\n",
        "print('We will remove %d columns.' % len(missing_columns))\n",
        "print(missing_columns)"
      ],
      "execution_count": 9,
      "outputs": [
        {
          "output_type": "stream",
          "text": [
            "Your selected dataframe has 10 columns.\n",
            "There are 2 columns that have missing values.\n",
            "We will remove 0 columns.\n",
            "[]\n"
          ],
          "name": "stdout"
        }
      ]
    },
    {
      "metadata": {
        "id": "Gu0mBAf34zEH",
        "colab_type": "code",
        "outputId": "b81d0fdf-f38c-46a0-ddfa-bbbad6aa39f8",
        "colab": {
          "base_uri": "https://localhost:8080/",
          "height": 83
        }
      },
      "cell_type": "code",
      "source": [
        "train['Item_Visibility'] = train['Item_Visibility'].replace(0.00,np.mean(train['Item_Visibility'])) ## Replace 0 with mean\n",
        "train['Outlet_Establishment_Year'] = 2019 - train['Outlet_Establishment_Year'] ## convert year into numbers\n",
        "\n",
        "\n",
        "train['Outlet_Size'].fillna('Medium',inplace=True) ## replace NAN with Medium\n",
        "train['Item_Weight'].fillna((train['Item_Weight'].mean()), inplace=True) ## replace NAN with Mean of the Item Weight\n",
        "missing_values_table(train) ## Double Check"
      ],
      "execution_count": 10,
      "outputs": [
        {
          "output_type": "stream",
          "text": [
            "Your selected dataframe has 10 columns.\n",
            "There are 0 columns that have missing values.\n"
          ],
          "name": "stdout"
        },
        {
          "output_type": "execute_result",
          "data": {
            "text/html": [
              "<div>\n",
              "<style scoped>\n",
              "    .dataframe tbody tr th:only-of-type {\n",
              "        vertical-align: middle;\n",
              "    }\n",
              "\n",
              "    .dataframe tbody tr th {\n",
              "        vertical-align: top;\n",
              "    }\n",
              "\n",
              "    .dataframe thead th {\n",
              "        text-align: right;\n",
              "    }\n",
              "</style>\n",
              "<table border=\"1\" class=\"dataframe\">\n",
              "  <thead>\n",
              "    <tr style=\"text-align: right;\">\n",
              "      <th></th>\n",
              "      <th>Missing Values</th>\n",
              "      <th>% of Total Values</th>\n",
              "    </tr>\n",
              "  </thead>\n",
              "  <tbody>\n",
              "  </tbody>\n",
              "</table>\n",
              "</div>"
            ],
            "text/plain": [
              "Empty DataFrame\n",
              "Columns: [Missing Values, % of Total Values]\n",
              "Index: []"
            ]
          },
          "metadata": {
            "tags": []
          },
          "execution_count": 10
        }
      ]
    },
    {
      "metadata": {
        "id": "gV6DQefZ4zEf",
        "colab_type": "code",
        "outputId": "df06bc9e-a409-4e37-ef96-eacbb018b819",
        "colab": {
          "base_uri": "https://localhost:8080/",
          "height": 309
        }
      },
      "cell_type": "code",
      "source": [
        "train.head()"
      ],
      "execution_count": 11,
      "outputs": [
        {
          "output_type": "execute_result",
          "data": {
            "text/html": [
              "<div>\n",
              "<style scoped>\n",
              "    .dataframe tbody tr th:only-of-type {\n",
              "        vertical-align: middle;\n",
              "    }\n",
              "\n",
              "    .dataframe tbody tr th {\n",
              "        vertical-align: top;\n",
              "    }\n",
              "\n",
              "    .dataframe thead th {\n",
              "        text-align: right;\n",
              "    }\n",
              "</style>\n",
              "<table border=\"1\" class=\"dataframe\">\n",
              "  <thead>\n",
              "    <tr style=\"text-align: right;\">\n",
              "      <th></th>\n",
              "      <th>Item_Weight</th>\n",
              "      <th>Item_Fat_Content</th>\n",
              "      <th>Item_Visibility</th>\n",
              "      <th>Item_Type</th>\n",
              "      <th>Item_MRP</th>\n",
              "      <th>Outlet_Establishment_Year</th>\n",
              "      <th>Outlet_Size</th>\n",
              "      <th>Outlet_Location_Type</th>\n",
              "      <th>Outlet_Type</th>\n",
              "      <th>Item_Outlet_Sales</th>\n",
              "    </tr>\n",
              "  </thead>\n",
              "  <tbody>\n",
              "    <tr>\n",
              "      <th>0</th>\n",
              "      <td>9.30</td>\n",
              "      <td>Low Fat</td>\n",
              "      <td>0.020000</td>\n",
              "      <td>Dairy</td>\n",
              "      <td>249.81</td>\n",
              "      <td>20</td>\n",
              "      <td>Medium</td>\n",
              "      <td>Tier 1</td>\n",
              "      <td>Supermarket Type1</td>\n",
              "      <td>3735.14</td>\n",
              "    </tr>\n",
              "    <tr>\n",
              "      <th>1</th>\n",
              "      <td>5.92</td>\n",
              "      <td>Regular</td>\n",
              "      <td>0.020000</td>\n",
              "      <td>Soft Drinks</td>\n",
              "      <td>48.27</td>\n",
              "      <td>10</td>\n",
              "      <td>Medium</td>\n",
              "      <td>Tier 3</td>\n",
              "      <td>Supermarket Type2</td>\n",
              "      <td>443.42</td>\n",
              "    </tr>\n",
              "    <tr>\n",
              "      <th>2</th>\n",
              "      <td>17.50</td>\n",
              "      <td>Low Fat</td>\n",
              "      <td>0.020000</td>\n",
              "      <td>Meat</td>\n",
              "      <td>141.62</td>\n",
              "      <td>20</td>\n",
              "      <td>Medium</td>\n",
              "      <td>Tier 1</td>\n",
              "      <td>Supermarket Type1</td>\n",
              "      <td>2097.27</td>\n",
              "    </tr>\n",
              "    <tr>\n",
              "      <th>3</th>\n",
              "      <td>19.20</td>\n",
              "      <td>Regular</td>\n",
              "      <td>0.066164</td>\n",
              "      <td>Fruits and Vegetables</td>\n",
              "      <td>182.10</td>\n",
              "      <td>21</td>\n",
              "      <td>Medium</td>\n",
              "      <td>Tier 3</td>\n",
              "      <td>Grocery Store</td>\n",
              "      <td>732.38</td>\n",
              "    </tr>\n",
              "    <tr>\n",
              "      <th>4</th>\n",
              "      <td>8.93</td>\n",
              "      <td>Low Fat</td>\n",
              "      <td>0.066164</td>\n",
              "      <td>Household</td>\n",
              "      <td>53.86</td>\n",
              "      <td>32</td>\n",
              "      <td>High</td>\n",
              "      <td>Tier 3</td>\n",
              "      <td>Supermarket Type1</td>\n",
              "      <td>994.71</td>\n",
              "    </tr>\n",
              "  </tbody>\n",
              "</table>\n",
              "</div>"
            ],
            "text/plain": [
              "   Item_Weight Item_Fat_Content  Item_Visibility              Item_Type  \\\n",
              "0         9.30          Low Fat         0.020000                  Dairy   \n",
              "1         5.92          Regular         0.020000            Soft Drinks   \n",
              "2        17.50          Low Fat         0.020000                   Meat   \n",
              "3        19.20          Regular         0.066164  Fruits and Vegetables   \n",
              "4         8.93          Low Fat         0.066164              Household   \n",
              "\n",
              "   Item_MRP  Outlet_Establishment_Year Outlet_Size Outlet_Location_Type  \\\n",
              "0    249.81                         20      Medium               Tier 1   \n",
              "1     48.27                         10      Medium               Tier 3   \n",
              "2    141.62                         20      Medium               Tier 1   \n",
              "3    182.10                         21      Medium               Tier 3   \n",
              "4     53.86                         32        High               Tier 3   \n",
              "\n",
              "         Outlet_Type  Item_Outlet_Sales  \n",
              "0  Supermarket Type1            3735.14  \n",
              "1  Supermarket Type2             443.42  \n",
              "2  Supermarket Type1            2097.27  \n",
              "3      Grocery Store             732.38  \n",
              "4  Supermarket Type1             994.71  "
            ]
          },
          "metadata": {
            "tags": []
          },
          "execution_count": 11
        }
      ]
    },
    {
      "metadata": {
        "id": "DVtE9NSd4zEw",
        "colab_type": "code",
        "outputId": "1f95ebc9-e17f-4a39-f8e8-59a6d36b50a5",
        "colab": {
          "base_uri": "https://localhost:8080/",
          "height": 102
        }
      },
      "cell_type": "code",
      "source": [
        "## Select non numerical categorical column names\n",
        "mylist = list(train.select_dtypes(include=['object']).columns)\n",
        "mylist"
      ],
      "execution_count": 12,
      "outputs": [
        {
          "output_type": "execute_result",
          "data": {
            "text/plain": [
              "['Item_Fat_Content',\n",
              " 'Item_Type',\n",
              " 'Outlet_Size',\n",
              " 'Outlet_Location_Type',\n",
              " 'Outlet_Type']"
            ]
          },
          "metadata": {
            "tags": []
          },
          "execution_count": 12
        }
      ]
    },
    {
      "metadata": {
        "id": "xq5s1Fys4zE3",
        "colab_type": "code",
        "outputId": "a1af39f3-7d49-4643-de3b-cefacd127910",
        "colab": {
          "base_uri": "https://localhost:8080/",
          "height": 270
        }
      },
      "cell_type": "code",
      "source": [
        "## Create dummy variables for non numerical categorical variables\n",
        "dummies = pd.get_dummies(train[mylist], prefix= mylist)\n",
        "dummies.head()"
      ],
      "execution_count": 13,
      "outputs": [
        {
          "output_type": "execute_result",
          "data": {
            "text/html": [
              "<div>\n",
              "<style scoped>\n",
              "    .dataframe tbody tr th:only-of-type {\n",
              "        vertical-align: middle;\n",
              "    }\n",
              "\n",
              "    .dataframe tbody tr th {\n",
              "        vertical-align: top;\n",
              "    }\n",
              "\n",
              "    .dataframe thead th {\n",
              "        text-align: right;\n",
              "    }\n",
              "</style>\n",
              "<table border=\"1\" class=\"dataframe\">\n",
              "  <thead>\n",
              "    <tr style=\"text-align: right;\">\n",
              "      <th></th>\n",
              "      <th>Item_Fat_Content_LF</th>\n",
              "      <th>Item_Fat_Content_Low Fat</th>\n",
              "      <th>Item_Fat_Content_Regular</th>\n",
              "      <th>Item_Fat_Content_low fat</th>\n",
              "      <th>Item_Fat_Content_reg</th>\n",
              "      <th>Item_Type_Baking Goods</th>\n",
              "      <th>Item_Type_Breads</th>\n",
              "      <th>Item_Type_Breakfast</th>\n",
              "      <th>Item_Type_Canned</th>\n",
              "      <th>Item_Type_Dairy</th>\n",
              "      <th>...</th>\n",
              "      <th>Outlet_Size_High</th>\n",
              "      <th>Outlet_Size_Medium</th>\n",
              "      <th>Outlet_Size_Small</th>\n",
              "      <th>Outlet_Location_Type_Tier 1</th>\n",
              "      <th>Outlet_Location_Type_Tier 2</th>\n",
              "      <th>Outlet_Location_Type_Tier 3</th>\n",
              "      <th>Outlet_Type_Grocery Store</th>\n",
              "      <th>Outlet_Type_Supermarket Type1</th>\n",
              "      <th>Outlet_Type_Supermarket Type2</th>\n",
              "      <th>Outlet_Type_Supermarket Type3</th>\n",
              "    </tr>\n",
              "  </thead>\n",
              "  <tbody>\n",
              "    <tr>\n",
              "      <th>0</th>\n",
              "      <td>0</td>\n",
              "      <td>1</td>\n",
              "      <td>0</td>\n",
              "      <td>0</td>\n",
              "      <td>0</td>\n",
              "      <td>0</td>\n",
              "      <td>0</td>\n",
              "      <td>0</td>\n",
              "      <td>0</td>\n",
              "      <td>1</td>\n",
              "      <td>...</td>\n",
              "      <td>0</td>\n",
              "      <td>1</td>\n",
              "      <td>0</td>\n",
              "      <td>1</td>\n",
              "      <td>0</td>\n",
              "      <td>0</td>\n",
              "      <td>0</td>\n",
              "      <td>1</td>\n",
              "      <td>0</td>\n",
              "      <td>0</td>\n",
              "    </tr>\n",
              "    <tr>\n",
              "      <th>1</th>\n",
              "      <td>0</td>\n",
              "      <td>0</td>\n",
              "      <td>1</td>\n",
              "      <td>0</td>\n",
              "      <td>0</td>\n",
              "      <td>0</td>\n",
              "      <td>0</td>\n",
              "      <td>0</td>\n",
              "      <td>0</td>\n",
              "      <td>0</td>\n",
              "      <td>...</td>\n",
              "      <td>0</td>\n",
              "      <td>1</td>\n",
              "      <td>0</td>\n",
              "      <td>0</td>\n",
              "      <td>0</td>\n",
              "      <td>1</td>\n",
              "      <td>0</td>\n",
              "      <td>0</td>\n",
              "      <td>1</td>\n",
              "      <td>0</td>\n",
              "    </tr>\n",
              "    <tr>\n",
              "      <th>2</th>\n",
              "      <td>0</td>\n",
              "      <td>1</td>\n",
              "      <td>0</td>\n",
              "      <td>0</td>\n",
              "      <td>0</td>\n",
              "      <td>0</td>\n",
              "      <td>0</td>\n",
              "      <td>0</td>\n",
              "      <td>0</td>\n",
              "      <td>0</td>\n",
              "      <td>...</td>\n",
              "      <td>0</td>\n",
              "      <td>1</td>\n",
              "      <td>0</td>\n",
              "      <td>1</td>\n",
              "      <td>0</td>\n",
              "      <td>0</td>\n",
              "      <td>0</td>\n",
              "      <td>1</td>\n",
              "      <td>0</td>\n",
              "      <td>0</td>\n",
              "    </tr>\n",
              "    <tr>\n",
              "      <th>3</th>\n",
              "      <td>0</td>\n",
              "      <td>0</td>\n",
              "      <td>1</td>\n",
              "      <td>0</td>\n",
              "      <td>0</td>\n",
              "      <td>0</td>\n",
              "      <td>0</td>\n",
              "      <td>0</td>\n",
              "      <td>0</td>\n",
              "      <td>0</td>\n",
              "      <td>...</td>\n",
              "      <td>0</td>\n",
              "      <td>1</td>\n",
              "      <td>0</td>\n",
              "      <td>0</td>\n",
              "      <td>0</td>\n",
              "      <td>1</td>\n",
              "      <td>1</td>\n",
              "      <td>0</td>\n",
              "      <td>0</td>\n",
              "      <td>0</td>\n",
              "    </tr>\n",
              "    <tr>\n",
              "      <th>4</th>\n",
              "      <td>0</td>\n",
              "      <td>1</td>\n",
              "      <td>0</td>\n",
              "      <td>0</td>\n",
              "      <td>0</td>\n",
              "      <td>0</td>\n",
              "      <td>0</td>\n",
              "      <td>0</td>\n",
              "      <td>0</td>\n",
              "      <td>0</td>\n",
              "      <td>...</td>\n",
              "      <td>1</td>\n",
              "      <td>0</td>\n",
              "      <td>0</td>\n",
              "      <td>0</td>\n",
              "      <td>0</td>\n",
              "      <td>1</td>\n",
              "      <td>0</td>\n",
              "      <td>1</td>\n",
              "      <td>0</td>\n",
              "      <td>0</td>\n",
              "    </tr>\n",
              "  </tbody>\n",
              "</table>\n",
              "<p>5 rows × 31 columns</p>\n",
              "</div>"
            ],
            "text/plain": [
              "   Item_Fat_Content_LF  Item_Fat_Content_Low Fat  Item_Fat_Content_Regular  \\\n",
              "0                    0                         1                         0   \n",
              "1                    0                         0                         1   \n",
              "2                    0                         1                         0   \n",
              "3                    0                         0                         1   \n",
              "4                    0                         1                         0   \n",
              "\n",
              "   Item_Fat_Content_low fat  Item_Fat_Content_reg  Item_Type_Baking Goods  \\\n",
              "0                         0                     0                       0   \n",
              "1                         0                     0                       0   \n",
              "2                         0                     0                       0   \n",
              "3                         0                     0                       0   \n",
              "4                         0                     0                       0   \n",
              "\n",
              "   Item_Type_Breads  Item_Type_Breakfast  Item_Type_Canned  Item_Type_Dairy  \\\n",
              "0                 0                    0                 0                1   \n",
              "1                 0                    0                 0                0   \n",
              "2                 0                    0                 0                0   \n",
              "3                 0                    0                 0                0   \n",
              "4                 0                    0                 0                0   \n",
              "\n",
              "               ...                Outlet_Size_High  Outlet_Size_Medium  \\\n",
              "0              ...                               0                   1   \n",
              "1              ...                               0                   1   \n",
              "2              ...                               0                   1   \n",
              "3              ...                               0                   1   \n",
              "4              ...                               1                   0   \n",
              "\n",
              "   Outlet_Size_Small  Outlet_Location_Type_Tier 1  \\\n",
              "0                  0                            1   \n",
              "1                  0                            0   \n",
              "2                  0                            1   \n",
              "3                  0                            0   \n",
              "4                  0                            0   \n",
              "\n",
              "   Outlet_Location_Type_Tier 2  Outlet_Location_Type_Tier 3  \\\n",
              "0                            0                            0   \n",
              "1                            0                            1   \n",
              "2                            0                            0   \n",
              "3                            0                            1   \n",
              "4                            0                            1   \n",
              "\n",
              "   Outlet_Type_Grocery Store  Outlet_Type_Supermarket Type1  \\\n",
              "0                          0                              1   \n",
              "1                          0                              0   \n",
              "2                          0                              1   \n",
              "3                          1                              0   \n",
              "4                          0                              1   \n",
              "\n",
              "   Outlet_Type_Supermarket Type2  Outlet_Type_Supermarket Type3  \n",
              "0                              0                              0  \n",
              "1                              1                              0  \n",
              "2                              0                              0  \n",
              "3                              0                              0  \n",
              "4                              0                              0  \n",
              "\n",
              "[5 rows x 31 columns]"
            ]
          },
          "metadata": {
            "tags": []
          },
          "execution_count": 13
        }
      ]
    },
    {
      "metadata": {
        "id": "FxkjxewW4zFP",
        "colab_type": "code",
        "outputId": "116d2f39-5832-4820-c331-e31d917b5905",
        "colab": {
          "base_uri": "https://localhost:8080/",
          "height": 204
        }
      },
      "cell_type": "code",
      "source": [
        "train.drop(mylist, axis=1, inplace = True) ## Drop Non numerical categorical columns\n",
        "train.head()"
      ],
      "execution_count": 14,
      "outputs": [
        {
          "output_type": "execute_result",
          "data": {
            "text/html": [
              "<div>\n",
              "<style scoped>\n",
              "    .dataframe tbody tr th:only-of-type {\n",
              "        vertical-align: middle;\n",
              "    }\n",
              "\n",
              "    .dataframe tbody tr th {\n",
              "        vertical-align: top;\n",
              "    }\n",
              "\n",
              "    .dataframe thead th {\n",
              "        text-align: right;\n",
              "    }\n",
              "</style>\n",
              "<table border=\"1\" class=\"dataframe\">\n",
              "  <thead>\n",
              "    <tr style=\"text-align: right;\">\n",
              "      <th></th>\n",
              "      <th>Item_Weight</th>\n",
              "      <th>Item_Visibility</th>\n",
              "      <th>Item_MRP</th>\n",
              "      <th>Outlet_Establishment_Year</th>\n",
              "      <th>Item_Outlet_Sales</th>\n",
              "    </tr>\n",
              "  </thead>\n",
              "  <tbody>\n",
              "    <tr>\n",
              "      <th>0</th>\n",
              "      <td>9.30</td>\n",
              "      <td>0.020000</td>\n",
              "      <td>249.81</td>\n",
              "      <td>20</td>\n",
              "      <td>3735.14</td>\n",
              "    </tr>\n",
              "    <tr>\n",
              "      <th>1</th>\n",
              "      <td>5.92</td>\n",
              "      <td>0.020000</td>\n",
              "      <td>48.27</td>\n",
              "      <td>10</td>\n",
              "      <td>443.42</td>\n",
              "    </tr>\n",
              "    <tr>\n",
              "      <th>2</th>\n",
              "      <td>17.50</td>\n",
              "      <td>0.020000</td>\n",
              "      <td>141.62</td>\n",
              "      <td>20</td>\n",
              "      <td>2097.27</td>\n",
              "    </tr>\n",
              "    <tr>\n",
              "      <th>3</th>\n",
              "      <td>19.20</td>\n",
              "      <td>0.066164</td>\n",
              "      <td>182.10</td>\n",
              "      <td>21</td>\n",
              "      <td>732.38</td>\n",
              "    </tr>\n",
              "    <tr>\n",
              "      <th>4</th>\n",
              "      <td>8.93</td>\n",
              "      <td>0.066164</td>\n",
              "      <td>53.86</td>\n",
              "      <td>32</td>\n",
              "      <td>994.71</td>\n",
              "    </tr>\n",
              "  </tbody>\n",
              "</table>\n",
              "</div>"
            ],
            "text/plain": [
              "   Item_Weight  Item_Visibility  Item_MRP  Outlet_Establishment_Year  \\\n",
              "0         9.30         0.020000    249.81                         20   \n",
              "1         5.92         0.020000     48.27                         10   \n",
              "2        17.50         0.020000    141.62                         20   \n",
              "3        19.20         0.066164    182.10                         21   \n",
              "4         8.93         0.066164     53.86                         32   \n",
              "\n",
              "   Item_Outlet_Sales  \n",
              "0            3735.14  \n",
              "1             443.42  \n",
              "2            2097.27  \n",
              "3             732.38  \n",
              "4             994.71  "
            ]
          },
          "metadata": {
            "tags": []
          },
          "execution_count": 14
        }
      ]
    },
    {
      "metadata": {
        "id": "h-N8B1NG4zFu",
        "colab_type": "code",
        "outputId": "60b233b1-6c06-480d-b461-177d201bdc51",
        "colab": {
          "base_uri": "https://localhost:8080/",
          "height": 270
        }
      },
      "cell_type": "code",
      "source": [
        "train=pd.concat([train,dummies], axis =1 ) ## added encoded categorical columns\n",
        "train.head()"
      ],
      "execution_count": 15,
      "outputs": [
        {
          "output_type": "execute_result",
          "data": {
            "text/html": [
              "<div>\n",
              "<style scoped>\n",
              "    .dataframe tbody tr th:only-of-type {\n",
              "        vertical-align: middle;\n",
              "    }\n",
              "\n",
              "    .dataframe tbody tr th {\n",
              "        vertical-align: top;\n",
              "    }\n",
              "\n",
              "    .dataframe thead th {\n",
              "        text-align: right;\n",
              "    }\n",
              "</style>\n",
              "<table border=\"1\" class=\"dataframe\">\n",
              "  <thead>\n",
              "    <tr style=\"text-align: right;\">\n",
              "      <th></th>\n",
              "      <th>Item_Weight</th>\n",
              "      <th>Item_Visibility</th>\n",
              "      <th>Item_MRP</th>\n",
              "      <th>Outlet_Establishment_Year</th>\n",
              "      <th>Item_Outlet_Sales</th>\n",
              "      <th>Item_Fat_Content_LF</th>\n",
              "      <th>Item_Fat_Content_Low Fat</th>\n",
              "      <th>Item_Fat_Content_Regular</th>\n",
              "      <th>Item_Fat_Content_low fat</th>\n",
              "      <th>Item_Fat_Content_reg</th>\n",
              "      <th>...</th>\n",
              "      <th>Outlet_Size_High</th>\n",
              "      <th>Outlet_Size_Medium</th>\n",
              "      <th>Outlet_Size_Small</th>\n",
              "      <th>Outlet_Location_Type_Tier 1</th>\n",
              "      <th>Outlet_Location_Type_Tier 2</th>\n",
              "      <th>Outlet_Location_Type_Tier 3</th>\n",
              "      <th>Outlet_Type_Grocery Store</th>\n",
              "      <th>Outlet_Type_Supermarket Type1</th>\n",
              "      <th>Outlet_Type_Supermarket Type2</th>\n",
              "      <th>Outlet_Type_Supermarket Type3</th>\n",
              "    </tr>\n",
              "  </thead>\n",
              "  <tbody>\n",
              "    <tr>\n",
              "      <th>0</th>\n",
              "      <td>9.30</td>\n",
              "      <td>0.020000</td>\n",
              "      <td>249.81</td>\n",
              "      <td>20</td>\n",
              "      <td>3735.14</td>\n",
              "      <td>0</td>\n",
              "      <td>1</td>\n",
              "      <td>0</td>\n",
              "      <td>0</td>\n",
              "      <td>0</td>\n",
              "      <td>...</td>\n",
              "      <td>0</td>\n",
              "      <td>1</td>\n",
              "      <td>0</td>\n",
              "      <td>1</td>\n",
              "      <td>0</td>\n",
              "      <td>0</td>\n",
              "      <td>0</td>\n",
              "      <td>1</td>\n",
              "      <td>0</td>\n",
              "      <td>0</td>\n",
              "    </tr>\n",
              "    <tr>\n",
              "      <th>1</th>\n",
              "      <td>5.92</td>\n",
              "      <td>0.020000</td>\n",
              "      <td>48.27</td>\n",
              "      <td>10</td>\n",
              "      <td>443.42</td>\n",
              "      <td>0</td>\n",
              "      <td>0</td>\n",
              "      <td>1</td>\n",
              "      <td>0</td>\n",
              "      <td>0</td>\n",
              "      <td>...</td>\n",
              "      <td>0</td>\n",
              "      <td>1</td>\n",
              "      <td>0</td>\n",
              "      <td>0</td>\n",
              "      <td>0</td>\n",
              "      <td>1</td>\n",
              "      <td>0</td>\n",
              "      <td>0</td>\n",
              "      <td>1</td>\n",
              "      <td>0</td>\n",
              "    </tr>\n",
              "    <tr>\n",
              "      <th>2</th>\n",
              "      <td>17.50</td>\n",
              "      <td>0.020000</td>\n",
              "      <td>141.62</td>\n",
              "      <td>20</td>\n",
              "      <td>2097.27</td>\n",
              "      <td>0</td>\n",
              "      <td>1</td>\n",
              "      <td>0</td>\n",
              "      <td>0</td>\n",
              "      <td>0</td>\n",
              "      <td>...</td>\n",
              "      <td>0</td>\n",
              "      <td>1</td>\n",
              "      <td>0</td>\n",
              "      <td>1</td>\n",
              "      <td>0</td>\n",
              "      <td>0</td>\n",
              "      <td>0</td>\n",
              "      <td>1</td>\n",
              "      <td>0</td>\n",
              "      <td>0</td>\n",
              "    </tr>\n",
              "    <tr>\n",
              "      <th>3</th>\n",
              "      <td>19.20</td>\n",
              "      <td>0.066164</td>\n",
              "      <td>182.10</td>\n",
              "      <td>21</td>\n",
              "      <td>732.38</td>\n",
              "      <td>0</td>\n",
              "      <td>0</td>\n",
              "      <td>1</td>\n",
              "      <td>0</td>\n",
              "      <td>0</td>\n",
              "      <td>...</td>\n",
              "      <td>0</td>\n",
              "      <td>1</td>\n",
              "      <td>0</td>\n",
              "      <td>0</td>\n",
              "      <td>0</td>\n",
              "      <td>1</td>\n",
              "      <td>1</td>\n",
              "      <td>0</td>\n",
              "      <td>0</td>\n",
              "      <td>0</td>\n",
              "    </tr>\n",
              "    <tr>\n",
              "      <th>4</th>\n",
              "      <td>8.93</td>\n",
              "      <td>0.066164</td>\n",
              "      <td>53.86</td>\n",
              "      <td>32</td>\n",
              "      <td>994.71</td>\n",
              "      <td>0</td>\n",
              "      <td>1</td>\n",
              "      <td>0</td>\n",
              "      <td>0</td>\n",
              "      <td>0</td>\n",
              "      <td>...</td>\n",
              "      <td>1</td>\n",
              "      <td>0</td>\n",
              "      <td>0</td>\n",
              "      <td>0</td>\n",
              "      <td>0</td>\n",
              "      <td>1</td>\n",
              "      <td>0</td>\n",
              "      <td>1</td>\n",
              "      <td>0</td>\n",
              "      <td>0</td>\n",
              "    </tr>\n",
              "  </tbody>\n",
              "</table>\n",
              "<p>5 rows × 36 columns</p>\n",
              "</div>"
            ],
            "text/plain": [
              "   Item_Weight  Item_Visibility  Item_MRP  Outlet_Establishment_Year  \\\n",
              "0         9.30         0.020000    249.81                         20   \n",
              "1         5.92         0.020000     48.27                         10   \n",
              "2        17.50         0.020000    141.62                         20   \n",
              "3        19.20         0.066164    182.10                         21   \n",
              "4         8.93         0.066164     53.86                         32   \n",
              "\n",
              "   Item_Outlet_Sales  Item_Fat_Content_LF  Item_Fat_Content_Low Fat  \\\n",
              "0            3735.14                    0                         1   \n",
              "1             443.42                    0                         0   \n",
              "2            2097.27                    0                         1   \n",
              "3             732.38                    0                         0   \n",
              "4             994.71                    0                         1   \n",
              "\n",
              "   Item_Fat_Content_Regular  Item_Fat_Content_low fat  Item_Fat_Content_reg  \\\n",
              "0                         0                         0                     0   \n",
              "1                         1                         0                     0   \n",
              "2                         0                         0                     0   \n",
              "3                         1                         0                     0   \n",
              "4                         0                         0                     0   \n",
              "\n",
              "               ...                Outlet_Size_High  Outlet_Size_Medium  \\\n",
              "0              ...                               0                   1   \n",
              "1              ...                               0                   1   \n",
              "2              ...                               0                   1   \n",
              "3              ...                               0                   1   \n",
              "4              ...                               1                   0   \n",
              "\n",
              "   Outlet_Size_Small  Outlet_Location_Type_Tier 1  \\\n",
              "0                  0                            1   \n",
              "1                  0                            0   \n",
              "2                  0                            1   \n",
              "3                  0                            0   \n",
              "4                  0                            0   \n",
              "\n",
              "   Outlet_Location_Type_Tier 2  Outlet_Location_Type_Tier 3  \\\n",
              "0                            0                            0   \n",
              "1                            0                            1   \n",
              "2                            0                            0   \n",
              "3                            0                            1   \n",
              "4                            0                            1   \n",
              "\n",
              "   Outlet_Type_Grocery Store  Outlet_Type_Supermarket Type1  \\\n",
              "0                          0                              1   \n",
              "1                          0                              0   \n",
              "2                          0                              1   \n",
              "3                          1                              0   \n",
              "4                          0                              1   \n",
              "\n",
              "   Outlet_Type_Supermarket Type2  Outlet_Type_Supermarket Type3  \n",
              "0                              0                              0  \n",
              "1                              1                              0  \n",
              "2                              0                              0  \n",
              "3                              0                              0  \n",
              "4                              0                              0  \n",
              "\n",
              "[5 rows x 36 columns]"
            ]
          },
          "metadata": {
            "tags": []
          },
          "execution_count": 15
        }
      ]
    },
    {
      "metadata": {
        "id": "ZR3nHCXL4zF0",
        "colab_type": "code",
        "outputId": "ef8724e5-adf1-41a5-d4c3-1f7d4f635250",
        "colab": {
          "base_uri": "https://localhost:8080/",
          "height": 270
        }
      },
      "cell_type": "code",
      "source": [
        "X = train.drop('Item_Outlet_Sales',1) ## This is the dependent variable\n",
        "X.head()"
      ],
      "execution_count": 16,
      "outputs": [
        {
          "output_type": "execute_result",
          "data": {
            "text/html": [
              "<div>\n",
              "<style scoped>\n",
              "    .dataframe tbody tr th:only-of-type {\n",
              "        vertical-align: middle;\n",
              "    }\n",
              "\n",
              "    .dataframe tbody tr th {\n",
              "        vertical-align: top;\n",
              "    }\n",
              "\n",
              "    .dataframe thead th {\n",
              "        text-align: right;\n",
              "    }\n",
              "</style>\n",
              "<table border=\"1\" class=\"dataframe\">\n",
              "  <thead>\n",
              "    <tr style=\"text-align: right;\">\n",
              "      <th></th>\n",
              "      <th>Item_Weight</th>\n",
              "      <th>Item_Visibility</th>\n",
              "      <th>Item_MRP</th>\n",
              "      <th>Outlet_Establishment_Year</th>\n",
              "      <th>Item_Fat_Content_LF</th>\n",
              "      <th>Item_Fat_Content_Low Fat</th>\n",
              "      <th>Item_Fat_Content_Regular</th>\n",
              "      <th>Item_Fat_Content_low fat</th>\n",
              "      <th>Item_Fat_Content_reg</th>\n",
              "      <th>Item_Type_Baking Goods</th>\n",
              "      <th>...</th>\n",
              "      <th>Outlet_Size_High</th>\n",
              "      <th>Outlet_Size_Medium</th>\n",
              "      <th>Outlet_Size_Small</th>\n",
              "      <th>Outlet_Location_Type_Tier 1</th>\n",
              "      <th>Outlet_Location_Type_Tier 2</th>\n",
              "      <th>Outlet_Location_Type_Tier 3</th>\n",
              "      <th>Outlet_Type_Grocery Store</th>\n",
              "      <th>Outlet_Type_Supermarket Type1</th>\n",
              "      <th>Outlet_Type_Supermarket Type2</th>\n",
              "      <th>Outlet_Type_Supermarket Type3</th>\n",
              "    </tr>\n",
              "  </thead>\n",
              "  <tbody>\n",
              "    <tr>\n",
              "      <th>0</th>\n",
              "      <td>9.30</td>\n",
              "      <td>0.020000</td>\n",
              "      <td>249.81</td>\n",
              "      <td>20</td>\n",
              "      <td>0</td>\n",
              "      <td>1</td>\n",
              "      <td>0</td>\n",
              "      <td>0</td>\n",
              "      <td>0</td>\n",
              "      <td>0</td>\n",
              "      <td>...</td>\n",
              "      <td>0</td>\n",
              "      <td>1</td>\n",
              "      <td>0</td>\n",
              "      <td>1</td>\n",
              "      <td>0</td>\n",
              "      <td>0</td>\n",
              "      <td>0</td>\n",
              "      <td>1</td>\n",
              "      <td>0</td>\n",
              "      <td>0</td>\n",
              "    </tr>\n",
              "    <tr>\n",
              "      <th>1</th>\n",
              "      <td>5.92</td>\n",
              "      <td>0.020000</td>\n",
              "      <td>48.27</td>\n",
              "      <td>10</td>\n",
              "      <td>0</td>\n",
              "      <td>0</td>\n",
              "      <td>1</td>\n",
              "      <td>0</td>\n",
              "      <td>0</td>\n",
              "      <td>0</td>\n",
              "      <td>...</td>\n",
              "      <td>0</td>\n",
              "      <td>1</td>\n",
              "      <td>0</td>\n",
              "      <td>0</td>\n",
              "      <td>0</td>\n",
              "      <td>1</td>\n",
              "      <td>0</td>\n",
              "      <td>0</td>\n",
              "      <td>1</td>\n",
              "      <td>0</td>\n",
              "    </tr>\n",
              "    <tr>\n",
              "      <th>2</th>\n",
              "      <td>17.50</td>\n",
              "      <td>0.020000</td>\n",
              "      <td>141.62</td>\n",
              "      <td>20</td>\n",
              "      <td>0</td>\n",
              "      <td>1</td>\n",
              "      <td>0</td>\n",
              "      <td>0</td>\n",
              "      <td>0</td>\n",
              "      <td>0</td>\n",
              "      <td>...</td>\n",
              "      <td>0</td>\n",
              "      <td>1</td>\n",
              "      <td>0</td>\n",
              "      <td>1</td>\n",
              "      <td>0</td>\n",
              "      <td>0</td>\n",
              "      <td>0</td>\n",
              "      <td>1</td>\n",
              "      <td>0</td>\n",
              "      <td>0</td>\n",
              "    </tr>\n",
              "    <tr>\n",
              "      <th>3</th>\n",
              "      <td>19.20</td>\n",
              "      <td>0.066164</td>\n",
              "      <td>182.10</td>\n",
              "      <td>21</td>\n",
              "      <td>0</td>\n",
              "      <td>0</td>\n",
              "      <td>1</td>\n",
              "      <td>0</td>\n",
              "      <td>0</td>\n",
              "      <td>0</td>\n",
              "      <td>...</td>\n",
              "      <td>0</td>\n",
              "      <td>1</td>\n",
              "      <td>0</td>\n",
              "      <td>0</td>\n",
              "      <td>0</td>\n",
              "      <td>1</td>\n",
              "      <td>1</td>\n",
              "      <td>0</td>\n",
              "      <td>0</td>\n",
              "      <td>0</td>\n",
              "    </tr>\n",
              "    <tr>\n",
              "      <th>4</th>\n",
              "      <td>8.93</td>\n",
              "      <td>0.066164</td>\n",
              "      <td>53.86</td>\n",
              "      <td>32</td>\n",
              "      <td>0</td>\n",
              "      <td>1</td>\n",
              "      <td>0</td>\n",
              "      <td>0</td>\n",
              "      <td>0</td>\n",
              "      <td>0</td>\n",
              "      <td>...</td>\n",
              "      <td>1</td>\n",
              "      <td>0</td>\n",
              "      <td>0</td>\n",
              "      <td>0</td>\n",
              "      <td>0</td>\n",
              "      <td>1</td>\n",
              "      <td>0</td>\n",
              "      <td>1</td>\n",
              "      <td>0</td>\n",
              "      <td>0</td>\n",
              "    </tr>\n",
              "  </tbody>\n",
              "</table>\n",
              "<p>5 rows × 35 columns</p>\n",
              "</div>"
            ],
            "text/plain": [
              "   Item_Weight  Item_Visibility  Item_MRP  Outlet_Establishment_Year  \\\n",
              "0         9.30         0.020000    249.81                         20   \n",
              "1         5.92         0.020000     48.27                         10   \n",
              "2        17.50         0.020000    141.62                         20   \n",
              "3        19.20         0.066164    182.10                         21   \n",
              "4         8.93         0.066164     53.86                         32   \n",
              "\n",
              "   Item_Fat_Content_LF  Item_Fat_Content_Low Fat  Item_Fat_Content_Regular  \\\n",
              "0                    0                         1                         0   \n",
              "1                    0                         0                         1   \n",
              "2                    0                         1                         0   \n",
              "3                    0                         0                         1   \n",
              "4                    0                         1                         0   \n",
              "\n",
              "   Item_Fat_Content_low fat  Item_Fat_Content_reg  Item_Type_Baking Goods  \\\n",
              "0                         0                     0                       0   \n",
              "1                         0                     0                       0   \n",
              "2                         0                     0                       0   \n",
              "3                         0                     0                       0   \n",
              "4                         0                     0                       0   \n",
              "\n",
              "               ...                Outlet_Size_High  Outlet_Size_Medium  \\\n",
              "0              ...                               0                   1   \n",
              "1              ...                               0                   1   \n",
              "2              ...                               0                   1   \n",
              "3              ...                               0                   1   \n",
              "4              ...                               1                   0   \n",
              "\n",
              "   Outlet_Size_Small  Outlet_Location_Type_Tier 1  \\\n",
              "0                  0                            1   \n",
              "1                  0                            0   \n",
              "2                  0                            1   \n",
              "3                  0                            0   \n",
              "4                  0                            0   \n",
              "\n",
              "   Outlet_Location_Type_Tier 2  Outlet_Location_Type_Tier 3  \\\n",
              "0                            0                            0   \n",
              "1                            0                            1   \n",
              "2                            0                            0   \n",
              "3                            0                            1   \n",
              "4                            0                            1   \n",
              "\n",
              "   Outlet_Type_Grocery Store  Outlet_Type_Supermarket Type1  \\\n",
              "0                          0                              1   \n",
              "1                          0                              0   \n",
              "2                          0                              1   \n",
              "3                          1                              0   \n",
              "4                          0                              1   \n",
              "\n",
              "   Outlet_Type_Supermarket Type2  Outlet_Type_Supermarket Type3  \n",
              "0                              0                              0  \n",
              "1                              1                              0  \n",
              "2                              0                              0  \n",
              "3                              0                              0  \n",
              "4                              0                              0  \n",
              "\n",
              "[5 rows x 35 columns]"
            ]
          },
          "metadata": {
            "tags": []
          },
          "execution_count": 16
        }
      ]
    },
    {
      "metadata": {
        "id": "nWpQdOaz4zF5",
        "colab_type": "code",
        "outputId": "7cd817c1-a8b4-4cd1-ca4a-729db0b147b2",
        "colab": {
          "base_uri": "https://localhost:8080/",
          "height": 663
        }
      },
      "cell_type": "code",
      "source": [
        "from statsmodels.stats.outliers_influence import variance_inflation_factor\n",
        "vif = [variance_inflation_factor(X.values, i) for i in range(X.shape[1])] ## Replace X with your indepedent data type\n",
        "vif_s =pd.Series(vif, index =X.columns)\n",
        "print(vif_s)"
      ],
      "execution_count": 17,
      "outputs": [
        {
          "output_type": "stream",
          "text": [
            "/usr/local/lib/python3.6/dist-packages/statsmodels/stats/outliers_influence.py:167: RuntimeWarning: divide by zero encountered in double_scalars\n",
            "  vif = 1. / (1. - r_squared_i)\n"
          ],
          "name": "stderr"
        },
        {
          "output_type": "stream",
          "text": [
            "Item_Weight                         1.014694\n",
            "Item_Visibility                     1.111746\n",
            "Item_MRP                            1.013586\n",
            "Outlet_Establishment_Year          49.044114\n",
            "Item_Fat_Content_LF                      inf\n",
            "Item_Fat_Content_Low Fat                 inf\n",
            "Item_Fat_Content_Regular                 inf\n",
            "Item_Fat_Content_low fat                 inf\n",
            "Item_Fat_Content_reg                     inf\n",
            "Item_Type_Baking Goods                   inf\n",
            "Item_Type_Breads                         inf\n",
            "Item_Type_Breakfast                      inf\n",
            "Item_Type_Canned                         inf\n",
            "Item_Type_Dairy                          inf\n",
            "Item_Type_Frozen Foods                   inf\n",
            "Item_Type_Fruits and Vegetables          inf\n",
            "Item_Type_Hard Drinks                    inf\n",
            "Item_Type_Health and Hygiene             inf\n",
            "Item_Type_Household                      inf\n",
            "Item_Type_Meat                           inf\n",
            "Item_Type_Others                         inf\n",
            "Item_Type_Seafood                        inf\n",
            "Item_Type_Snack Foods                    inf\n",
            "Item_Type_Soft Drinks                    inf\n",
            "Item_Type_Starchy Foods                  inf\n",
            "Outlet_Size_High                         inf\n",
            "Outlet_Size_Medium                       inf\n",
            "Outlet_Size_Small                        inf\n",
            "Outlet_Location_Type_Tier 1              inf\n",
            "Outlet_Location_Type_Tier 2              inf\n",
            "Outlet_Location_Type_Tier 3              inf\n",
            "Outlet_Type_Grocery Store                inf\n",
            "Outlet_Type_Supermarket Type1            inf\n",
            "Outlet_Type_Supermarket Type2            inf\n",
            "Outlet_Type_Supermarket Type3            inf\n",
            "dtype: float64\n"
          ],
          "name": "stdout"
        }
      ]
    },
    {
      "metadata": {
        "id": "VangfIEI4zGC",
        "colab_type": "code",
        "colab": {}
      },
      "cell_type": "code",
      "source": [
        "y=train.Item_Outlet_Sales\n",
        "## Perform Train-Test Split\n",
        "X_train, X_test, y_train, y_test = train_test_split(X,y, test_size =0.3)"
      ],
      "execution_count": 0,
      "outputs": []
    },
    {
      "metadata": {
        "id": "G5CED3Mk4zGP",
        "colab_type": "text"
      },
      "cell_type": "markdown",
      "source": [
        "## Multiple Linear Regression"
      ]
    },
    {
      "metadata": {
        "id": "UmWAD0_Z4zGQ",
        "colab_type": "code",
        "colab": {}
      },
      "cell_type": "code",
      "source": [
        "from sklearn.linear_model import LinearRegression\n",
        "regressor = LinearRegression()\n",
        "regressor.fit(X_train, y_train)\n",
        "y_pred = regressor.predict(X_test)"
      ],
      "execution_count": 0,
      "outputs": []
    },
    {
      "metadata": {
        "id": "8VVnNUjd4zGW",
        "colab_type": "code",
        "outputId": "12c6ca64-c5f1-4a2d-f2e6-e88910422c49",
        "colab": {
          "base_uri": "https://localhost:8080/",
          "height": 442
        }
      },
      "cell_type": "code",
      "source": [
        "print(\"Model Performance Test: In terms of Error\")\n",
        "\n",
        "from sklearn import metrics\n",
        "print('MAE:', metrics.mean_absolute_error(y_test, y_pred))\n",
        "print('MSE:', metrics.mean_squared_error(y_test, y_pred))\n",
        "print('RMSE:', np.sqrt(metrics.mean_squared_error(y_test, y_pred)))\n",
        "\n",
        "## Higher the Explained Variance Score, the better the model is:\n",
        "print('Explained Variance Score:', metrics.explained_variance_score(y_test, y_pred)*100)\n",
        "## 95.9% of the variance is explained by the model\n",
        "\n",
        "print(\"\\n\")\n",
        "\n",
        "print(\"Model Performance Test: In terms of Cross validation\")\n",
        "\n",
        "from sklearn.model_selection import cross_val_score \n",
        "regression_avg = cross_val_score(estimator = regressor, X = X_train, y = y_train, cv = 10,scoring='neg_mean_absolute_error') \n",
        "print (\"Cross val Mean Abs Error:\",regression_avg.mean())\n",
        "\n",
        "from sklearn.model_selection import cross_val_score \n",
        "regression_avg = cross_val_score(estimator = regressor, X = X_train, y = y_train, cv = 10,scoring='explained_variance') \n",
        "print (\"Cross Val Explained Variance:\",regression_avg.mean()*100)\n",
        "\n",
        "print(\"\\n\")\n",
        "\n",
        "print(\"Model Performance Test: In terms of r2\")\n",
        "\n",
        "\n",
        "from sklearn.metrics import r2_score \n",
        "print('r2:',r2_score(y_test, y_pred)) ## Closer to 1 means better prediction\n",
        "\n",
        "adj_r2=1 - float(len(y_test)-1)/(len(y_test)-len(regressor.coef_)-1)*(1 - metrics.r2_score(y_test,y_pred))\n",
        "print(\"adj_r2=\",adj_r2) ##Closer to 1 the better the prediction\n",
        "\n",
        "\n",
        "print(\"\\n\")\n",
        "\n",
        "print(\"Model Performance Test: Bias-Variance\")\n",
        "\n",
        "## Bias Variance Test\n",
        "r2_mc_train=regressor.score(X_train,y_train)\n",
        "print(\"Training_r2=\",r2_mc_train)\n",
        "\n",
        "r2_mc_test=regressor.score(X_test,y_test)\n",
        "print(\"Test_r2=\",r2_mc_test)\n",
        "\n",
        "print(\"\\n\")\n",
        "\n",
        "print(\"Model Performance Test: MultiCollinearity\")\n",
        "\n",
        "## Do a multicollinearity test\n",
        "vif_train=1/(1-r2_mc_train) ## to determine multi collinearity. Greater than 5 means very high multi collinearity\n",
        "print(\"VIF Train:\",vif_train)\n",
        "\n",
        "vif_test=1/(1-r2_mc_test) ## to determine multi collinearity. Greater than 5 means very high multi collinearity\n",
        "print(\"VIF Test:\",vif_test)"
      ],
      "execution_count": 21,
      "outputs": [
        {
          "output_type": "stream",
          "text": [
            "Model Performance Test: In terms of Error\n",
            "MAE: 833.0779650662327\n",
            "MSE: 1259149.718606971\n",
            "RMSE: 1122.1184066786227\n",
            "Explained Variance Score: 55.71082386616328\n",
            "\n",
            "\n",
            "Model Performance Test: In terms of Cross validation\n",
            "Cross val Mean Abs Error: -844.019190133492\n",
            "Cross Val Explained Variance: 56.01248357056134\n",
            "\n",
            "\n",
            "Model Performance Test: In terms of r2\n",
            "r2: 0.557075126051237\n",
            "adj_r2= 0.5509258318869344\n",
            "\n",
            "\n",
            "Model Performance Test: Bias-Variance\n",
            "Training_r2= 0.564934592061188\n",
            "Test_r2= 0.557075126051237\n",
            "\n",
            "\n",
            "Model Performance Test: MultiCollinearity\n",
            "VIF Train: 2.298504964432017\n",
            "VIF Test: 2.2577192178998704\n"
          ],
          "name": "stdout"
        }
      ]
    },
    {
      "metadata": {
        "id": "pOJkY6VC4zGg",
        "colab_type": "code",
        "colab": {}
      },
      "cell_type": "code",
      "source": [
        "## 1: The model is able to understand 56.09% variability in the data\n",
        "## 2: 54.8% of Item_Outlet_sales is driven by the independent variables listed here\n",
        "## 3: Since adjusted r2 and r2 are close, all the variables are important\n",
        "## 4: On an average, the prediction is off by 1147 with 54.8% confidence\n",
        "## 5: There is not significant multicollinearity observed\n",
        "## 6: The Model is free  from Variance problem\n",
        "## 7: The model may have Bias problem as the adjusted r2 is low. We need to investigate further \n",
        "##    and check this metrics with other algorithms"
      ],
      "execution_count": 0,
      "outputs": []
    },
    {
      "metadata": {
        "id": "LgE2tHUN4zGn",
        "colab_type": "code",
        "colab": {}
      },
      "cell_type": "code",
      "source": [
        "coeff = DataFrame(X.columns) ## capture all the columns of X"
      ],
      "execution_count": 0,
      "outputs": []
    },
    {
      "metadata": {
        "id": "sVyMzW7S4zG3",
        "colab_type": "code",
        "outputId": "a2608737-67ed-41c8-d6ae-eea1a29a92b2",
        "colab": {
          "base_uri": "https://localhost:8080/",
          "height": 1161
        }
      },
      "cell_type": "code",
      "source": [
        "## printing all the co-efficients\n",
        "coeff = DataFrame(X.columns) ## capture all the columns of X\n",
        "coeff['Coefficient Estimate'] = Series(regressor.coef_).sort_values()\n",
        "#print(coeff)\n",
        "\n",
        "#predictors = X_train.columns\n",
        "coef = Series(regressor.coef_,coeff).sort_values()\n",
        "print(coef)\n",
        "\n",
        "\n",
        "coef.plot(kind='bar', title='Modal Coefficients')"
      ],
      "execution_count": 23,
      "outputs": [
        {
          "output_type": "stream",
          "text": [
            "(Outlet_Type_Grocery Store, -1668.0328786804096)        -1668.032879\n",
            "(Item_Visibility, -488.85579858459107)                   -488.855799\n",
            "(Outlet_Type_Supermarket Type2, -355.22005364233866)     -355.220054\n",
            "(Outlet_Size_Medium, -226.81911856668032)                -226.819119\n",
            "(Outlet_Size_Small, -167.4870171036208)                  -167.487017\n",
            "(Outlet_Location_Type_Tier 3, -153.78341642969903)       -153.783416\n",
            "(Item_Type_Household, -119.65819944698644)               -119.658199\n",
            "(Item_Type_Soft Drinks, -99.28325274507591)               -99.283253\n",
            "(Item_Fat_Content_reg, -82.71675261239884)                -82.716753\n",
            "(Item_Type_Dairy, -81.16388002163715)                     -81.163880\n",
            "(Item_Type_Baking Goods, -57.06151305048951)              -57.061513\n",
            "(Item_Type_Hard Drinks, -56.31584381210201)               -56.315844\n",
            "(Item_Fat_Content_LF, -51.52701733554888)                 -51.527017\n",
            "(Outlet_Type_Supermarket Type1, -44.261360418439985)      -44.261360\n",
            "(Item_Type_Others, -37.935658453334)                      -37.935658\n",
            "(Item_Type_Frozen Foods, -36.13125382315907)              -36.131254\n",
            "(Outlet_Establishment_Year, -26.284512086114823)          -26.284512\n",
            "(Item_Type_Breads, -25.95984002625785)                    -25.959840\n",
            "(Item_Type_Meat, -14.360093220104263)                     -14.360093\n",
            "(Item_Type_Canned, -9.440144147289985)                     -9.440144\n",
            "(Item_Type_Snack Foods, -7.652869293203734)                -7.652869\n",
            "(Item_Type_Health and Hygiene, -3.6514534489388657)        -3.651453\n",
            "(Item_Weight, -1.619072716898831)                          -1.619073\n",
            "(Item_Type_Fruits and Vegetables, 11.361241188583428)      11.361241\n",
            "(Item_MRP, 15.528774255012584)                             15.528774\n",
            "(Outlet_Location_Type_Tier 2, 23.12776719560495)           23.127767\n",
            "(Item_Fat_Content_Low Fat, 32.47362580526979)              32.473626\n",
            "(Item_Fat_Content_low fat, 41.95051362318927)              41.950514\n",
            "(Item_Type_Breakfast, 51.23629942014262)                   51.236299\n",
            "(Item_Fat_Content_Regular, 59.81963051946251)              59.819631\n",
            "(Item_Type_Starchy Foods, 60.85530496710968)               60.855305\n",
            "(Outlet_Location_Type_Tier 1, 130.65564923414004)         130.655649\n",
            "(Outlet_Size_High, 394.30613567038324)                    394.306136\n",
            "(Item_Type_Seafood, 425.1611559128252)                    425.161156\n",
            "(Outlet_Type_Supermarket Type3, 2067.5142927411334)      2067.514293\n",
            "dtype: float64\n"
          ],
          "name": "stdout"
        },
        {
          "output_type": "execute_result",
          "data": {
            "text/plain": [
              "<matplotlib.axes._subplots.AxesSubplot at 0x7f7789d4ea90>"
            ]
          },
          "metadata": {
            "tags": []
          },
          "execution_count": 23
        },
        {
          "output_type": "display_data",
          "data": {
            "image/png": "[encoded data removed]",
            "text/plain": [
              "<Figure size 432x288 with 1 Axes>"
            ]
          },
          "metadata": {
            "tags": []
          }
        }
      ]
    },
    {
      "metadata": {
        "id": "M3Ohvhgw4zG8",
        "colab_type": "text"
      },
      "cell_type": "markdown",
      "source": [
        "## Inference : \n",
        "Items are not getting sold in Grocery Stores.  \n",
        "Supermarket : Type 3 has very high sales"
      ]
    },
    {
      "metadata": {
        "id": "AMd2xbns4zG9",
        "colab_type": "code",
        "outputId": "2a54f481-27a5-418f-886d-102439b0e94c",
        "colab": {
          "base_uri": "https://localhost:8080/",
          "height": 68
        }
      },
      "cell_type": "code",
      "source": [
        "## Lets validate it\n",
        "\n",
        "train_inv = pd.read_csv(url) ## Read the data once more\n",
        "\n",
        "print(\"Mean Sales=\",train_inv['Item_Outlet_Sales'].mean())\n",
        "print(\"\\n\")"
      ],
      "execution_count": 26,
      "outputs": [
        {
          "output_type": "stream",
          "text": [
            "Mean Sales= 2181.289051976997\n",
            "\n",
            "\n"
          ],
          "name": "stdout"
        }
      ]
    },
    {
      "metadata": {
        "id": "pLL6Nq6u4zHD",
        "colab_type": "code",
        "outputId": "9cf05e97-fdc6-4c19-9fd7-9804cb0d6e72",
        "colab": {
          "base_uri": "https://localhost:8080/",
          "height": 136
        }
      },
      "cell_type": "code",
      "source": [
        "print(train_inv.groupby(['Outlet_Type'], as_index=False)['Item_Outlet_Sales'].max())\n",
        "print(\"\\n\")"
      ],
      "execution_count": 27,
      "outputs": [
        {
          "output_type": "stream",
          "text": [
            "         Outlet_Type  Item_Outlet_Sales\n",
            "0      Grocery Store            1775.69\n",
            "1  Supermarket Type1           10256.65\n",
            "2  Supermarket Type2            6768.52\n",
            "3  Supermarket Type3           13086.96\n",
            "\n",
            "\n"
          ],
          "name": "stdout"
        }
      ]
    },
    {
      "metadata": {
        "id": "LjtJgP2U4zHI",
        "colab_type": "code",
        "outputId": "4aa785ee-1bb5-4e8c-a704-e1eba778ab9b",
        "colab": {
          "base_uri": "https://localhost:8080/",
          "height": 102
        }
      },
      "cell_type": "code",
      "source": [
        "print(train_inv.groupby(['Outlet_Type'], as_index=False)['Item_Outlet_Sales'].mean())"
      ],
      "execution_count": 28,
      "outputs": [
        {
          "output_type": "stream",
          "text": [
            "         Outlet_Type  Item_Outlet_Sales\n",
            "0      Grocery Store         339.828596\n",
            "1  Supermarket Type1        2316.181316\n",
            "2  Supermarket Type2        1995.498869\n",
            "3  Supermarket Type3        3694.038578\n"
          ],
          "name": "stdout"
        }
      ]
    },
    {
      "metadata": {
        "id": "JavxfHPa4zHM",
        "colab_type": "code",
        "outputId": "3679de6f-01a6-4271-c2f0-46a451e4a5c6",
        "colab": {
          "base_uri": "https://localhost:8080/",
          "height": 669
        }
      },
      "cell_type": "code",
      "source": [
        "## Looking at values of Grocery Store and Supermarket Type 3\n",
        "train_inv=train_inv[['Outlet_Type','Item_Outlet_Sales']]\n",
        "train_inv=train_inv[train_inv['Outlet_Type'].isin (['Grocery Store','Supermarket Type3' ])]\n",
        "train_inv.head(20) ## observe few random values"
      ],
      "execution_count": 29,
      "outputs": [
        {
          "output_type": "execute_result",
          "data": {
            "text/html": [
              "<div>\n",
              "<style scoped>\n",
              "    .dataframe tbody tr th:only-of-type {\n",
              "        vertical-align: middle;\n",
              "    }\n",
              "\n",
              "    .dataframe tbody tr th {\n",
              "        vertical-align: top;\n",
              "    }\n",
              "\n",
              "    .dataframe thead th {\n",
              "        text-align: right;\n",
              "    }\n",
              "</style>\n",
              "<table border=\"1\" class=\"dataframe\">\n",
              "  <thead>\n",
              "    <tr style=\"text-align: right;\">\n",
              "      <th></th>\n",
              "      <th>Outlet_Type</th>\n",
              "      <th>Item_Outlet_Sales</th>\n",
              "    </tr>\n",
              "  </thead>\n",
              "  <tbody>\n",
              "    <tr>\n",
              "      <th>3</th>\n",
              "      <td>Grocery Store</td>\n",
              "      <td>732.38</td>\n",
              "    </tr>\n",
              "    <tr>\n",
              "      <th>7</th>\n",
              "      <td>Supermarket Type3</td>\n",
              "      <td>4022.76</td>\n",
              "    </tr>\n",
              "    <tr>\n",
              "      <th>18</th>\n",
              "      <td>Supermarket Type3</td>\n",
              "      <td>2303.67</td>\n",
              "    </tr>\n",
              "    <tr>\n",
              "      <th>21</th>\n",
              "      <td>Supermarket Type3</td>\n",
              "      <td>4064.04</td>\n",
              "    </tr>\n",
              "    <tr>\n",
              "      <th>23</th>\n",
              "      <td>Grocery Store</td>\n",
              "      <td>214.39</td>\n",
              "    </tr>\n",
              "    <tr>\n",
              "      <th>28</th>\n",
              "      <td>Grocery Store</td>\n",
              "      <td>178.43</td>\n",
              "    </tr>\n",
              "    <tr>\n",
              "      <th>29</th>\n",
              "      <td>Grocery Store</td>\n",
              "      <td>125.84</td>\n",
              "    </tr>\n",
              "    <tr>\n",
              "      <th>30</th>\n",
              "      <td>Grocery Store</td>\n",
              "      <td>163.79</td>\n",
              "    </tr>\n",
              "    <tr>\n",
              "      <th>36</th>\n",
              "      <td>Supermarket Type3</td>\n",
              "      <td>2797.69</td>\n",
              "    </tr>\n",
              "    <tr>\n",
              "      <th>38</th>\n",
              "      <td>Supermarket Type3</td>\n",
              "      <td>388.16</td>\n",
              "    </tr>\n",
              "    <tr>\n",
              "      <th>39</th>\n",
              "      <td>Supermarket Type3</td>\n",
              "      <td>2180.50</td>\n",
              "    </tr>\n",
              "    <tr>\n",
              "      <th>45</th>\n",
              "      <td>Grocery Store</td>\n",
              "      <td>358.20</td>\n",
              "    </tr>\n",
              "    <tr>\n",
              "      <th>49</th>\n",
              "      <td>Grocery Store</td>\n",
              "      <td>780.32</td>\n",
              "    </tr>\n",
              "    <tr>\n",
              "      <th>59</th>\n",
              "      <td>Grocery Store</td>\n",
              "      <td>892.17</td>\n",
              "    </tr>\n",
              "    <tr>\n",
              "      <th>62</th>\n",
              "      <td>Supermarket Type3</td>\n",
              "      <td>484.70</td>\n",
              "    </tr>\n",
              "    <tr>\n",
              "      <th>63</th>\n",
              "      <td>Grocery Store</td>\n",
              "      <td>147.81</td>\n",
              "    </tr>\n",
              "    <tr>\n",
              "      <th>64</th>\n",
              "      <td>Supermarket Type3</td>\n",
              "      <td>2543.36</td>\n",
              "    </tr>\n",
              "    <tr>\n",
              "      <th>65</th>\n",
              "      <td>Grocery Store</td>\n",
              "      <td>184.43</td>\n",
              "    </tr>\n",
              "    <tr>\n",
              "      <th>77</th>\n",
              "      <td>Grocery Store</td>\n",
              "      <td>643.16</td>\n",
              "    </tr>\n",
              "    <tr>\n",
              "      <th>83</th>\n",
              "      <td>Grocery Store</td>\n",
              "      <td>583.24</td>\n",
              "    </tr>\n",
              "  </tbody>\n",
              "</table>\n",
              "</div>"
            ],
            "text/plain": [
              "          Outlet_Type  Item_Outlet_Sales\n",
              "3       Grocery Store             732.38\n",
              "7   Supermarket Type3            4022.76\n",
              "18  Supermarket Type3            2303.67\n",
              "21  Supermarket Type3            4064.04\n",
              "23      Grocery Store             214.39\n",
              "28      Grocery Store             178.43\n",
              "29      Grocery Store             125.84\n",
              "30      Grocery Store             163.79\n",
              "36  Supermarket Type3            2797.69\n",
              "38  Supermarket Type3             388.16\n",
              "39  Supermarket Type3            2180.50\n",
              "45      Grocery Store             358.20\n",
              "49      Grocery Store             780.32\n",
              "59      Grocery Store             892.17\n",
              "62  Supermarket Type3             484.70\n",
              "63      Grocery Store             147.81\n",
              "64  Supermarket Type3            2543.36\n",
              "65      Grocery Store             184.43\n",
              "77      Grocery Store             643.16\n",
              "83      Grocery Store             583.24"
            ]
          },
          "metadata": {
            "tags": []
          },
          "execution_count": 29
        }
      ]
    },
    {
      "metadata": {
        "id": "C6zUpvWy4zHR",
        "colab_type": "text"
      },
      "cell_type": "markdown",
      "source": [
        "## Ridge Regression (Will shrink the coefficients to reduce multicollinearity)"
      ]
    },
    {
      "metadata": {
        "id": "u6PggDbt4zHU",
        "colab_type": "code",
        "colab": {}
      },
      "cell_type": "code",
      "source": [
        "from sklearn.linear_model import Ridge\n",
        "regressor = Ridge(alpha=0.05, normalize=True) ## play with alpha\n",
        "\n",
        "regressor.fit(X_train, y_train)\n",
        "y_pred = regressor.predict(X_test)"
      ],
      "execution_count": 0,
      "outputs": []
    },
    {
      "metadata": {
        "id": "63Gksd_T4zHZ",
        "colab_type": "code",
        "outputId": "abaa391a-62ab-4f08-a477-4571b3c11980",
        "colab": {
          "base_uri": "https://localhost:8080/",
          "height": 476
        }
      },
      "cell_type": "code",
      "source": [
        "print(\"Model Performance Test: In terms of Error\")\n",
        "\n",
        "from sklearn import metrics\n",
        "print('MAE:', metrics.mean_absolute_error(y_test, y_pred))\n",
        "print('MSE:', metrics.mean_squared_error(y_test, y_pred))\n",
        "print('RMSE:', np.sqrt(metrics.mean_squared_error(y_test, y_pred)))\n",
        "\n",
        "print(\"\\n\")\n",
        "\n",
        "print(\"Model Performance Test: In terms of Cross validation\")\n",
        "\n",
        "## Higher the Explained Variance Score, the better the model is:\n",
        "print('Explained Variance Score:', metrics.explained_variance_score(y_test, y_pred)*100)\n",
        "## 95.9% of the variance is explained by the model\n",
        "\n",
        "from sklearn.model_selection import cross_val_score \n",
        "regression_avg_mae = cross_val_score(estimator = regressor, X = X_train, y = y_train, cv = 10,scoring='neg_mean_absolute_error') \n",
        "print (\"Cross val Mean Abs Error:\",regression_avg.mean())\n",
        "\n",
        "from sklearn.model_selection import cross_val_score \n",
        "regression_avg = cross_val_score(estimator = regressor, X = X_train, y = y_train, cv = 10,scoring='explained_variance') \n",
        "print (\"Cross Val Explained Variance:\",regression_avg.mean()*100)\n",
        "\n",
        "print(\"Standard_Dev for Explained Variance=\",regression_avg.std()*100)\n",
        "print(\"Standard_Dev for Mean Abs Error=\",regression_avg_mae.std()*100)\n",
        "\n",
        "print(\"\\n\")\n",
        "\n",
        "print(\"Model Performance Test: In terms of r2\")\n",
        "\n",
        "\n",
        "from sklearn.metrics import r2_score \n",
        "print('r2:',r2_score(y_test, y_pred)) ## Closer to 1 means better prediction\n",
        "\n",
        "adj_r2=1 - float(len(y_test)-1)/(len(y_test)-len(regressor.coef_)-1)*(1 - metrics.r2_score(y_test,y_pred))\n",
        "print(\"adj_r2=\",adj_r2) ##Closer to 1 the better the prediction\n",
        "\n",
        "\n",
        "print(\"\\n\")\n",
        "\n",
        "print(\"Model Performance Test: Bias-Variance\")\n",
        "\n",
        "## Bias Variance Test\n",
        "r2_mc_train=regressor.score(X_train,y_train)\n",
        "print(\"Training_r2=\",r2_mc_train)\n",
        "\n",
        "r2_mc_test=regressor.score(X_test,y_test)\n",
        "print(\"Test_r2=\",r2_mc_test)\n",
        "\n",
        "print(\"\\n\")\n",
        "\n",
        "print(\"Model Performance Test: MultiCollinearity\")\n",
        "\n",
        "## Do a multicollinearity test\n",
        "vif_train=1/(1-r2_mc_train) ## to determine multi collinearity. Greater than 5 means very high multi collinearity\n",
        "print(\"VIF Train:\",vif_train)\n",
        "\n",
        "vif_test=1/(1-r2_mc_test) ## to determine multi collinearity. Greater than 5 means very high multi collinearity\n",
        "print(\"VIF Test:\",vif_test)"
      ],
      "execution_count": 32,
      "outputs": [
        {
          "output_type": "stream",
          "text": [
            "Model Performance Test: In terms of Error\n",
            "MAE: 835.7022964595897\n",
            "MSE: 1266027.1269252033\n",
            "RMSE: 1125.178708883706\n",
            "\n",
            "\n",
            "Model Performance Test: In terms of Cross validation\n",
            "Explained Variance Score: 55.46796159091218\n",
            "Cross val Mean Abs Error: 0.5601248357056134\n",
            "Cross Val Explained Variance: 55.909750072679856\n",
            "Standard_Dev for Explained Variance= 2.2686756510915047\n",
            "Standard_Dev for Mean Abs Error= 4009.3419783899426\n",
            "\n",
            "\n",
            "Model Performance Test: In terms of r2\n",
            "r2: 0.5546558941144524\n",
            "adj_r2= 0.5484730128348038\n",
            "\n",
            "\n",
            "Model Performance Test: Bias-Variance\n",
            "Training_r2= 0.5633008391672512\n",
            "Test_r2= 0.5546558941144524\n",
            "\n",
            "\n",
            "Model Performance Test: MultiCollinearity\n",
            "VIF Train: 2.2899059345410318\n",
            "VIF Test: 2.2454546647957603\n"
          ],
          "name": "stdout"
        }
      ]
    },
    {
      "metadata": {
        "id": "k3T_4Ffc4zHg",
        "colab_type": "code",
        "outputId": "b01eb8c1-582f-4eb6-f8de-268d2e956b4e",
        "colab": {
          "base_uri": "https://localhost:8080/",
          "height": 1049
        }
      },
      "cell_type": "code",
      "source": [
        "coeff = DataFrame(X_train.columns)\n",
        "coeff['Coefficient Estimate'] = Series(regressor.coef_)\n",
        "print(coeff)\n",
        "\n",
        "predictors = X_train.columns\n",
        "coef = Series(regressor.coef_,predictors).sort_values()\n",
        "coef.plot(kind='bar', title='Modal Coefficients')"
      ],
      "execution_count": 33,
      "outputs": [
        {
          "output_type": "stream",
          "text": [
            "                                  0  Coefficient Estimate\n",
            "0                       Item_Weight             -1.514801\n",
            "1                   Item_Visibility           -638.374381\n",
            "2                          Item_MRP             14.775442\n",
            "3         Outlet_Establishment_Year              3.686334\n",
            "4               Item_Fat_Content_LF            -88.316479\n",
            "5          Item_Fat_Content_Low Fat             -4.239606\n",
            "6          Item_Fat_Content_Regular             25.056746\n",
            "7          Item_Fat_Content_low fat              0.341629\n",
            "8              Item_Fat_Content_reg           -113.437509\n",
            "9            Item_Type_Baking Goods            -34.311904\n",
            "10                 Item_Type_Breads              4.333264\n",
            "11              Item_Type_Breakfast             83.085619\n",
            "12                 Item_Type_Canned             22.718490\n",
            "13                  Item_Type_Dairy            -42.318874\n",
            "14           Item_Type_Frozen Foods             -4.171129\n",
            "15  Item_Type_Fruits and Vegetables             43.192156\n",
            "16            Item_Type_Hard Drinks            -25.120489\n",
            "17     Item_Type_Health and Hygiene             19.987014\n",
            "18              Item_Type_Household            -80.027632\n",
            "19                   Item_Type_Meat             17.670331\n",
            "20                 Item_Type_Others            -20.429637\n",
            "21                Item_Type_Seafood            429.511645\n",
            "22            Item_Type_Snack Foods             28.480022\n",
            "23            Item_Type_Soft Drinks            -70.308388\n",
            "24          Item_Type_Starchy Foods             92.202378\n",
            "25                 Outlet_Size_High            -78.106892\n",
            "26               Outlet_Size_Medium             12.743624\n",
            "27                Outlet_Size_Small             22.756425\n",
            "28      Outlet_Location_Type_Tier 1            -60.827056\n",
            "29      Outlet_Location_Type_Tier 2             25.444793\n",
            "30      Outlet_Location_Type_Tier 3             28.044925\n",
            "31        Outlet_Type_Grocery Store          -1680.177192\n",
            "32    Outlet_Type_Supermarket Type1            232.994551\n",
            "33    Outlet_Type_Supermarket Type2           -127.773423\n",
            "34    Outlet_Type_Supermarket Type3           1501.764995\n"
          ],
          "name": "stdout"
        },
        {
          "output_type": "execute_result",
          "data": {
            "text/plain": [
              "<matplotlib.axes._subplots.AxesSubplot at 0x7f7785b4c7b8>"
            ]
          },
          "metadata": {
            "tags": []
          },
          "execution_count": 33
        },
        {
          "output_type": "display_data",
          "data": {
            "image/png": "[encoded data removed]",
            "text/plain": [
              "<Figure size 432x288 with 1 Axes>"
            ]
          },
          "metadata": {
            "tags": []
          }
        }
      ]
    },
    {
      "metadata": {
        "id": "qG8Fa9ho4zHm",
        "colab_type": "text"
      },
      "cell_type": "markdown",
      "source": [
        "## Lasso Regression (Will eliminate features even at small values of alpha)"
      ]
    },
    {
      "metadata": {
        "id": "8vncI6JR4zHu",
        "colab_type": "code",
        "outputId": "efd293b4-fbfd-4271-9a73-0d22b5364866",
        "colab": {
          "base_uri": "https://localhost:8080/",
          "height": 442
        }
      },
      "cell_type": "code",
      "source": [
        "from sklearn.linear_model import Lasso\n",
        "regressor = Lasso(alpha=0.3, normalize=True) ## play with alpha\n",
        "regressor.fit(X_train, y_train)\n",
        "y_pred = regressor.predict(X_test)\n",
        "\n",
        "print(\"Model Performance Test: In terms of Error\")\n",
        "\n",
        "### same old code\n",
        "\n",
        "from sklearn import metrics\n",
        "print('MAE:', metrics.mean_absolute_error(y_test, y_pred))\n",
        "print('MSE:', metrics.mean_squared_error(y_test, y_pred))\n",
        "print('RMSE:', np.sqrt(metrics.mean_squared_error(y_test, y_pred)))\n",
        "\n",
        "print(\"\\n\")\n",
        "\n",
        "print(\"Model Performance Test: In terms of Cross validation\")\n",
        "\n",
        "## Higher the Explained Variance Score, the better the model is:\n",
        "print('Explained Variance Score:', metrics.explained_variance_score(y_test, y_pred)*100)\n",
        "## 95.9% of the variance is explained by the model\n",
        "\n",
        "from sklearn.model_selection import cross_val_score \n",
        "regression_avg = cross_val_score(estimator = regressor, X = X_train, y = y_train, cv = 10,scoring='neg_mean_absolute_error') \n",
        "print (\"Cross val Mean Abs Error:\",regression_avg.mean())\n",
        "\n",
        "from sklearn.model_selection import cross_val_score \n",
        "regression_avg = cross_val_score(estimator = regressor, X = X_train, y = y_train, cv = 10,scoring='explained_variance') \n",
        "print (\"Cross Val Explained Variance:\",regression_avg.mean()*100)\n",
        "\n",
        "print(\"\\n\")\n",
        "\n",
        "print(\"Model Performance Test: In terms of r2\")\n",
        "\n",
        "\n",
        "from sklearn.metrics import r2_score \n",
        "print('r2:',r2_score(y_test, y_pred)) ## Closer to 1 means better prediction\n",
        "\n",
        "adj_r2=1 - float(len(y_test)-1)/(len(y_test)-len(regressor.coef_)-1)*(1 - metrics.r2_score(y_test,y_pred))\n",
        "print(\"adj_r2=\",adj_r2) ##Closer to 1 the better the prediction\n",
        "\n",
        "\n",
        "print(\"\\n\")\n",
        "\n",
        "print(\"Model Performance Test: Bias-Variance\")\n",
        "\n",
        "## Bias Variance Test\n",
        "r2_mc_train=regressor.score(X_train,y_train)\n",
        "print(\"Training_r2=\",r2_mc_train)\n",
        "\n",
        "r2_mc_test=regressor.score(X_test,y_test)\n",
        "print(\"Test_r2=\",r2_mc_test)\n",
        "\n",
        "print(\"\\n\")\n",
        "\n",
        "print(\"Model Performance Test: MultiCollinearity\")\n",
        "\n",
        "## Do a multicollinearity test\n",
        "vif_train=1/(1-r2_mc_train) ## to determine multi collinearity. Greater than 5 means very high multi collinearity\n",
        "print(\"VIF Train:\",vif_train)\n",
        "\n",
        "vif_test=1/(1-r2_mc_test) ## to determine multi collinearity. Greater than 5 means very high multi collinearity\n",
        "print(\"VIF Test:\",vif_test)"
      ],
      "execution_count": 35,
      "outputs": [
        {
          "output_type": "stream",
          "text": [
            "Model Performance Test: In terms of Error\n",
            "MAE: 830.3502996408815\n",
            "MSE: 1251035.6766730724\n",
            "RMSE: 1118.4970615397576\n",
            "\n",
            "\n",
            "Model Performance Test: In terms of Cross validation\n",
            "Explained Variance Score: 55.99464874131943\n",
            "Cross val Mean Abs Error: -840.3094631518412\n",
            "Cross Val Explained Variance: 56.09681984793724\n",
            "\n",
            "\n",
            "Model Performance Test: In terms of r2\n",
            "r2: 0.5599293624837107\n",
            "adj_r2= 0.5538196947673005\n",
            "\n",
            "\n",
            "Model Performance Test: Bias-Variance\n",
            "Training_r2= 0.5626529123269239\n",
            "Test_r2= 0.5599293624837107\n",
            "\n",
            "\n",
            "Model Performance Test: MultiCollinearity\n",
            "VIF Train: 2.2865134539263607\n",
            "VIF Test: 2.2723624680889665\n"
          ],
          "name": "stdout"
        }
      ]
    },
    {
      "metadata": {
        "id": "CHVp_u_n4zH1",
        "colab_type": "code",
        "outputId": "41721723-a66d-42d6-f5a5-b22aedcbe42e",
        "colab": {}
      },
      "cell_type": "code",
      "source": [
        "predictors = X_train.columns\n",
        "coef = Series(regressor.coef_,predictors).sort_values()\n",
        "coef.plot(kind='bar', title='Modal Coefficients')"
      ],
      "execution_count": 0,
      "outputs": [
        {
          "output_type": "execute_result",
          "data": {
            "text/plain": [
              "<matplotlib.axes._subplots.AxesSubplot at 0xca16d30>"
            ]
          },
          "metadata": {
            "tags": []
          },
          "execution_count": 34
        },
        {
          "output_type": "display_data",
          "data": {
            "image/png": "[encoded data removed]",
            "text/plain": [
              "<Figure size 432x288 with 1 Axes>"
            ]
          },
          "metadata": {
            "tags": []
          }
        }
      ]
    },
    {
      "metadata": {
        "id": "rlXRrq3I4zH5",
        "colab_type": "code",
        "colab": {}
      },
      "cell_type": "code",
      "source": [
        "## It has eliminated features and adjusted the co-efficients of important features accordingly"
      ],
      "execution_count": 0,
      "outputs": []
    },
    {
      "metadata": {
        "id": "oZ6N2WR84zIC",
        "colab_type": "text"
      },
      "cell_type": "markdown",
      "source": [
        "## ElasticNet (Best of Lasso and Ridge)"
      ]
    },
    {
      "metadata": {
        "id": "_gvlHFkY4zIF",
        "colab_type": "code",
        "outputId": "1092360e-fe5c-4cb0-a226-4f99aa44b632",
        "colab": {
          "base_uri": "https://localhost:8080/",
          "height": 442
        }
      },
      "cell_type": "code",
      "source": [
        "from sklearn.linear_model import ElasticNet\n",
        "regressor = ElasticNet(alpha=0.8, l1_ratio=0.3,normalize=False) ## play with alpha and l1_ratio\n",
        "regressor.fit(X_train, y_train)\n",
        "y_pred = regressor.predict(X_test)\n",
        "\n",
        "print(\"Model Performance Test: In terms of Error\")\n",
        "\n",
        "### same old code\n",
        "\n",
        "from sklearn import metrics\n",
        "print('MAE:', metrics.mean_absolute_error(y_test, y_pred))\n",
        "print('MSE:', metrics.mean_squared_error(y_test, y_pred))\n",
        "print('RMSE:', np.sqrt(metrics.mean_squared_error(y_test, y_pred)))\n",
        "\n",
        "print(\"\\n\")\n",
        "\n",
        "print(\"Model Performance Test: In terms of Cross validation\")\n",
        "\n",
        "## Higher the Explained Variance Score, the better the model is:\n",
        "print('Explained Variance Score:', metrics.explained_variance_score(y_test, y_pred)*100)\n",
        "## 95.9% of the variance is explained by the model\n",
        "\n",
        "from sklearn.model_selection import cross_val_score \n",
        "regression_avg = cross_val_score(estimator = regressor, X = X_train, y = y_train, cv = 10,scoring='neg_mean_absolute_error') \n",
        "print (\"Cross val Mean Abs Error:\",regression_avg.mean())\n",
        "\n",
        "from sklearn.model_selection import cross_val_score \n",
        "regression_avg = cross_val_score(estimator = regressor, X = X_train, y = y_train, cv = 10,scoring='explained_variance') \n",
        "print (\"Cross Val Explained Variance:\",regression_avg.mean()*100)\n",
        "\n",
        "print(\"\\n\")\n",
        "\n",
        "print(\"Model Performance Test: In terms of r2\")\n",
        "\n",
        "\n",
        "from sklearn.metrics import r2_score \n",
        "print('r2:',r2_score(y_test, y_pred)) ## Closer to 1 means better prediction\n",
        "\n",
        "adj_r2=1 - float(len(y_test)-1)/(len(y_test)-len(regressor.coef_)-1)*(1 - metrics.r2_score(y_test,y_pred))\n",
        "print(\"adj_r2=\",adj_r2) ##Closer to 1 the better the prediction\n",
        "\n",
        "\n",
        "print(\"\\n\")\n",
        "\n",
        "print(\"Model Performance Test: Bias-Variance\")\n",
        "\n",
        "## Bias Variance Test\n",
        "r2_mc_train=regressor.score(X_train,y_train)\n",
        "print(\"Training_r2=\",r2_mc_train)\n",
        "\n",
        "r2_mc_test=regressor.score(X_test,y_test)\n",
        "print(\"Test_r2=\",r2_mc_test)\n",
        "\n",
        "print(\"\\n\")\n",
        "\n",
        "print(\"Model Performance Test: MultiCollinearity\")\n",
        "\n",
        "## Do a multicollinearity test\n",
        "vif_train=1/(1-r2_mc_train) ## to determine multi collinearity. Greater than 5 means very high multi collinearity\n",
        "print(\"VIF Train:\",vif_train)\n",
        "\n",
        "vif_test=1/(1-r2_mc_test) ## to determine multi collinearity. Greater than 5 means very high multi collinearity\n",
        "print(\"VIF Test:\",vif_test)"
      ],
      "execution_count": 36,
      "outputs": [
        {
          "output_type": "stream",
          "text": [
            "Model Performance Test: In terms of Error\n",
            "MAE: 939.0224741375082\n",
            "MSE: 1632535.4796086305\n",
            "RMSE: 1277.707118086391\n",
            "\n",
            "\n",
            "Model Performance Test: In terms of Cross validation\n",
            "Explained Variance Score: 42.57342396786223\n",
            "Cross val Mean Abs Error: -966.3608398878305\n",
            "Cross Val Explained Variance: 41.060466775824835\n",
            "\n",
            "\n",
            "Model Performance Test: In terms of r2\n",
            "r2: 0.4257310621309518\n",
            "adj_r2= 0.4177582684675576\n",
            "\n",
            "\n",
            "Model Performance Test: Bias-Variance\n",
            "Training_r2= 0.4132785724465493\n",
            "Test_r2= 0.4257310621309518\n",
            "\n",
            "\n",
            "Model Performance Test: MultiCollinearity\n",
            "VIF Train: 1.7043863629966018\n",
            "VIF Test: 1.74134440165042\n"
          ],
          "name": "stdout"
        }
      ]
    },
    {
      "metadata": {
        "id": "pjap0Nva4zIK",
        "colab_type": "code",
        "outputId": "6310ec8a-9ef7-4116-e5fb-80b43ef61658",
        "colab": {
          "base_uri": "https://localhost:8080/",
          "height": 437
        }
      },
      "cell_type": "code",
      "source": [
        "predictors = X_train.columns\n",
        "coef = Series(regressor.coef_,predictors).sort_values()\n",
        "coef.plot(kind='bar', title='Modal Coefficients')"
      ],
      "execution_count": 37,
      "outputs": [
        {
          "output_type": "execute_result",
          "data": {
            "text/plain": [
              "<matplotlib.axes._subplots.AxesSubplot at 0x7f7785a44c18>"
            ]
          },
          "metadata": {
            "tags": []
          },
          "execution_count": 37
        },
        {
          "output_type": "display_data",
          "data": {
            "image/png": "[encoded data removed]",
            "text/plain": [
              "<Figure size 432x288 with 1 Axes>"
            ]
          },
          "metadata": {
            "tags": []
          }
        }
      ]
    },
    {
      "metadata": {
        "id": "EsBj8y2X4zIU",
        "colab_type": "code",
        "colab": {}
      },
      "cell_type": "code",
      "source": [
        "## Co-efficients are reduced, but features are not eliminated"
      ],
      "execution_count": 0,
      "outputs": []
    },
    {
      "metadata": {
        "id": "k6eEjeSX4zIa",
        "colab_type": "text"
      },
      "cell_type": "markdown",
      "source": [
        "## Now : which model to believe ? :)"
      ]
    },
    {
      "metadata": {
        "id": "lTKiGCBc4zIb",
        "colab_type": "text"
      },
      "cell_type": "markdown",
      "source": [
        "# xgboost"
      ]
    },
    {
      "metadata": {
        "id": "aay3Ud1K4zIc",
        "colab_type": "code",
        "colab": {}
      },
      "cell_type": "code",
      "source": [
        "from xgboost import XGBClassifier\n",
        "classifier = XGBClassifier()\n",
        "classifier.fit(X_train, y_train)\n",
        "\n",
        "# Making the Confusion Matrix\n",
        "\n",
        "from sklearn.metrics import confusion_matrix,classification_report\n",
        "cm = confusion_matrix(y_test, y_pred)\n",
        "print(cm)\n",
        "print(classification_report(y_test, y_pred))\n",
        "\n",
        "\n",
        "# Applying k-Fold Cross Validation using AUC-ROC Curve \n",
        "#https://towardsdatascience.com/understanding-auc-roc-curve-68b2303cc9c5\n",
        "\n",
        "from sklearn.model_selection import cross_val_score\n",
        "accuracies = cross_val_score(estimator = classifier, X = X_train, y = y_train, cv = 10)\n",
        "\n",
        "mean_score = cross_val_score(estimator = classifier, X = X_train, y = y_train, scoring=\"roc_auc\", cv = 7).mean()\n",
        "std_score = cross_val_score(estimator = classifier, X = X_train, y = y_train, scoring=\"roc_auc\", cv = 7).std()\n",
        "\n",
        "\n",
        "print (\"Accuracy=\",mean_score*100)\n",
        "print(\"Standard Deviation\",std_score*100)"
      ],
      "execution_count": 0,
      "outputs": []
    },
    {
      "metadata": {
        "id": "fw49SRCg4zIr",
        "colab_type": "code",
        "colab": {}
      },
      "cell_type": "code",
      "source": [
        "import xgboost as xgb\n",
        "regressor= xgb.XGBRegressor()#max_features=0.8\n",
        "regressor.fit(X_train, y_train)\n",
        "y_pred = regressor.predict(X_test)"
      ],
      "execution_count": 0,
      "outputs": []
    },
    {
      "metadata": {
        "id": "l5e9hTU54zIx",
        "colab_type": "code",
        "outputId": "a67bb924-7598-4be8-97c0-ff3c0b47e70b",
        "colab": {}
      },
      "cell_type": "code",
      "source": [
        "\n",
        "from sklearn import metrics\n",
        "print('MAE:', metrics.mean_absolute_error(y_test, y_pred))\n",
        "print('MSE:', metrics.mean_squared_error(y_test, y_pred))\n",
        "print('RMSE:', np.sqrt(metrics.mean_squared_error(y_test, y_pred)))\n",
        "\n",
        "print(\"\\n\")\n",
        "\n",
        "print(\"Model Performance Test: In terms of Cross validation\")\n",
        "\n",
        "## Higher the Explained Variance Score, the better the model is:\n",
        "print('Explained Variance Score:', metrics.explained_variance_score(y_test, y_pred)*100)\n",
        "## 95.9% of the variance is explained by the model\n",
        "\n",
        "from sklearn.model_selection import cross_val_score \n",
        "regression_avg = cross_val_score(estimator = regressor, X = X_train, y = y_train, cv = 10,scoring='neg_mean_absolute_error') \n",
        "print (\"Cross val Mean Abs Error:\",regression_avg.mean())\n",
        "\n",
        "from sklearn.model_selection import cross_val_score \n",
        "regression_avg = cross_val_score(estimator = regressor, X = X_train, y = y_train, cv = 10,scoring='explained_variance') \n",
        "print (\"Cross Val Explained Variance:\",regression_avg.mean()*100)\n",
        "\n",
        "print(\"\\n\")\n",
        "\n",
        "print(\"Model Performance Test: In terms of r2\")\n",
        "\n",
        "\n",
        "from sklearn.metrics import r2_score \n",
        "print('r2:',r2_score(y_test, y_pred)) ## Closer to 1 means better prediction\n",
        "\n",
        "#adj_r2=1 - float(len(y_test)-1)/(len(y_test)-len(regressor.coef_)-1)*(1 - metrics.r2_score(y_test,y_pred))\n",
        "#print(\"adj_r2=\",adj_r2) ##Closer to 1 the better the prediction\n",
        "\n",
        "\n",
        "print(\"\\n\")\n",
        "\n",
        "print(\"Model Performance Test: Bias-Variance\")\n",
        "\n",
        "## Bias Variance Test\n",
        "r2_mc_train=regressor.score(X_train,y_train)\n",
        "print(\"Training_r2=\",r2_mc_train)\n",
        "\n",
        "r2_mc_test=regressor.score(X_test,y_test)\n",
        "print(\"Test_r2=\",r2_mc_test)\n",
        "\n",
        "print(\"\\n\")\n",
        "\n",
        "print(\"Model Performance Test: MultiCollinearity\")\n",
        "\n",
        "## Do a multicollinearity test\n",
        "vif_train=1/(1-r2_mc_train) ## to determine multi collinearity. Greater than 5 means very high multi collinearity\n",
        "print(\"VIF Train:\",vif_train)\n",
        "\n",
        "vif_test=1/(1-r2_mc_test) ## to determine multi collinearity. Greater than 5 means very high multi collinearity\n",
        "print(\"VIF Test:\",vif_test)"
      ],
      "execution_count": 0,
      "outputs": [
        {
          "output_type": "stream",
          "text": [
            "MAE: 755.6939275221364\n",
            "MSE: 1193679.0221217012\n",
            "RMSE: 1092.5561871692005\n",
            "\n",
            "\n",
            "Model Performance Test: In terms of Cross validation\n",
            "Explained Variance Score: 59.61232508307983\n",
            "Cross val Mean Abs Error: -760.4726984652139\n",
            "Cross Val Explained Variance: 59.77313215518066\n",
            "\n",
            "\n",
            "Model Performance Test: In terms of r2\n",
            "r2: 0.5960888673624368\n",
            "\n",
            "\n",
            "Model Performance Test: Bias-Variance\n",
            "Training_r2= 0.6347994499858096\n",
            "Test_r2= 0.5960888673624369\n",
            "\n",
            "\n",
            "Model Performance Test: MultiCollinearity\n",
            "VIF Train: 2.7382215058579282\n",
            "VIF Test: 2.4757921215737286\n"
          ],
          "name": "stdout"
        }
      ]
    },
    {
      "metadata": {
        "id": "-b1e7b_M4zI2",
        "colab_type": "code",
        "colab": {}
      },
      "cell_type": "code",
      "source": [
        ""
      ],
      "execution_count": 0,
      "outputs": []
    }
  ]
}